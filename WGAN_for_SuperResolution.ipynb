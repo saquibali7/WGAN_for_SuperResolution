{
  "nbformat": 4,
  "nbformat_minor": 0,
  "metadata": {
    "colab": {
      "name": "WGAN_for_SuperResolution.ipynb",
      "provenance": [],
      "collapsed_sections": [],
      "include_colab_link": true
    },
    "kernelspec": {
      "name": "python3",
      "display_name": "Python 3"
    },
    "language_info": {
      "name": "python"
    },
    "accelerator": "GPU",
    "gpuClass": "standard",
    "widgets": {
      "application/vnd.jupyter.widget-state+json": {
        "5112470b7ddd47638a9ddaea1a70596d": {
          "model_module": "@jupyter-widgets/controls",
          "model_name": "VBoxModel",
          "model_module_version": "1.5.0",
          "state": {
            "_dom_classes": [],
            "_model_module": "@jupyter-widgets/controls",
            "_model_module_version": "1.5.0",
            "_model_name": "VBoxModel",
            "_view_count": null,
            "_view_module": "@jupyter-widgets/controls",
            "_view_module_version": "1.5.0",
            "_view_name": "VBoxView",
            "box_style": "",
            "children": [
              "IPY_MODEL_401eae4d27dd4241a72fbd96a7bd8c6d",
              "IPY_MODEL_5adfbd9d0ee74ddba1f8aec63c63d6bf"
            ],
            "layout": "IPY_MODEL_041fdfb907014c05beb3babba23bc46a"
          }
        },
        "401eae4d27dd4241a72fbd96a7bd8c6d": {
          "model_module": "@jupyter-widgets/controls",
          "model_name": "LabelModel",
          "model_module_version": "1.5.0",
          "state": {
            "_dom_classes": [],
            "_model_module": "@jupyter-widgets/controls",
            "_model_module_version": "1.5.0",
            "_model_name": "LabelModel",
            "_view_count": null,
            "_view_module": "@jupyter-widgets/controls",
            "_view_module_version": "1.5.0",
            "_view_name": "LabelView",
            "description": "",
            "description_tooltip": null,
            "layout": "IPY_MODEL_ddf88fcf0eff42fa9704389a1d40938b",
            "placeholder": "​",
            "style": "IPY_MODEL_4eebe6a5b9a04f34a19a1cfa081d9570",
            "value": "0.008 MB of 0.008 MB uploaded (0.000 MB deduped)\r"
          }
        },
        "5adfbd9d0ee74ddba1f8aec63c63d6bf": {
          "model_module": "@jupyter-widgets/controls",
          "model_name": "FloatProgressModel",
          "model_module_version": "1.5.0",
          "state": {
            "_dom_classes": [],
            "_model_module": "@jupyter-widgets/controls",
            "_model_module_version": "1.5.0",
            "_model_name": "FloatProgressModel",
            "_view_count": null,
            "_view_module": "@jupyter-widgets/controls",
            "_view_module_version": "1.5.0",
            "_view_name": "ProgressView",
            "bar_style": "",
            "description": "",
            "description_tooltip": null,
            "layout": "IPY_MODEL_87ef88d4eb9d4294883aa9c671a2f2c1",
            "max": 1,
            "min": 0,
            "orientation": "horizontal",
            "style": "IPY_MODEL_756ea775babe4646a98e605cc0bd1091",
            "value": 1
          }
        },
        "041fdfb907014c05beb3babba23bc46a": {
          "model_module": "@jupyter-widgets/base",
          "model_name": "LayoutModel",
          "model_module_version": "1.2.0",
          "state": {
            "_model_module": "@jupyter-widgets/base",
            "_model_module_version": "1.2.0",
            "_model_name": "LayoutModel",
            "_view_count": null,
            "_view_module": "@jupyter-widgets/base",
            "_view_module_version": "1.2.0",
            "_view_name": "LayoutView",
            "align_content": null,
            "align_items": null,
            "align_self": null,
            "border": null,
            "bottom": null,
            "display": null,
            "flex": null,
            "flex_flow": null,
            "grid_area": null,
            "grid_auto_columns": null,
            "grid_auto_flow": null,
            "grid_auto_rows": null,
            "grid_column": null,
            "grid_gap": null,
            "grid_row": null,
            "grid_template_areas": null,
            "grid_template_columns": null,
            "grid_template_rows": null,
            "height": null,
            "justify_content": null,
            "justify_items": null,
            "left": null,
            "margin": null,
            "max_height": null,
            "max_width": null,
            "min_height": null,
            "min_width": null,
            "object_fit": null,
            "object_position": null,
            "order": null,
            "overflow": null,
            "overflow_x": null,
            "overflow_y": null,
            "padding": null,
            "right": null,
            "top": null,
            "visibility": null,
            "width": null
          }
        },
        "ddf88fcf0eff42fa9704389a1d40938b": {
          "model_module": "@jupyter-widgets/base",
          "model_name": "LayoutModel",
          "model_module_version": "1.2.0",
          "state": {
            "_model_module": "@jupyter-widgets/base",
            "_model_module_version": "1.2.0",
            "_model_name": "LayoutModel",
            "_view_count": null,
            "_view_module": "@jupyter-widgets/base",
            "_view_module_version": "1.2.0",
            "_view_name": "LayoutView",
            "align_content": null,
            "align_items": null,
            "align_self": null,
            "border": null,
            "bottom": null,
            "display": null,
            "flex": null,
            "flex_flow": null,
            "grid_area": null,
            "grid_auto_columns": null,
            "grid_auto_flow": null,
            "grid_auto_rows": null,
            "grid_column": null,
            "grid_gap": null,
            "grid_row": null,
            "grid_template_areas": null,
            "grid_template_columns": null,
            "grid_template_rows": null,
            "height": null,
            "justify_content": null,
            "justify_items": null,
            "left": null,
            "margin": null,
            "max_height": null,
            "max_width": null,
            "min_height": null,
            "min_width": null,
            "object_fit": null,
            "object_position": null,
            "order": null,
            "overflow": null,
            "overflow_x": null,
            "overflow_y": null,
            "padding": null,
            "right": null,
            "top": null,
            "visibility": null,
            "width": null
          }
        },
        "4eebe6a5b9a04f34a19a1cfa081d9570": {
          "model_module": "@jupyter-widgets/controls",
          "model_name": "DescriptionStyleModel",
          "model_module_version": "1.5.0",
          "state": {
            "_model_module": "@jupyter-widgets/controls",
            "_model_module_version": "1.5.0",
            "_model_name": "DescriptionStyleModel",
            "_view_count": null,
            "_view_module": "@jupyter-widgets/base",
            "_view_module_version": "1.2.0",
            "_view_name": "StyleView",
            "description_width": ""
          }
        },
        "87ef88d4eb9d4294883aa9c671a2f2c1": {
          "model_module": "@jupyter-widgets/base",
          "model_name": "LayoutModel",
          "model_module_version": "1.2.0",
          "state": {
            "_model_module": "@jupyter-widgets/base",
            "_model_module_version": "1.2.0",
            "_model_name": "LayoutModel",
            "_view_count": null,
            "_view_module": "@jupyter-widgets/base",
            "_view_module_version": "1.2.0",
            "_view_name": "LayoutView",
            "align_content": null,
            "align_items": null,
            "align_self": null,
            "border": null,
            "bottom": null,
            "display": null,
            "flex": null,
            "flex_flow": null,
            "grid_area": null,
            "grid_auto_columns": null,
            "grid_auto_flow": null,
            "grid_auto_rows": null,
            "grid_column": null,
            "grid_gap": null,
            "grid_row": null,
            "grid_template_areas": null,
            "grid_template_columns": null,
            "grid_template_rows": null,
            "height": null,
            "justify_content": null,
            "justify_items": null,
            "left": null,
            "margin": null,
            "max_height": null,
            "max_width": null,
            "min_height": null,
            "min_width": null,
            "object_fit": null,
            "object_position": null,
            "order": null,
            "overflow": null,
            "overflow_x": null,
            "overflow_y": null,
            "padding": null,
            "right": null,
            "top": null,
            "visibility": null,
            "width": null
          }
        },
        "756ea775babe4646a98e605cc0bd1091": {
          "model_module": "@jupyter-widgets/controls",
          "model_name": "ProgressStyleModel",
          "model_module_version": "1.5.0",
          "state": {
            "_model_module": "@jupyter-widgets/controls",
            "_model_module_version": "1.5.0",
            "_model_name": "ProgressStyleModel",
            "_view_count": null,
            "_view_module": "@jupyter-widgets/base",
            "_view_module_version": "1.2.0",
            "_view_name": "StyleView",
            "bar_color": null,
            "description_width": ""
          }
        }
      }
    }
  },
  "cells": [
    {
      "cell_type": "markdown",
      "metadata": {
        "id": "view-in-github",
        "colab_type": "text"
      },
      "source": [
        "<a href=\"https://colab.research.google.com/github/saquibali7/WGAN_for_SuperResolution/blob/main/WGAN_for_SuperResolution.ipynb\" target=\"_parent\"><img src=\"https://colab.research.google.com/assets/colab-badge.svg\" alt=\"Open In Colab\"/></a>"
      ]
    },
    {
      "cell_type": "markdown",
      "source": [
        "## Notebook Setup"
      ],
      "metadata": {
        "id": "Qbznc8HgUDjB"
      }
    },
    {
      "cell_type": "code",
      "execution_count": 1,
      "metadata": {
        "id": "1Stn8gJUMDmf",
        "colab": {
          "base_uri": "https://localhost:8080/"
        },
        "outputId": "a2bdab87-76d5-4ce8-f0f3-2d3fc03207a5"
      },
      "outputs": [
        {
          "output_type": "stream",
          "name": "stdout",
          "text": [
            "Cloning into 'SuperResolution-DEMs'...\n",
            "remote: Enumerating objects: 13, done.\u001b[K\n",
            "remote: Counting objects: 100% (13/13), done.\u001b[K\n",
            "remote: Compressing objects: 100% (10/10), done.\u001b[K\n",
            "remote: Total 13 (delta 3), reused 12 (delta 2), pack-reused 0\u001b[K\n",
            "Unpacking objects: 100% (13/13), done.\n"
          ]
        }
      ],
      "source": [
        "!git clone https://github.com/m-abbas-ansari/SuperResolution-DEMs.git"
      ]
    },
    {
      "cell_type": "code",
      "source": [
        "!pip -q install wandb rasterio pytorch-ignite "
      ],
      "metadata": {
        "id": "q61qUg5QMFxL",
        "colab": {
          "base_uri": "https://localhost:8080/"
        },
        "outputId": "d883cf9d-4eee-4713-e072-4b3ff1a28781"
      },
      "execution_count": 2,
      "outputs": [
        {
          "output_type": "stream",
          "name": "stdout",
          "text": [
            "\u001b[K     |████████████████████████████████| 1.8 MB 19.7 MB/s \n",
            "\u001b[K     |████████████████████████████████| 19.3 MB 492 kB/s \n",
            "\u001b[K     |████████████████████████████████| 259 kB 71.2 MB/s \n",
            "\u001b[K     |████████████████████████████████| 181 kB 68.9 MB/s \n",
            "\u001b[K     |████████████████████████████████| 156 kB 70.2 MB/s \n",
            "\u001b[K     |████████████████████████████████| 63 kB 1.7 MB/s \n",
            "\u001b[?25h  Building wheel for pathtools (setup.py) ... \u001b[?25l\u001b[?25hdone\n"
          ]
        }
      ]
    },
    {
      "cell_type": "code",
      "source": [
        "from google.colab import drive\n",
        "drive.mount('./gdrive')"
      ],
      "metadata": {
        "id": "SX3VoptwJh-G",
        "colab": {
          "base_uri": "https://localhost:8080/"
        },
        "outputId": "f2da46f6-2f1d-46c2-c907-cc9f0b926a4e"
      },
      "execution_count": 3,
      "outputs": [
        {
          "output_type": "stream",
          "name": "stdout",
          "text": [
            "Mounted at ./gdrive\n"
          ]
        }
      ]
    },
    {
      "cell_type": "code",
      "source": [
        "!cp -r gdrive/Shareddrives/TeamDriveForJmi/SIH/Dataset/SDEM ."
      ],
      "metadata": {
        "id": "6BCwjDT1MVdn"
      },
      "execution_count": 4,
      "outputs": []
    },
    {
      "cell_type": "code",
      "source": [
        "!cp -r gdrive/Shareddrives/TeamDriveForJmi/SIH/Kernels ."
      ],
      "metadata": {
        "id": "Q_6iOn9jQILf"
      },
      "execution_count": 5,
      "outputs": []
    },
    {
      "cell_type": "markdown",
      "source": [
        "## Setting seed and Importing"
      ],
      "metadata": {
        "id": "NQbqCwuKUPS2"
      }
    },
    {
      "cell_type": "code",
      "source": [
        "import torch\n",
        "torch.manual_seed(0)\n",
        "\n",
        "import random\n",
        "random.seed(0)\n",
        "\n",
        "import numpy as np\n",
        "np.random.seed(0)"
      ],
      "metadata": {
        "id": "5qs-guuKg5W2"
      },
      "execution_count": 6,
      "outputs": []
    },
    {
      "cell_type": "code",
      "source": [
        "#%cd /content/SuperResolution-DEMs"
      ],
      "metadata": {
        "id": "gviiQE47MdFL"
      },
      "execution_count": null,
      "outputs": []
    },
    {
      "cell_type": "code",
      "source": [
        "import numpy as np\n",
        "import os, pdb\n",
        "import argparse\n",
        "#from PIL import Image, ImageEnhance\n",
        "import matplotlib.pyplot as plt\n",
        "import torch\n",
        "import torchvision.transforms as transforms\n",
        "#from torch.utils.data.sampler import SubsetRandomSampler\n",
        "import torch.nn as nn\n",
        "import time\n",
        "import imp\n",
        "import os\n",
        "import cv2\n",
        "import random\n",
        "import numpy as np\n",
        "from functools import partial\n",
        "from matplotlib import pyplot\n",
        "import functools\n",
        "import torch\n",
        "import os\n",
        "import numpy as np\n",
        "import torch.nn as nn\n",
        "import torch.nn.functional as F\n",
        "import torch.nn.init as init\n",
        "from torch.utils.data import Dataset, DataLoader\n",
        "from torchvision import transforms\n",
        "import torchvision\n",
        "from torchvision.utils import make_grid\n",
        "import rasterio as rio\n",
        "import glob\n",
        "import wandb"
      ],
      "metadata": {
        "id": "MqbYScd4Ph47"
      },
      "execution_count": 7,
      "outputs": []
    },
    {
      "cell_type": "code",
      "source": [
        "def load_numpy_files(npy_files):\n",
        "    npy_files = npy_files\n",
        "    demaps = []\n",
        "    for image_path in npy_files:\n",
        "        try:\n",
        "            x = np.load(image_path)\n",
        "            demaps.append(x)\n",
        "        except:\n",
        "            print('FAILED TO READ {} IN GRAYSCALE'.format(image_path))\n",
        "            continue\n",
        "    demaps = np.array(demaps)\n",
        "    demaps = demaps.reshape(len(npy_files),1,demaps.shape[1],demaps.shape[2])\n",
        "    return demaps"
      ],
      "metadata": {
        "id": "iztRtFJBPlBK"
      },
      "execution_count": 20,
      "outputs": []
    },
    {
      "cell_type": "markdown",
      "source": [
        "## Model Definitons"
      ],
      "metadata": {
        "id": "KTRHleLsUnKs"
      }
    },
    {
      "cell_type": "code",
      "source": [
        "def initialize_weights(net_l, scale=1):\n",
        "    if not isinstance(net_l, list):\n",
        "        net_l = [net_l]\n",
        "    for net in net_l:\n",
        "        for m in net.modules():\n",
        "            if isinstance(m, nn.Conv2d):\n",
        "                init.kaiming_normal_(m.weight, a=0, mode='fan_in')\n",
        "                m.weight.data *= scale  # for residual block\n",
        "                if m.bias is not None:\n",
        "                    m.bias.data.zero_()\n",
        "            elif isinstance(m, nn.Linear):\n",
        "                init.kaiming_normal_(m.weight, a=0, mode='fan_in')\n",
        "                m.weight.data *= scale\n",
        "                if m.bias is not None:\n",
        "                    m.bias.data.zero_()\n",
        "            elif isinstance(m, nn.BatchNorm2d):\n",
        "                init.constant_(m.weight, 1)\n",
        "                init.constant_(m.bias.data, 0.0)\n",
        "\n",
        "\n",
        "def make_layer(block, n_layers):\n",
        "    layers = []\n",
        "    for _ in range(n_layers):\n",
        "        layers.append(block())\n",
        "    return nn.Sequential(*layers)\n",
        "\n",
        "class ResidualDenseBlock_5C(nn.Module):\n",
        "    def __init__(self, nf=64, gc=32, bias=True):\n",
        "        super(ResidualDenseBlock_5C, self).__init__()\n",
        "        # gc: growth channel, i.e. intermediate channels\n",
        "        self.conv1 = nn.Conv2d(nf, gc, 3, 1, 1, bias=bias)\n",
        "        self.conv2 = nn.Conv2d(nf + gc, gc, 3, 1, 1, bias=bias)\n",
        "        self.conv3 = nn.Conv2d(nf + 2 * gc, gc, 3, 1, 1, bias=bias)\n",
        "        self.conv4 = nn.Conv2d(nf + 3 * gc, gc, 3, 1, 1, bias=bias)\n",
        "        self.conv5 = nn.Conv2d(nf + 4 * gc, nf, 3, 1, 1, bias=bias)\n",
        "        self.lrelu = nn.LeakyReLU(negative_slope=0.2, inplace=True)\n",
        "\n",
        "        # initialization\n",
        "        initialize_weights([self.conv1, self.conv2, self.conv3, self.conv4, self.conv5], 0.1)\n",
        "\n",
        "    def forward(self, x):\n",
        "        x1 = self.lrelu(self.conv1(x))\n",
        "        x2 = self.lrelu(self.conv2(torch.cat((x, x1), 1)))\n",
        "        x3 = self.lrelu(self.conv3(torch.cat((x, x1, x2), 1)))\n",
        "        x4 = self.lrelu(self.conv4(torch.cat((x, x1, x2, x3), 1)))\n",
        "        x5 = self.conv5(torch.cat((x, x1, x2, x3, x4), 1))\n",
        "        return x5 * 0.2 + x\n",
        "\n",
        "class RRDB(nn.Module):\n",
        "    '''Residual in Residual Dense Block'''\n",
        "\n",
        "    def __init__(self, nf, gc=32):\n",
        "        super(RRDB, self).__init__()\n",
        "        self.RDB1 = ResidualDenseBlock_5C(nf, gc)\n",
        "        self.RDB2 = ResidualDenseBlock_5C(nf, gc)\n",
        "        self.RDB3 = ResidualDenseBlock_5C(nf, gc)\n",
        "\n",
        "    def forward(self, x):\n",
        "        out = self.RDB1(x)\n",
        "        out = self.RDB2(out)\n",
        "        out = self.RDB3(out)\n",
        "        return out * 0.2 + x\n",
        "\n",
        "class RRDBNet(nn.Module):\n",
        "    def __init__(self, in_nc, out_nc, nf, nb, gc=32): # nb is no of blocks\n",
        "        super(RRDBNet, self).__init__()\n",
        "        RRDB_block_f = functools.partial(RRDB, nf=nf, gc=gc)\n",
        "        self.conv_first = nn.Conv2d(in_nc, nf, 3, 1, 1, bias=True)\n",
        "        self.RRDB_trunk = make_layer(RRDB_block_f, nb)\n",
        "        self.trunk_conv = nn.Conv2d(nf, nf, 3, 1, 1, bias=True)\n",
        "        self.upconv1 = nn.Conv2d(nf, nf, 3, 1, 1, bias=True)\n",
        "        self.upconv2 = nn.Conv2d(nf, nf, 3, 1, 1, bias=True)\n",
        "        self.HRconv = nn.Conv2d(nf, nf, 3, 1, 1, bias=True)\n",
        "        self.conv_last = nn.Sequential(nn.Conv2d(nf, out_nc, 3, 1, 1, bias=True),\n",
        "                                    nn.Tanh())\n",
        "        self.lrelu = nn.LeakyReLU(negative_slope=0.2, inplace=True)\n",
        "\n",
        "    def forward(self, x):\n",
        "        fea = self.conv_first(x)\n",
        "        trunk = self.trunk_conv(self.RRDB_trunk(fea))\n",
        "        fea = fea + trunk\n",
        "        fea = self.lrelu(self.upconv1(F.interpolate(fea, scale_factor=2, mode='nearest')))\n",
        "        fea = self.lrelu(self.upconv2(F.interpolate(fea, scale_factor=2, mode='nearest')))\n",
        "        out = self.conv_last(self.lrelu(self.HRconv(fea)))\n",
        "        out = (out+1.0)/2.0\n",
        "        return out\n",
        "    \n",
        "class Discriminator_VGG_128(nn.Module):\n",
        "    def __init__(self, in_nc, nf):\n",
        "        super(Discriminator_VGG_128, self).__init__()\n",
        "        self.conv0_0 = nn.Conv2d(in_nc, nf, 3, 1, 1, bias=True)\n",
        "        self.conv0_1 = nn.Conv2d(nf, nf, 4, 2, 1, bias=False)\n",
        "        self.in0_1 = nn.InstanceNorm2d(nf, affine=True)\n",
        "        self.conv1_0 = nn.Conv2d(nf, nf * 2, 3, 1, 1, bias=False)\n",
        "        self.in1_0 = nn.InstanceNorm2d(nf * 2, affine=True)\n",
        "        self.conv1_1 = nn.Conv2d(nf * 2, nf * 2, 4, 2, 1, bias=False)\n",
        "        self.in1_1 = nn.InstanceNorm2d(nf * 2, affine=True)\n",
        "        self.conv2_0 = nn.Conv2d(nf * 2, nf * 4, 3, 1, 1, bias=False)\n",
        "        self.in2_0 = nn.InstanceNorm2d(nf * 4, affine=True)\n",
        "        self.conv2_1 = nn.Conv2d(nf * 4, nf * 4, 4, 2, 1, bias=False)\n",
        "        self.in2_1 = nn.InstanceNorm2d(nf * 4, affine=True)\n",
        "        self.conv3_0 = nn.Conv2d(nf * 4, nf * 8, 3, 1, 1, bias=False)\n",
        "        self.in3_0 = nn.InstanceNorm2d(nf * 8, affine=True)\n",
        "        self.conv3_1 = nn.Conv2d(nf * 8, nf * 8, 4, 2, 1, bias=False)\n",
        "        self.in3_1 = nn.InstanceNorm2d(nf * 8, affine=True)\n",
        "        self.conv4_0 = nn.Conv2d(nf * 8, nf * 8, 3, 1, 1, bias=False)\n",
        "        self.in4_0 = nn.InstanceNorm2d(nf * 8, affine=True)\n",
        "        self.conv4_1 = nn.Conv2d(nf * 8, nf * 8, 4, 2, 1, bias=False)\n",
        "        self.in4_1 = nn.InstanceNorm2d(nf * 8, affine=True)\n",
        "        self.lrelu = nn.LeakyReLU(negative_slope=0.2, inplace=True)\n",
        "        self.con5_1 = nn.Conv2d(nf*8, 1, 4, 2, 0)\n",
        "\n",
        "    def forward(self, x):\n",
        "        fea = self.lrelu(self.conv0_0(x))\n",
        "        fea = self.lrelu(self.in0_1(self.conv0_1(fea)))\n",
        "        fea = self.lrelu(self.in1_0(self.conv1_0(fea)))\n",
        "        fea = self.lrelu(self.in1_1(self.conv1_1(fea)))\n",
        "        fea = self.lrelu(self.in2_0(self.conv2_0(fea)))\n",
        "        fea = self.lrelu(self.in2_1(self.conv2_1(fea)))\n",
        "        fea = self.lrelu(self.in3_0(self.conv3_0(fea)))\n",
        "        fea = self.lrelu(self.in3_1(self.conv3_1(fea)))\n",
        "        fea = self.lrelu(self.in4_0(self.conv4_0(fea)))\n",
        "        fea = self.lrelu(self.in4_1(self.conv4_1(fea)))\n",
        "        out = self.con5_1(fea)\n",
        "        \n",
        "        return out"
      ],
      "metadata": {
        "id": "JIrWw3a4Q4ys"
      },
      "execution_count": 21,
      "outputs": []
    },
    {
      "cell_type": "markdown",
      "source": [
        "## Dataset and Loader"
      ],
      "metadata": {
        "id": "II1EtMcYDuOX"
      }
    },
    {
      "cell_type": "code",
      "source": [
        "from scipy.ndimage import correlate\n",
        "\n",
        "def numeric_kernel(im, kernel, scale_factor, output_shape):\n",
        "    # First run a correlation (convolution with flipped kernel)\n",
        "    out_im = np.zeros_like(im)\n",
        "    out_im = correlate(im, kernel)\n",
        "    # print(out_im.shape)\n",
        "    #print(np.round(np.linspace(0, im.shape[0] - 1 / scale_factor[0], output_shape[0])).astype(int)[:, None].shape)\n",
        "    # Then subsample and return\n",
        "    return out_im[np.round(np.linspace(0, im.shape[0] - 1 / scale_factor[0], output_shape[0])).astype(int)[:, None],\n",
        "           np.round(np.linspace(0, im.shape[1] - 1 / scale_factor[1], output_shape[1])).astype(int)]"
      ],
      "metadata": {
        "id": "ySRZ61a0ES_U"
      },
      "execution_count": 22,
      "outputs": []
    },
    {
      "cell_type": "code",
      "source": [
        "def normalize(im):\n",
        "    MIN_H = -500.0\n",
        "    MAX_H = 10000.0\n",
        "    return (im - MIN_H)/(MAX_H-MIN_H)"
      ],
      "metadata": {
        "id": "IsNorUHcEUo5"
      },
      "execution_count": 23,
      "outputs": []
    },
    {
      "cell_type": "code",
      "source": [
        "from scipy.io import loadmat\n",
        "\n",
        "class DemDataset(Dataset):\n",
        "    \"\"\"DEM dataset.\"\"\"\n",
        "\n",
        "    def __init__(self, root_dir, kernel_dir, transform=None):\n",
        "        \"\"\"\n",
        "        Args:\n",
        "            root_dir (string): Directory with all the DEMs.\n",
        "            kernel_dir (string): Directory with all the kernel DEMs.\n",
        "            transform (callable, optional): Optional transform to be applied\n",
        "                on a sample.\n",
        "        \"\"\"\n",
        "        self.root_dir = root_dir\n",
        "        self.transform = transform\n",
        "        dem_list = glob.glob(root_dir + '/*.asc')\n",
        "        print(dem_list)\n",
        "        self.dems = [normalize(rio.open(dem).read(1).astype('float')) for dem in dem_list] \n",
        "        \n",
        "        kernel_list = glob.glob(kernel_dir + '/*.mat')\n",
        "        print(kernel_list)\n",
        "        self.kernels = [loadmat(k)[\"Kernel\"] for k in kernel_list]\n",
        "\n",
        "    def __len__(self):\n",
        "        return len(self.dems)\n",
        "\n",
        "    def __getitem__(self, idx):\n",
        "        if torch.is_tensor(idx):\n",
        "            idx = idx.tolist()\n",
        "        k = self.kernels[np.random.randint(0, len(self.kernels))]\n",
        "        im = self.dems[idx]\n",
        "        HR = self.RandomCrop(im, 512).astype(np.float32)\n",
        "        LR = numeric_kernel(HR, k, [0.25,0.25], (128, 128)).astype(np.float32) \n",
        "\n",
        "        if self.transform:\n",
        "            HR = self.transform(HR)\n",
        "            LR = self.transform(LR)\n",
        "            \n",
        "        sample = {'HR': HR, 'LR': LR}        \n",
        "        return sample\n",
        "    \n",
        "    \n",
        "    def RandomCrop(self,image, output_size):\n",
        "        h, w = image.shape[:2]\n",
        "        new_h, new_w = (output_size, output_size)\n",
        "\n",
        "        top = np.random.randint(0, h - new_h)\n",
        "        left = np.random.randint(0, w - new_w)\n",
        "        image = image[top: top + new_h, left: left + new_w]\n",
        "\n",
        "        return image"
      ],
      "metadata": {
        "id": "bYph6yJPD0Ii"
      },
      "execution_count": 24,
      "outputs": []
    },
    {
      "cell_type": "code",
      "source": [
        "data = DemDataset(\"SDEM\", \"Kernels/results\", transform = transforms.Compose([transforms.ToTensor()]))"
      ],
      "metadata": {
        "id": "ilCpzg-UEy1o",
        "colab": {
          "base_uri": "https://localhost:8080/"
        },
        "outputId": "1bb44cb4-93eb-4475-de27-368801d56f57"
      },
      "execution_count": 25,
      "outputs": [
        {
          "output_type": "stream",
          "name": "stdout",
          "text": [
            "['SDEM/Valdez_7.5m.asc', 'SDEM/Gore_Range_Albers_30m.asc', 'SDEM/Kilauea.asc', 'SDEM/Churfirsten_250m.asc', 'SDEM/Valdez_2000m.asc', 'SDEM/Massanutten.asc', 'SDEM/Bryce_Canyon.asc', 'SDEM/Valdez_15m.asc', 'SDEM/Gore_Range_Albers_5m.asc', 'SDEM/Gore_Range_Albers_250m.asc', 'SDEM/Gore_Range_Albers_2000m.asc', 'SDEM/Valdez 1000m.asc', 'SDEM/Gore_Range_Albers_1m.asc', 'SDEM/Churfirsten_60m.asc', 'SDEM/Valdez_90m.asc', 'SDEM/Jackson_Hole.asc', 'SDEM/Gore_Range_Albers_15m.asc', 'SDEM/Valdez_500m.asc', 'SDEM/Churfirsten_1000m.asc', 'SDEM/Gore_Range_Albers_1000m.asc', 'SDEM/Sand_Hills.asc', 'SDEM/Churfirsten_120m.asc', 'SDEM/Churfirsten_2000m.asc', 'SDEM/Churfirsten_500m.asc', 'SDEM/Churfirsten_30m.asc', 'SDEM/Valdez_250m.asc', 'SDEM/Valdez_3.3m.asc', 'SDEM/Gore_Range_Albers_500m.asc', 'SDEM/Gore_Range_Albers_90m.asc', 'SDEM/Crater_Lake.asc', 'SDEM/Valdez_30m.asc', 'SDEM/Gore_Range_Albers_2500m.asc', 'SDEM/Gore_Range_Albers_5000m.asc', 'SDEM/Kocevje_Rog.asc', 'SDEM/Great_Sand_Dunes.asc']\n",
            "['Kernels/results/Sand_Hills_kernel_x4.mat', 'Kernels/results/Valdez_250m_kernel_x2.mat', 'Kernels/results/Valdez_500m_kernel_x4.mat', 'Kernels/results/Churfirsten_250m_kernel_x4.mat', 'Kernels/results/Gore_Range_Albers_2500m_kernel_x4.mat', 'Kernels/results/Valdez_15m_kernel_x4.mat', 'Kernels/results/Gore_Range_Albers_5m_kernel_x2.mat', 'Kernels/results/Churfirsten_1000m_kernel_x2.mat', 'Kernels/results/Gore_Range_Albers_5000m_kernel_x4.mat', 'Kernels/results/Gore_Range_Albers_5m_kernel_x4.mat', 'Kernels/results/Gore_Range_Albers_2000m_kernel_x4.mat', 'Kernels/results/Gore_Range_Albers_500m_kernel_x4.mat', 'Kernels/results/Churfirsten_2000m_kernel_x2.mat', 'Kernels/results/Gore_Range_Albers_90m_kernel_x4.mat', 'Kernels/results/Valdez_90m_kernel_x2.mat', 'Kernels/results/Gore_Range_Albers_1000m_kernel_x2.mat', 'Kernels/results/Gore_Range_Albers_2000m_kernel_x2.mat', 'Kernels/results/Kocevje_Rog_kernel_x4.mat', 'Kernels/results/Crater_Lake_kernel_x4.mat', 'Kernels/results/Churfirsten_2000m_kernel_x4.mat', 'Kernels/results/Kocevje_Rog_kernel_x2.mat', 'Kernels/results/Bryce_Canyon_kernel_x4.mat', 'Kernels/results/Valdez 1000m_kernel_x2.mat', 'Kernels/results/Gore_Range_Albers_500m_kernel_x2.mat', 'Kernels/results/Valdez_15m_kernel_x2.mat', 'Kernels/results/Churfirsten_60m_kernel_x4.mat', 'Kernels/results/Valdez_2000m_kernel_x4.mat', 'Kernels/results/Gore_Range_Albers_250m_kernel_x4.mat', 'Kernels/results/Valdez_90m_kernel_x4.mat', 'Kernels/results/Gore_Range_Albers_1000m_kernel_x4.mat', 'Kernels/results/Great_Sand_Dunes_kernel_x2.mat', 'Kernels/results/Churfirsten_120m_kernel_x2.mat', 'Kernels/results/Gore_Range_Albers_15m_kernel_x4.mat', 'Kernels/results/Jackson_Hole_kernel_x2.mat', 'Kernels/results/Churfirsten_30m_kernel_x4.mat', 'Kernels/results/Crater_Lake_kernel_x2.mat', 'Kernels/results/Kilauea_kernel_x4.mat', 'Kernels/results/Churfirsten_30m_kernel_x2.mat', 'Kernels/results/Gore_Range_Albers_90m_kernel_x2.mat', 'Kernels/results/Sand_Hills_kernel_x2.mat', 'Kernels/results/Bryce_Canyon_kernel_x2.mat', 'Kernels/results/Gore_Range_Albers_30m_kernel_x4.mat', 'Kernels/results/Valdez_30m_kernel_x2.mat', 'Kernels/results/Churfirsten_60m_kernel_x2.mat', 'Kernels/results/Valdez_3_kernel_x4.mat', 'Kernels/results/Gore_Range_Albers_250m_kernel_x2.mat', 'Kernels/results/Gore_Range_Albers_15m_kernel_x2.mat', 'Kernels/results/Great_Sand_Dunes_kernel_x4.mat', 'Kernels/results/Valdez_7_kernel_x2.mat', 'Kernels/results/Valdez_250m_kernel_x4.mat', 'Kernels/results/Kilauea_kernel_x2.mat', 'Kernels/results/Valdez 1000m_kernel_x4.mat', 'Kernels/results/Valdez_500m_kernel_x2.mat', 'Kernels/results/Churfirsten_500m_kernel_x2.mat', 'Kernels/results/Gore_Range_Albers_5000m_kernel_x2.mat', 'Kernels/results/Churfirsten_250m_kernel_x2.mat', 'Kernels/results/Valdez_3_kernel_x2.mat', 'Kernels/results/Churfirsten_1000m_kernel_x4.mat', 'Kernels/results/Gore_Range_Albers_2500m_kernel_x2.mat', 'Kernels/results/Gore_Range_Albers_1m_kernel_x2.mat', 'Kernels/results/Valdez_2000m_kernel_x2.mat', 'Kernels/results/Churfirsten_500m_kernel_x4.mat', 'Kernels/results/Valdez_30m_kernel_x4.mat', 'Kernels/results/Churfirsten_120m_kernel_x4.mat', 'Kernels/results/Valdez_7_kernel_x4.mat', 'Kernels/results/Jackson_Hole_kernel_x4.mat', 'Kernels/results/Massanutten_kernel_x2.mat', 'Kernels/results/Massanutten_kernel_x4.mat', 'Kernels/results/Gore_Range_Albers_30m_kernel_x2.mat', 'Kernels/results/Gore_Range_Albers_1m_kernel_x4.mat']\n"
          ]
        }
      ]
    },
    {
      "cell_type": "code",
      "source": [
        "dl = DataLoader(dataset=data, batch_size=8, shuffle=True)"
      ],
      "metadata": {
        "id": "JdTikJ9qJmKc"
      },
      "execution_count": 26,
      "outputs": []
    },
    {
      "cell_type": "code",
      "source": [
        "len(dl)"
      ],
      "metadata": {
        "id": "c18cSlMsJoAT",
        "colab": {
          "base_uri": "https://localhost:8080/"
        },
        "outputId": "b12aac52-2a7a-41c8-fa0e-e70ea4eb0d5e"
      },
      "execution_count": 27,
      "outputs": [
        {
          "output_type": "execute_result",
          "data": {
            "text/plain": [
              "5"
            ]
          },
          "metadata": {},
          "execution_count": 27
        }
      ]
    },
    {
      "cell_type": "code",
      "source": [
        "val_lr = []\n",
        "val_hr = []\n",
        "for i, batch in enumerate(dl):\n",
        "  val_lr.append(batch['LR'])\n",
        "  val_hr.append(batch['HR'])\n",
        "  if i == 2:\n",
        "    break"
      ],
      "metadata": {
        "id": "DpAmXrIZJpzm"
      },
      "execution_count": 28,
      "outputs": []
    },
    {
      "cell_type": "code",
      "source": [
        "for lr, hr in zip(val_lr, val_hr):\n",
        "  print(lr.shape, hr.shape)"
      ],
      "metadata": {
        "colab": {
          "base_uri": "https://localhost:8080/"
        },
        "id": "sX9xhuHdbGyx",
        "outputId": "249a3296-4a5d-409f-bf58-292a6cb3e7fc"
      },
      "execution_count": 29,
      "outputs": [
        {
          "output_type": "stream",
          "name": "stdout",
          "text": [
            "torch.Size([8, 1, 128, 128]) torch.Size([8, 1, 512, 512])\n",
            "torch.Size([8, 1, 128, 128]) torch.Size([8, 1, 512, 512])\n",
            "torch.Size([8, 1, 128, 128]) torch.Size([8, 1, 512, 512])\n"
          ]
        }
      ]
    },
    {
      "cell_type": "code",
      "source": [
        "\n",
        "len(val_lr)"
      ],
      "metadata": {
        "colab": {
          "base_uri": "https://localhost:8080/"
        },
        "id": "HopNFN-eT4_g",
        "outputId": "da9c740f-97e4-416a-8306-2eff58d2c874"
      },
      "execution_count": 30,
      "outputs": [
        {
          "output_type": "execute_result",
          "data": {
            "text/plain": [
              "3"
            ]
          },
          "metadata": {},
          "execution_count": 30
        }
      ]
    },
    {
      "cell_type": "code",
      "source": [
        "import numpy as np"
      ],
      "metadata": {
        "id": "f1YhbMgfHdpK"
      },
      "execution_count": 32,
      "outputs": []
    },
    {
      "cell_type": "code",
      "source": [
        "val_lr.min(), val_lr.max(), val_hr.min(), val_hr.max()"
      ],
      "metadata": {
        "colab": {
          "base_uri": "https://localhost:8080/",
          "height": 171
        },
        "id": "3gczN4tdVakU",
        "outputId": "12563e0a-c6bd-4c24-a8c8-65b3f94e6901"
      },
      "execution_count": 33,
      "outputs": [
        {
          "output_type": "error",
          "ename": "AttributeError",
          "evalue": "ignored",
          "traceback": [
            "\u001b[0;31m---------------------------------------------------------------------------\u001b[0m",
            "\u001b[0;31mAttributeError\u001b[0m                            Traceback (most recent call last)",
            "\u001b[0;32m<ipython-input-33-82c2156a64bd>\u001b[0m in \u001b[0;36m<module>\u001b[0;34m()\u001b[0m\n\u001b[0;32m----> 1\u001b[0;31m \u001b[0mval_lr\u001b[0m\u001b[0;34m.\u001b[0m\u001b[0mmin\u001b[0m\u001b[0;34m(\u001b[0m\u001b[0;34m)\u001b[0m\u001b[0;34m,\u001b[0m \u001b[0mval_lr\u001b[0m\u001b[0;34m.\u001b[0m\u001b[0mmax\u001b[0m\u001b[0;34m(\u001b[0m\u001b[0;34m)\u001b[0m\u001b[0;34m,\u001b[0m \u001b[0mval_hr\u001b[0m\u001b[0;34m.\u001b[0m\u001b[0mmin\u001b[0m\u001b[0;34m(\u001b[0m\u001b[0;34m)\u001b[0m\u001b[0;34m,\u001b[0m \u001b[0mval_hr\u001b[0m\u001b[0;34m.\u001b[0m\u001b[0mmax\u001b[0m\u001b[0;34m(\u001b[0m\u001b[0;34m)\u001b[0m\u001b[0;34m\u001b[0m\u001b[0;34m\u001b[0m\u001b[0m\n\u001b[0m",
            "\u001b[0;31mAttributeError\u001b[0m: 'list' object has no attribute 'min'"
          ]
        }
      ]
    },
    {
      "cell_type": "code",
      "source": [
        "from rasterio.plot import show\n",
        "import matplotlib.pyplot as plt\n",
        "\n",
        "dem_array = val_lr[0][0].numpy().squeeze()\n",
        " \n",
        "fig, ax = plt.subplots(1, figsize=(6, 6))\n",
        "show(dem_array, cmap='Greys_r', ax=ax)\n",
        "plt.show()"
      ],
      "metadata": {
        "colab": {
          "base_uri": "https://localhost:8080/",
          "height": 377
        },
        "id": "V91OOj6fKZ2-",
        "outputId": "19d53ffb-6f52-4625-db64-901f4be761b0"
      },
      "execution_count": 37,
      "outputs": [
        {
          "output_type": "display_data",
          "data": {
            "text/plain": [
              "<Figure size 432x432 with 1 Axes>"
            ],
            "image/png": "[encoded data removed]"
          },
          "metadata": {
            "needs_background": "light"
          }
        }
      ]
    },
    {
      "cell_type": "code",
      "source": [
        "from ignite.metrics import PSNR,SSIM\n",
        "from ignite.engine import Engine\n",
        "# from imresize import numeric_kernel\n",
        "\n",
        "def eval_step(engine, batch): \n",
        "    return batch \n",
        "def calculate_error(img1,img2):\n",
        "    \n",
        "    default_evaluator = Engine(eval_step)\n",
        "    # calculating PSNR \n",
        "    y1 = img1.to(\"cuda\")\n",
        "    y2 = img2.to(\"cuda\")\n",
        "    psnr = PSNR(data_range=1)\n",
        "    psnr.attach(default_evaluator,'psnr')\n",
        "    state1 = default_evaluator.run([[y1,y2]])\n",
        "    # print(f\"PSNR :{state1.metrics['psnr']}\")\n",
        "\n",
        "    # # calculating SSIM\n",
        "    y1,y2 = torch.tensor(y1,dtype=torch.float32),torch.tensor(y2,dtype=torch.float32)\n",
        "    metric = SSIM(data_range=1)\n",
        "    metric.attach(default_evaluator, 'ssim')\n",
        "    state2 = default_evaluator.run([[y1, y2]])\n",
        "\n",
        "\n",
        "    # print(f\"SSIM : {state2.metrics['ssim']}\")\n",
        "    return state1.metrics['psnr'],state2.metrics['ssim']"
      ],
      "metadata": {
        "id": "aJ191jQYUsEX"
      },
      "execution_count": 38,
      "outputs": []
    },
    {
      "cell_type": "markdown",
      "source": [
        "## Model parameters "
      ],
      "metadata": {
        "id": "OQsLOikvU_fz"
      }
    },
    {
      "cell_type": "code",
      "source": [
        "generator = RRDBNet(1, 1, 64, 4)\n",
        "generator = generator.to(\"cuda\")\n",
        "discriminator = Discriminator_VGG_128(1,64)\n",
        "discriminator = discriminator.to(\"cuda\")\n",
        "\n",
        "optim_G = torch.optim.Adam(generator.parameters(), lr=0.0001)\n",
        "optim_D = torch.optim.Adam(discriminator.parameters(), lr=0.0001)\n",
        "# LR Scheduling"
      ],
      "metadata": {
        "id": "Bmv7yGNqSb68"
      },
      "execution_count": 39,
      "outputs": []
    },
    {
      "cell_type": "code",
      "source": [
        "# del generator\n",
        "# del discriminator"
      ],
      "metadata": {
        "id": "RotnCLbJGQsy"
      },
      "execution_count": 40,
      "outputs": []
    },
    {
      "cell_type": "code",
      "source": [
        "# from numba import cuda\n",
        "# # Clearing GPU RAM\n",
        "# cuda.select_device(0)\n",
        "# cuda.close()"
      ],
      "metadata": {
        "id": "tGh66wuKGcft"
      },
      "execution_count": 41,
      "outputs": []
    },
    {
      "cell_type": "code",
      "source": [
        "! nvidia-smi"
      ],
      "metadata": {
        "id": "5ZLIa-cWGxKk",
        "colab": {
          "base_uri": "https://localhost:8080/"
        },
        "outputId": "df4bb8db-7548-41c0-f9e3-c1cd93b4c855"
      },
      "execution_count": 42,
      "outputs": [
        {
          "output_type": "stream",
          "name": "stdout",
          "text": [
            "Sun Jul 31 16:37:25 2022       \n",
            "+-----------------------------------------------------------------------------+\n",
            "| NVIDIA-SMI 460.32.03    Driver Version: 460.32.03    CUDA Version: 11.2     |\n",
            "|-------------------------------+----------------------+----------------------+\n",
            "| GPU  Name        Persistence-M| Bus-Id        Disp.A | Volatile Uncorr. ECC |\n",
            "| Fan  Temp  Perf  Pwr:Usage/Cap|         Memory-Usage | GPU-Util  Compute M. |\n",
            "|                               |                      |               MIG M. |\n",
            "|===============================+======================+======================|\n",
            "|   0  Tesla T4            Off  | 00000000:00:04.0 Off |                    0 |\n",
            "| N/A   38C    P0    25W /  70W |    676MiB / 15109MiB |      0%      Default |\n",
            "|                               |                      |                  N/A |\n",
            "+-------------------------------+----------------------+----------------------+\n",
            "                                                                               \n",
            "+-----------------------------------------------------------------------------+\n",
            "| Processes:                                                                  |\n",
            "|  GPU   GI   CI        PID   Type   Process name                  GPU Memory |\n",
            "|        ID   ID                                                   Usage      |\n",
            "|=============================================================================|\n",
            "+-----------------------------------------------------------------------------+\n"
          ]
        }
      ]
    },
    {
      "cell_type": "markdown",
      "source": [
        "##Gradient Penalty"
      ],
      "metadata": {
        "id": "vg1A2QMoDrGv"
      }
    },
    {
      "cell_type": "code",
      "source": [
        "\n",
        "\n",
        "def gradient_penalty(discriminator, real, fake, device):\n",
        "  batch_size, c, h, w = real.shape\n",
        "  alpha = torch.randn((batch_size, 1, 1, 1)).repeat(1, c, h, w).to(device)\n",
        "  interplorated_images = real * real + fake.detach() * (1 - alpha)\n",
        "  interplorated_images.requires_grad_(True)\n",
        "\n",
        "  mixed_scores = discriminator(interplorated_images)\n",
        "\n",
        "  gradient = torch.autograd.grad(\n",
        "      inputs = interplorated_images,\n",
        "      outputs = mixed_scores,\n",
        "      grad_outputs = torch.ones_like(mixed_scores),\n",
        "      create_graph = True,\n",
        "      retain_graph = True,\n",
        "  )[0]\n",
        "\n",
        "  gradient = gradient.view(gradient.shape[0], -1)\n",
        "  gradient_norm = gradient.norm(2, dim=1)\n",
        "  gradient_penalty = torch.mean((gradient_norm - 1) ** 2)\n",
        "  return gradient_penalty\n",
        "\n",
        "\n"
      ],
      "metadata": {
        "id": "IDb3aqTZDz9L"
      },
      "execution_count": 46,
      "outputs": []
    },
    {
      "cell_type": "markdown",
      "source": [
        "## Training Loop"
      ],
      "metadata": {
        "id": "LHJeKk57VKNx"
      }
    },
    {
      "cell_type": "code",
      "source": [
        "CRITIC_ITERATION  = 5\n",
        "LAMBDA_GP = 10\n",
        "device = \"cuda\" if torch.cuda.is_available() else \"cpu\"\n",
        "\n",
        "from tqdm import tqdm\n",
        "import wandb\n",
        "\n",
        "wandb.init(project=\"sr-gan\")\n",
        "num_epochs = 250\n",
        "num_train_batches = float(len(dl))\n",
        "num_val_batches = float(len(val_lr))\n",
        "\n",
        "for epoch in range(num_epochs):\n",
        "    print(f\"Epoch {epoch}: \", end =\"\")\n",
        "    \n",
        "    G_adv_loss = 0\n",
        "    G_rec_loss = 0\n",
        "    G_tot_loss = 0\n",
        "    D_adv_loss = 0\n",
        "    \n",
        "    generator.train()\n",
        "    for batch in tqdm(dl):\n",
        "\n",
        "      batch_lr = batch['LR']\n",
        "      batch_hr = batch['HR'] \n",
        "      lr_images = batch_lr.to(\"cuda\")\n",
        "      hr_images = batch_hr.to(\"cuda\")\n",
        "\n",
        "      #training discriminator\n",
        "      for p in discriminator.parameters():\n",
        "        p.requires_grad = True\n",
        "      for _ in range(CRITIC_ITERATION):\n",
        "        predicted_hr_images = generator(lr_images).detach() # avoid back propogation to generator\n",
        "        adv_hr_real = discriminator(hr_images).reshape(-1)\n",
        "        adv_hr_fake = discriminator(predicted_hr_images).reshape(-1)\n",
        "        gp = gradient_penalty(discriminator, hr_images, predicted_hr_images, device)\n",
        "        df_loss = (-(torch.mean(adv_hr_real) - torch.mean(predicted_hr_images)) + LAMBDA_GP * gp)\n",
        "\n",
        "        D_adv_loss += df_loss.item()\n",
        "        optim_D.zero_grad()\n",
        "        df_loss.backward()\n",
        "        optim_D.step()\n",
        "\n",
        "      for p in discriminator.parameters():\n",
        "        p.requires_grad = False\n",
        "        #training generator\n",
        "\n",
        "      predicted_hr_images = generator(lr_images)\n",
        "      predicted_hr_labels = discriminator(predicted_hr_images).reshape(-1)\n",
        "      gf_loss = -torch.mean(predicted_hr_labels) #adverserial loss\n",
        "      # reconstruction loss\n",
        "      \n",
        "      gr_loss = 100*F.l1_loss(predicted_hr_images, hr_images) # L1 loss\n",
        "      # gr_loss = 100*F.mse_loss(predicted_hr_images, hr_images) # L2 loss\n",
        "      g_loss = gf_loss + gr_loss\n",
        "\n",
        "      G_adv_loss += gf_loss.item()\n",
        "      G_rec_loss += gr_loss.item()\n",
        "      G_tot_loss += g_loss.item()\n",
        "      \n",
        "      optim_G.zero_grad()\n",
        "      g_loss.backward()\n",
        "      optim_G.step()  \n",
        "    \n",
        "    wandb.log({\"G Adversarial Loss\": G_adv_loss/num_train_batches, 'epoch':epoch })\n",
        "    wandb.log({\"G Reconstruction Loss\": G_rec_loss/num_train_batches, 'epoch':epoch })\n",
        "    wandb.log({\"G Loss Total\": G_tot_loss/num_train_batches, 'epoch':epoch })\n",
        "    wandb.log({\"D Adversarial Loss\": D_adv_loss/num_train_batches, 'epoch':epoch })\n",
        "\n",
        "\n",
        "    #After each epoch, we perform validation\n",
        "    with torch.inference_mode():\n",
        "      val_psnr = 0\n",
        "      val_ssim = 0\n",
        "      for batch_idx, (lr, hr) in enumerate(zip(val_lr, val_hr)):\n",
        "        lr = lr.to(\"cuda\")\n",
        "        hr = hr.to(\"cuda\")\n",
        "        predicted_hr = generator(lr)\n",
        "\n",
        "        psnr, ssim = calculate_error(hr, predicted_hr)\n",
        "        val_psnr += psnr\n",
        "        val_ssim += ssim\n",
        "\n",
        "        grid1 = make_grid(lr)\n",
        "        grid2 = make_grid(hr)\n",
        "        grid3 = make_grid(predicted_hr)\n",
        "        grid1 = wandb.Image(grid1, caption=\"Low Resolution Image\")\n",
        "        grid2 = wandb.Image(grid2, caption=\"High Resolution Image\")\n",
        "        grid3 = wandb.Image(grid3, caption=\"Reconstructed High Resolution Image\")\n",
        "        wandb.log({\"Original LR\": grid1})\n",
        "        wandb.log({\"Original HR\": grid2})\n",
        "        wandb.log({\"Reconstruced\": grid3})\n",
        "    \n",
        "    val_psnr /= num_val_batches\n",
        "    val_ssim /= num_val_batches\n",
        "    wandb.log({\"PSNR\" : val_psnr, 'epoch':epoch })\n",
        "    wandb.log({\"SSIM\" : val_ssim, 'epoch':epoch })\n",
        "    print(f\"PSNR: {val_psnr:.3f} SSIM: {val_ssim:.3f}\\n\")"
      ],
      "metadata": {
        "id": "QorjeamsSmzX",
        "colab": {
          "base_uri": "https://localhost:8080/",
          "height": 833,
          "referenced_widgets": [
            "5112470b7ddd47638a9ddaea1a70596d",
            "401eae4d27dd4241a72fbd96a7bd8c6d",
            "5adfbd9d0ee74ddba1f8aec63c63d6bf",
            "041fdfb907014c05beb3babba23bc46a",
            "ddf88fcf0eff42fa9704389a1d40938b",
            "4eebe6a5b9a04f34a19a1cfa081d9570",
            "87ef88d4eb9d4294883aa9c671a2f2c1",
            "756ea775babe4646a98e605cc0bd1091"
          ]
        },
        "outputId": "acb0b4a1-3c46-477b-92a0-5de304ad7b87"
      },
      "execution_count": null,
      "outputs": [
        {
          "output_type": "display_data",
          "data": {
            "text/plain": [
              "<IPython.core.display.HTML object>"
            ],
            "text/html": [
              "Finishing last run (ID:2imfcsh6) before initializing another..."
            ]
          },
          "metadata": {}
        },
        {
          "output_type": "display_data",
          "data": {
            "text/plain": [
              "<IPython.core.display.HTML object>"
            ],
            "text/html": [
              "Waiting for W&B process to finish... <strong style=\"color:green\">(success).</strong>"
            ]
          },
          "metadata": {}
        },
        {
          "output_type": "display_data",
          "data": {
            "text/plain": [
              "VBox(children=(Label(value='0.001 MB of 0.001 MB uploaded (0.000 MB deduped)\\r'), FloatProgress(value=1.0, max…"
            ],
            "application/vnd.jupyter.widget-view+json": {
              "version_major": 2,
              "version_minor": 0,
              "model_id": "5112470b7ddd47638a9ddaea1a70596d"
            }
          },
          "metadata": {}
        },
        {
          "output_type": "display_data",
          "data": {
            "text/plain": [
              "<IPython.core.display.HTML object>"
            ],
            "text/html": [
              "Synced <strong style=\"color:#cdcd00\">visionary-rain-4</strong>: <a href=\"https://wandb.ai/saquibali7/sr-gan/runs/2imfcsh6\" target=\"_blank\">https://wandb.ai/saquibali7/sr-gan/runs/2imfcsh6</a><br/>Synced 5 W&B file(s), 0 media file(s), 0 artifact file(s) and 0 other file(s)"
            ]
          },
          "metadata": {}
        },
        {
          "output_type": "display_data",
          "data": {
            "text/plain": [
              "<IPython.core.display.HTML object>"
            ],
            "text/html": [
              "Find logs at: <code>./wandb/run-20220731_164138-2imfcsh6/logs</code>"
            ]
          },
          "metadata": {}
        },
        {
          "output_type": "display_data",
          "data": {
            "text/plain": [
              "<IPython.core.display.HTML object>"
            ],
            "text/html": [
              "Successfully finished last run (ID:2imfcsh6). Initializing new run:<br/>"
            ]
          },
          "metadata": {}
        },
        {
          "output_type": "display_data",
          "data": {
            "text/plain": [
              "<IPython.core.display.HTML object>"
            ],
            "text/html": [
              "Tracking run with wandb version 0.12.21"
            ]
          },
          "metadata": {}
        },
        {
          "output_type": "display_data",
          "data": {
            "text/plain": [
              "<IPython.core.display.HTML object>"
            ],
            "text/html": [
              "Run data is saved locally in <code>/content/wandb/run-20220731_164341-28pino1d</code>"
            ]
          },
          "metadata": {}
        },
        {
          "output_type": "display_data",
          "data": {
            "text/plain": [
              "<IPython.core.display.HTML object>"
            ],
            "text/html": [
              "Syncing run <strong><a href=\"https://wandb.ai/saquibali7/sr-gan/runs/28pino1d\" target=\"_blank\">breezy-glade-5</a></strong> to <a href=\"https://wandb.ai/saquibali7/sr-gan\" target=\"_blank\">Weights & Biases</a> (<a href=\"https://wandb.me/run\" target=\"_blank\">docs</a>)<br/>"
            ]
          },
          "metadata": {}
        },
        {
          "output_type": "stream",
          "name": "stdout",
          "text": [
            "Epoch 0: "
          ]
        },
        {
          "output_type": "stream",
          "name": "stderr",
          "text": [
            "100%|██████████| 5/5 [01:23<00:00, 16.62s/it]\n",
            "/usr/local/lib/python3.7/dist-packages/ipykernel_launcher.py:19: UserWarning: To copy construct from a tensor, it is recommended to use sourceTensor.clone().detach() or sourceTensor.clone().detach().requires_grad_(True), rather than torch.tensor(sourceTensor).\n"
          ]
        },
        {
          "output_type": "stream",
          "name": "stdout",
          "text": [
            "PSNR: 11.654 SSIM: 0.553\n",
            "\n",
            "Epoch 1: "
          ]
        },
        {
          "output_type": "stream",
          "name": "stderr",
          "text": [
            "100%|██████████| 5/5 [01:23<00:00, 16.75s/it]\n"
          ]
        },
        {
          "output_type": "stream",
          "name": "stdout",
          "text": [
            "PSNR: 16.336 SSIM: 0.634\n",
            "\n",
            "Epoch 2: "
          ]
        },
        {
          "output_type": "stream",
          "name": "stderr",
          "text": [
            "100%|██████████| 5/5 [01:24<00:00, 16.83s/it]\n"
          ]
        },
        {
          "output_type": "stream",
          "name": "stdout",
          "text": [
            "PSNR: 19.428 SSIM: 0.668\n",
            "\n",
            "Epoch 3: "
          ]
        },
        {
          "output_type": "stream",
          "name": "stderr",
          "text": [
            "100%|██████████| 5/5 [01:23<00:00, 16.68s/it]\n"
          ]
        },
        {
          "output_type": "stream",
          "name": "stdout",
          "text": [
            "PSNR: 19.463 SSIM: 0.621\n",
            "\n",
            "Epoch 4: "
          ]
        },
        {
          "output_type": "stream",
          "name": "stderr",
          "text": [
            "100%|██████████| 5/5 [01:22<00:00, 16.53s/it]\n"
          ]
        },
        {
          "output_type": "stream",
          "name": "stdout",
          "text": [
            "PSNR: 20.667 SSIM: 0.734\n",
            "\n",
            "Epoch 5: "
          ]
        },
        {
          "output_type": "stream",
          "name": "stderr",
          "text": [
            "100%|██████████| 5/5 [01:22<00:00, 16.49s/it]\n"
          ]
        },
        {
          "output_type": "stream",
          "name": "stdout",
          "text": [
            "PSNR: 20.593 SSIM: 0.728\n",
            "\n",
            "Epoch 6: "
          ]
        },
        {
          "output_type": "stream",
          "name": "stderr",
          "text": [
            "100%|██████████| 5/5 [01:25<00:00, 17.02s/it]\n"
          ]
        },
        {
          "output_type": "stream",
          "name": "stdout",
          "text": [
            "PSNR: 22.376 SSIM: 0.767\n",
            "\n",
            "Epoch 7: "
          ]
        },
        {
          "output_type": "stream",
          "name": "stderr",
          "text": [
            "100%|██████████| 5/5 [01:25<00:00, 17.06s/it]\n"
          ]
        },
        {
          "output_type": "stream",
          "name": "stdout",
          "text": [
            "PSNR: 23.955 SSIM: 0.849\n",
            "\n",
            "Epoch 8: "
          ]
        },
        {
          "output_type": "stream",
          "name": "stderr",
          "text": [
            "100%|██████████| 5/5 [01:24<00:00, 16.87s/it]\n"
          ]
        },
        {
          "output_type": "stream",
          "name": "stdout",
          "text": [
            "PSNR: 29.548 SSIM: 0.875\n",
            "\n",
            "Epoch 9: "
          ]
        },
        {
          "output_type": "stream",
          "name": "stderr",
          "text": [
            "100%|██████████| 5/5 [01:27<00:00, 17.47s/it]\n"
          ]
        },
        {
          "output_type": "stream",
          "name": "stdout",
          "text": [
            "PSNR: 29.412 SSIM: 0.909\n",
            "\n",
            "Epoch 10: "
          ]
        },
        {
          "output_type": "stream",
          "name": "stderr",
          "text": [
            "100%|██████████| 5/5 [01:22<00:00, 16.60s/it]\n"
          ]
        },
        {
          "output_type": "stream",
          "name": "stdout",
          "text": [
            "PSNR: 30.496 SSIM: 0.913\n",
            "\n",
            "Epoch 11: "
          ]
        }
      ]
    },
    {
      "cell_type": "code",
      "source": [
        "!ps -aux|grep python"
      ],
      "metadata": {
        "id": "OxJKyx9QTZOi"
      },
      "execution_count": null,
      "outputs": []
    },
    {
      "cell_type": "code",
      "source": [
        "!kill -9 1063"
      ],
      "metadata": {
        "id": "o09sRnAaKoCT"
      },
      "execution_count": null,
      "outputs": []
    },
    {
      "cell_type": "code",
      "source": [
        "with torch.no_grad():\n",
        "    torch.cuda.empty_cache()"
      ],
      "metadata": {
        "id": "VL5hv2Eadkzh"
      },
      "execution_count": null,
      "outputs": []
    },
    {
      "cell_type": "code",
      "source": [
        "!nvidia-smi"
      ],
      "metadata": {
        "id": "HBxK0187dmHx"
      },
      "execution_count": null,
      "outputs": []
    },
    {
      "cell_type": "markdown",
      "source": [
        "## VAE"
      ],
      "metadata": {
        "id": "0gtREWaHhnfG"
      }
    },
    {
      "cell_type": "code",
      "source": [
        "generator = RRDBNet(1, 1, 64, 4)\n",
        "generator = generator.to(\"cuda\")\n",
        "optim_G = torch.optim.Adam(generator.parameters(), lr=0.0001)"
      ],
      "metadata": {
        "id": "tT_fggMveAnt"
      },
      "execution_count": null,
      "outputs": []
    },
    {
      "cell_type": "code",
      "source": [
        "wandb.init(project=\"vae\")\n",
        "for epoch in range(1, 10):\n",
        "    print(\"Training for epoch\",epoch)\n",
        "    generator.train()\n",
        "    start_index = 0\n",
        "    for batchIndex in range(0,num_iterations):\n",
        "      print(\"iteration\", batchIndex)\n",
        "      end_index = min(start_index+10,len(train_lr_dataset))\n",
        "      #training generator\n",
        "      optim_G.zero_grad()\n",
        "      batch_lr = train_preprocess_function(train_lr_dataset[start_index:end_index])\n",
        "      batch_hr = train_preprocess_function(train_hr_dataset[start_index:end_index])\n",
        "      start_index = end_index\n",
        "      #batch_lr = \n",
        "      lr_images = batch_lr.to(\"cuda\")\n",
        "      hr_images = batch_hr.to(\"cuda\")\n",
        "      predicted_hr_images = generator(lr_images)\n",
        "      g_loss = 100.0* F.l1_loss(predicted_hr_images, hr_images)\n",
        "      wandb.log({\"G Loss Total\":g_loss.item()})\n",
        "      g_loss.backward()\n",
        "      optim_G.step()\n",
        "      if batchIndex%5==0:\n",
        "        grid1 = make_grid(lr_images[0:3])\n",
        "        grid2 = make_grid(hr_images[0:3])\n",
        "        grid3 = make_grid(predicted_hr_images[0:3])\n",
        "        grid1 = wandb.Image(grid1, caption=\"Low Resolution Image\")\n",
        "        grid2 = wandb.Image(grid2, caption=\"High Resolution Image\")\n",
        "        grid3 = wandb.Image(grid3, caption=\"Reconstructed High Resolution Image\")\n",
        "        wandb.log({\"Original LR\": grid1})\n",
        "        wandb.log({\"Original HR\": grid2})\n",
        "        wandb.log({\"Reconstruced\": grid3})"
      ],
      "metadata": {
        "id": "sMvhTFPwhvNq"
      },
      "execution_count": null,
      "outputs": []
    },
    {
      "cell_type": "code",
      "source": [
        "\n",
        "\n"
      ],
      "metadata": {
        "id": "EJzElKZskfj4"
      },
      "execution_count": null,
      "outputs": []
    }
  ]
}