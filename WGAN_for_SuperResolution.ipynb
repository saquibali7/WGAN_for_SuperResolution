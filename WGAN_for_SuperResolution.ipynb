{
  "cells": [
    {
      "cell_type": "markdown",
      "metadata": {
        "id": "view-in-github",
        "colab_type": "text"
      },
      "source": [
        "<a href=\"https://colab.research.google.com/github/saquibali7/WGAN_for_SuperResolution/blob/main/WGAN_for_SuperResolution.ipynb\" target=\"_parent\"><img src=\"https://colab.research.google.com/assets/colab-badge.svg\" alt=\"Open In Colab\"/></a>"
      ]
    },
    {
      "cell_type": "markdown",
      "metadata": {
        "id": "Qbznc8HgUDjB"
      },
      "source": [
        "## Notebook Setup"
      ]
    },
    {
      "cell_type": "code",
      "execution_count": null,
      "metadata": {
        "colab": {
          "base_uri": "https://localhost:8080/"
        },
        "id": "1Stn8gJUMDmf",
        "outputId": "874fdc39-9235-4628-9135-8a800120fa19"
      },
      "outputs": [
        {
          "name": "stdout",
          "output_type": "stream",
          "text": [
            "Cloning into 'SuperResolution-DEMs'...\n",
            "remote: Enumerating objects: 13, done.\u001b[K\n",
            "remote: Counting objects: 100% (13/13), done.\u001b[K\n",
            "remote: Compressing objects: 100% (10/10), done.\u001b[K\n",
            "remote: Total 13 (delta 3), reused 12 (delta 2), pack-reused 0\u001b[K\n",
            "Unpacking objects: 100% (13/13), done.\n"
          ]
        }
      ],
      "source": [
        "!git clone https://github.com/m-abbas-ansari/SuperResolution-DEMs.git"
      ]
    },
    {
      "cell_type": "code",
      "execution_count": null,
      "metadata": {
        "colab": {
          "background_save": true,
          "base_uri": "https://localhost:8080/"
        },
        "id": "q61qUg5QMFxL",
        "outputId": "d9bdf52a-6745-48e8-8b83-e532b75f4912"
      },
      "outputs": [
        {
          "name": "stdout",
          "output_type": "stream",
          "text": [
            "\u001b[K     |████████████████████████████████| 1.8 MB 35.5 MB/s \n",
            "\u001b[K     |████████████████████████████████| 19.3 MB 1.3 MB/s \n",
            "\u001b[K     |████████████████████████████████| 259 kB 64.2 MB/s \n",
            "\u001b[K     |████████████████████████████████| 181 kB 42.9 MB/s \n",
            "\u001b[K     |████████████████████████████████| 156 kB 52.2 MB/s \n",
            "\u001b[K     |████████████████████████████████| 63 kB 1.5 MB/s \n",
            "\u001b[?25h  Building wheel for pathtools (setup.py) ... \u001b[?25l\u001b[?25hdone\n"
          ]
        }
      ],
      "source": [
        "!pip -q install wandb rasterio pytorch-ignite "
      ]
    },
    {
      "cell_type": "code",
      "execution_count": null,
      "metadata": {
        "id": "SX3VoptwJh-G"
      },
      "outputs": [],
      "source": [
        "from google.colab import drive\n",
        "drive.mount('./gdrive')"
      ]
    },
    {
      "cell_type": "code",
      "execution_count": null,
      "metadata": {
        "colab": {
          "background_save": true
        },
        "id": "6BCwjDT1MVdn"
      },
      "outputs": [],
      "source": [
        "!cp -r gdrive/Shareddrives/TeamDriveForJmi/SIH/Dataset/SDEM ."
      ]
    },
    {
      "cell_type": "code",
      "execution_count": null,
      "metadata": {
        "colab": {
          "background_save": true
        },
        "id": "Q_6iOn9jQILf"
      },
      "outputs": [],
      "source": [
        "!cp -r gdrive/Shareddrives/TeamDriveForJmi/SIH/Kernels ."
      ]
    },
    {
      "cell_type": "markdown",
      "metadata": {
        "id": "NQbqCwuKUPS2"
      },
      "source": [
        "## Setting seed and Importing"
      ]
    },
    {
      "cell_type": "code",
      "execution_count": null,
      "metadata": {
        "colab": {
          "background_save": true
        },
        "id": "5qs-guuKg5W2"
      },
      "outputs": [],
      "source": [
        "import torch\n",
        "torch.manual_seed(0)\n",
        "\n",
        "import random\n",
        "random.seed(0)\n",
        "\n",
        "import numpy as np\n",
        "np.random.seed(0)"
      ]
    },
    {
      "cell_type": "code",
      "execution_count": null,
      "metadata": {
        "id": "4y4-ZPQikjal"
      },
      "outputs": [],
      "source": [
        "#%cd /content/SuperResolution-DEMs"
      ]
    },
    {
      "cell_type": "markdown",
      "metadata": {
        "id": "L2qMlG35ki2o"
      },
      "source": [
        ""
      ]
    },
    {
      "cell_type": "code",
      "execution_count": null,
      "metadata": {
        "id": "MqbYScd4Ph47"
      },
      "outputs": [],
      "source": [
        "import numpy as np\n",
        "import os, pdb\n",
        "import argparse\n",
        "#from PIL import Image, ImageEnhance\n",
        "import matplotlib.pyplot as plt\n",
        "import torch\n",
        "import torchvision.transforms as transforms\n",
        "#from torch.utils.data.sampler import SubsetRandomSampler\n",
        "import torch.nn as nn\n",
        "import time\n",
        "import imp\n",
        "import os\n",
        "import cv2\n",
        "import random\n",
        "import numpy as np\n",
        "from functools import partial\n",
        "from matplotlib import pyplot\n",
        "import functools\n",
        "import torch\n",
        "import os\n",
        "import numpy as np\n",
        "import torch.nn as nn\n",
        "import torch.nn.functional as F\n",
        "import torch.nn.init as init\n",
        "from torch.utils.data import Dataset, DataLoader\n",
        "from torchvision import transforms\n",
        "import torchvision\n",
        "from torchvision.utils import make_grid\n",
        "import rasterio as rio\n",
        "import glob\n",
        "import wandb"
      ]
    },
    {
      "cell_type": "code",
      "execution_count": null,
      "metadata": {
        "id": "iztRtFJBPlBK"
      },
      "outputs": [],
      "source": [
        "def load_numpy_files(npy_files):\n",
        "    npy_files = npy_files\n",
        "    demaps = []\n",
        "    for image_path in npy_files:\n",
        "        try:\n",
        "            x = np.load(image_path)\n",
        "            demaps.append(x)\n",
        "        except:\n",
        "            print('FAILED TO READ {} IN GRAYSCALE'.format(image_path))\n",
        "            continue\n",
        "    demaps = np.array(demaps)\n",
        "    demaps = demaps.reshape(len(npy_files),1,demaps.shape[1],demaps.shape[2])\n",
        "    return demaps"
      ]
    },
    {
      "cell_type": "markdown",
      "metadata": {
        "id": "KTRHleLsUnKs"
      },
      "source": [
        "## Model Definitons"
      ]
    },
    {
      "cell_type": "code",
      "execution_count": null,
      "metadata": {
        "id": "JIrWw3a4Q4ys"
      },
      "outputs": [],
      "source": [
        "def initialize_weights(net_l, scale=1):\n",
        "    if not isinstance(net_l, list):\n",
        "        net_l = [net_l]\n",
        "    for net in net_l:\n",
        "        for m in net.modules():\n",
        "            if isinstance(m, nn.Conv2d):\n",
        "                init.kaiming_normal_(m.weight, a=0, mode='fan_in')\n",
        "                m.weight.data *= scale  # for residual block\n",
        "                if m.bias is not None:\n",
        "                    m.bias.data.zero_()\n",
        "            elif isinstance(m, nn.Linear):\n",
        "                init.kaiming_normal_(m.weight, a=0, mode='fan_in')\n",
        "                m.weight.data *= scale\n",
        "                if m.bias is not None:\n",
        "                    m.bias.data.zero_()\n",
        "            elif isinstance(m, nn.BatchNorm2d):\n",
        "                init.constant_(m.weight, 1)\n",
        "                init.constant_(m.bias.data, 0.0)\n",
        "\n",
        "\n",
        "def make_layer(block, n_layers):\n",
        "    layers = []\n",
        "    for _ in range(n_layers):\n",
        "        layers.append(block())\n",
        "    return nn.Sequential(*layers)\n",
        "\n",
        "class ResidualDenseBlock_5C(nn.Module):\n",
        "    def __init__(self, nf=64, gc=32, bias=True):\n",
        "        super(ResidualDenseBlock_5C, self).__init__()\n",
        "        # gc: growth channel, i.e. intermediate channels\n",
        "        self.conv1 = nn.Conv2d(nf, gc, 3, 1, 1, bias=bias)\n",
        "        self.conv2 = nn.Conv2d(nf + gc, gc, 3, 1, 1, bias=bias)\n",
        "        self.conv3 = nn.Conv2d(nf + 2 * gc, gc, 3, 1, 1, bias=bias)\n",
        "        self.conv4 = nn.Conv2d(nf + 3 * gc, gc, 3, 1, 1, bias=bias)\n",
        "        self.conv5 = nn.Conv2d(nf + 4 * gc, nf, 3, 1, 1, bias=bias)\n",
        "        self.lrelu = nn.LeakyReLU(negative_slope=0.2, inplace=True)\n",
        "\n",
        "        # initialization\n",
        "        initialize_weights([self.conv1, self.conv2, self.conv3, self.conv4, self.conv5], 0.1)\n",
        "\n",
        "    def forward(self, x):\n",
        "        x1 = self.lrelu(self.conv1(x))\n",
        "        x2 = self.lrelu(self.conv2(torch.cat((x, x1), 1)))\n",
        "        x3 = self.lrelu(self.conv3(torch.cat((x, x1, x2), 1)))\n",
        "        x4 = self.lrelu(self.conv4(torch.cat((x, x1, x2, x3), 1)))\n",
        "        x5 = self.conv5(torch.cat((x, x1, x2, x3, x4), 1))\n",
        "        return x5 * 0.2 + x\n",
        "\n",
        "class RRDB(nn.Module):\n",
        "    '''Residual in Residual Dense Block'''\n",
        "\n",
        "    def __init__(self, nf, gc=32):\n",
        "        super(RRDB, self).__init__()\n",
        "        self.RDB1 = ResidualDenseBlock_5C(nf, gc)\n",
        "        self.RDB2 = ResidualDenseBlock_5C(nf, gc)\n",
        "        self.RDB3 = ResidualDenseBlock_5C(nf, gc)\n",
        "\n",
        "    def forward(self, x):\n",
        "        out = self.RDB1(x)\n",
        "        out = self.RDB2(out)\n",
        "        out = self.RDB3(out)\n",
        "        return out * 0.2 + x\n",
        "\n",
        "class RRDBNet(nn.Module):\n",
        "    def __init__(self, in_nc, out_nc, nf, nb, gc=32): # nb is no of blocks\n",
        "        super(RRDBNet, self).__init__()\n",
        "        RRDB_block_f = functools.partial(RRDB, nf=nf, gc=gc)\n",
        "        self.conv_first = nn.Conv2d(in_nc, nf, 3, 1, 1, bias=True)\n",
        "        self.RRDB_trunk = make_layer(RRDB_block_f, nb)\n",
        "        self.trunk_conv = nn.Conv2d(nf, nf, 3, 1, 1, bias=True)\n",
        "        self.upconv1 = nn.Conv2d(nf, nf, 3, 1, 1, bias=True)\n",
        "        self.upconv2 = nn.Conv2d(nf, nf, 3, 1, 1, bias=True)\n",
        "        self.HRconv = nn.Conv2d(nf, nf, 3, 1, 1, bias=True)\n",
        "        self.conv_last = nn.Sequential(nn.Conv2d(nf, out_nc, 3, 1, 1, bias=True),\n",
        "                                    nn.Tanh())\n",
        "        self.lrelu = nn.LeakyReLU(negative_slope=0.2, inplace=True)\n",
        "\n",
        "    def forward(self, x):\n",
        "        fea = self.conv_first(x)\n",
        "        trunk = self.trunk_conv(self.RRDB_trunk(fea))\n",
        "        fea = fea + trunk\n",
        "        fea = self.lrelu(self.upconv1(F.interpolate(fea, scale_factor=2, mode='nearest')))\n",
        "        fea = self.lrelu(self.upconv2(F.interpolate(fea, scale_factor=2, mode='nearest')))\n",
        "        out = self.conv_last(self.lrelu(self.HRconv(fea)))\n",
        "        out = (out+1.0)/2.0\n",
        "        return out\n",
        "    \n",
        "class Discriminator_VGG_128(nn.Module):\n",
        "    def __init__(self, in_nc, nf):\n",
        "        super(Discriminator_VGG_128, self).__init__()\n",
        "        self.conv0_0 = nn.Conv2d(in_nc, nf, 3, 1, 1, bias=True)\n",
        "        self.conv0_1 = nn.Conv2d(nf, nf, 4, 2, 1, bias=False)\n",
        "        self.in0_1 = nn.InstanceNorm2d(nf, affine=True)\n",
        "        self.conv1_0 = nn.Conv2d(nf, nf * 2, 3, 1, 1, bias=False)\n",
        "        self.in1_0 = nn.InstanceNorm2d(nf * 2, affine=True)\n",
        "        self.conv1_1 = nn.Conv2d(nf * 2, nf * 2, 4, 2, 1, bias=False)\n",
        "        self.in1_1 = nn.InstanceNorm2d(nf * 2, affine=True)\n",
        "        self.conv2_0 = nn.Conv2d(nf * 2, nf * 4, 3, 1, 1, bias=False)\n",
        "        self.in2_0 = nn.InstanceNorm2d(nf * 4, affine=True)\n",
        "        self.conv2_1 = nn.Conv2d(nf * 4, nf * 4, 4, 2, 1, bias=False)\n",
        "        self.in2_1 = nn.InstanceNorm2d(nf * 4, affine=True)\n",
        "        self.conv3_0 = nn.Conv2d(nf * 4, nf * 8, 3, 1, 1, bias=False)\n",
        "        self.in3_0 = nn.InstanceNorm2d(nf * 8, affine=True)\n",
        "        self.conv3_1 = nn.Conv2d(nf * 8, nf * 8, 4, 2, 1, bias=False)\n",
        "        self.in3_1 = nn.InstanceNorm2d(nf * 8, affine=True)\n",
        "        self.conv4_0 = nn.Conv2d(nf * 8, nf * 8, 3, 1, 1, bias=False)\n",
        "        self.in4_0 = nn.InstanceNorm2d(nf * 8, affine=True)\n",
        "        self.conv4_1 = nn.Conv2d(nf * 8, nf * 8, 4, 2, 1, bias=False)\n",
        "        self.in4_1 = nn.InstanceNorm2d(nf * 8, affine=True)\n",
        "        self.lrelu = nn.LeakyReLU(negative_slope=0.2, inplace=True)\n",
        "        self.con5_1 = nn.Conv2d(nf*8, 1, 4, 2, 0)\n",
        "\n",
        "    def forward(self, x):\n",
        "        fea = self.lrelu(self.conv0_0(x))\n",
        "        fea = self.lrelu(self.in0_1(self.conv0_1(fea)))\n",
        "        fea = self.lrelu(self.in1_0(self.conv1_0(fea)))\n",
        "        fea = self.lrelu(self.in1_1(self.conv1_1(fea)))\n",
        "        fea = self.lrelu(self.in2_0(self.conv2_0(fea)))\n",
        "        fea = self.lrelu(self.in2_1(self.conv2_1(fea)))\n",
        "        fea = self.lrelu(self.in3_0(self.conv3_0(fea)))\n",
        "        fea = self.lrelu(self.in3_1(self.conv3_1(fea)))\n",
        "        fea = self.lrelu(self.in4_0(self.conv4_0(fea)))\n",
        "        fea = self.lrelu(self.in4_1(self.conv4_1(fea)))\n",
        "        out = self.con5_1(fea)\n",
        "        \n",
        "        return out"
      ]
    },
    {
      "cell_type": "markdown",
      "metadata": {
        "id": "II1EtMcYDuOX"
      },
      "source": [
        "## Dataset and Loader"
      ]
    },
    {
      "cell_type": "code",
      "execution_count": null,
      "metadata": {
        "id": "ySRZ61a0ES_U"
      },
      "outputs": [],
      "source": [
        "from scipy.ndimage import correlate\n",
        "\n",
        "def numeric_kernel(im, kernel, scale_factor, output_shape):\n",
        "    # First run a correlation (convolution with flipped kernel)\n",
        "    out_im = np.zeros_like(im)\n",
        "    out_im = correlate(im, kernel)\n",
        "    # print(out_im.shape)\n",
        "    #print(np.round(np.linspace(0, im.shape[0] - 1 / scale_factor[0], output_shape[0])).astype(int)[:, None].shape)\n",
        "    # Then subsample and return\n",
        "    return out_im[np.round(np.linspace(0, im.shape[0] - 1 / scale_factor[0], output_shape[0])).astype(int)[:, None],\n",
        "           np.round(np.linspace(0, im.shape[1] - 1 / scale_factor[1], output_shape[1])).astype(int)]"
      ]
    },
    {
      "cell_type": "code",
      "execution_count": null,
      "metadata": {
        "id": "IsNorUHcEUo5"
      },
      "outputs": [],
      "source": [
        "def normalize(im):\n",
        "    MIN_H = -500.0\n",
        "    MAX_H = 10000.0\n",
        "    return (im - MIN_H)/(MAX_H-MIN_H)"
      ]
    },
    {
      "cell_type": "code",
      "execution_count": null,
      "metadata": {
        "id": "bYph6yJPD0Ii"
      },
      "outputs": [],
      "source": [
        "from scipy.io import loadmat\n",
        "\n",
        "class DemDataset(Dataset):\n",
        "    \"\"\"DEM dataset.\"\"\"\n",
        "\n",
        "    def __init__(self, root_dir, kernel_dir, transform=None):\n",
        "        \"\"\"\n",
        "        Args:\n",
        "            root_dir (string): Directory with all the DEMs.\n",
        "            kernel_dir (string): Directory with all the kernel DEMs.\n",
        "            transform (callable, optional): Optional transform to be applied\n",
        "                on a sample.\n",
        "        \"\"\"\n",
        "        self.root_dir = root_dir\n",
        "        self.transform = transform\n",
        "        dem_list = glob.glob(root_dir + '/*.asc')\n",
        "        print(dem_list)\n",
        "        self.dems = [normalize(rio.open(dem).read(1).astype('float')) for dem in dem_list] \n",
        "        \n",
        "        kernel_list = glob.glob(kernel_dir + '/*.mat')\n",
        "        print(kernel_list)\n",
        "        self.kernels = [loadmat(k)[\"Kernel\"] for k in kernel_list]\n",
        "\n",
        "    def __len__(self):\n",
        "        return len(self.dems)\n",
        "\n",
        "    def __getitem__(self, idx):\n",
        "        if torch.is_tensor(idx):\n",
        "            idx = idx.tolist()\n",
        "        k = self.kernels[np.random.randint(0, len(self.kernels))]\n",
        "        im = self.dems[idx]\n",
        "        HR = self.RandomCrop(im, 512).astype(np.float32)\n",
        "        LR = numeric_kernel(HR, k, [0.25,0.25], (128, 128)).astype(np.float32) \n",
        "\n",
        "        if self.transform:\n",
        "            HR = self.transform(HR)\n",
        "            LR = self.transform(LR)\n",
        "            \n",
        "        sample = {'HR': HR, 'LR': LR}        \n",
        "        return sample\n",
        "    \n",
        "    \n",
        "    def RandomCrop(self,image, output_size):\n",
        "        h, w = image.shape[:2]\n",
        "        new_h, new_w = (output_size, output_size)\n",
        "\n",
        "        top = np.random.randint(0, h - new_h)\n",
        "        left = np.random.randint(0, w - new_w)\n",
        "        image = image[top: top + new_h, left: left + new_w]\n",
        "\n",
        "        return image"
      ]
    },
    {
      "cell_type": "code",
      "execution_count": null,
      "metadata": {
        "colab": {
          "background_save": true,
          "base_uri": "https://localhost:8080/"
        },
        "id": "ilCpzg-UEy1o",
        "outputId": "890b6e42-8860-497a-836f-2c1bc3137a69"
      },
      "outputs": [
        {
          "name": "stdout",
          "output_type": "stream",
          "text": [
            "['SDEM/Kilauea.asc', 'SDEM/Kocevje_Rog.asc', 'SDEM/Gore_Range_Albers_5000m.asc', 'SDEM/Churfirsten_60m.asc', 'SDEM/Churfirsten_30m.asc', 'SDEM/Gore_Range_Albers_2000m.asc', 'SDEM/Gore_Range_Albers_1000m.asc', 'SDEM/Churfirsten_1000m.asc', 'SDEM/Gore_Range_Albers_500m.asc', 'SDEM/Sand_Hills.asc', 'SDEM/Valdez_30m.asc', 'SDEM/Churfirsten_500m.asc', 'SDEM/Great_Sand_Dunes.asc', 'SDEM/Valdez_250m.asc', 'SDEM/Valdez_7.5m.asc', 'SDEM/Churfirsten_120m.asc', 'SDEM/Churfirsten_2000m.asc', 'SDEM/Gore_Range_Albers_90m.asc', 'SDEM/Massanutten.asc', 'SDEM/Bryce_Canyon.asc', 'SDEM/Gore_Range_Albers_250m.asc', 'SDEM/Gore_Range_Albers_5m.asc', 'SDEM/Gore_Range_Albers_1m.asc', 'SDEM/Gore_Range_Albers_2500m.asc', 'SDEM/Crater_Lake.asc', 'SDEM/Valdez_500m.asc', 'SDEM/Valdez 1000m.asc', 'SDEM/Jackson_Hole.asc', 'SDEM/Valdez_90m.asc', 'SDEM/Gore_Range_Albers_15m.asc', 'SDEM/Valdez_15m.asc', 'SDEM/Gore_Range_Albers_30m.asc', 'SDEM/Churfirsten_250m.asc', 'SDEM/Valdez_2000m.asc', 'SDEM/Valdez_3.3m.asc']\n",
            "['Kernels/results/Gore_Range_Albers_5m_kernel_x4.mat', 'Kernels/results/Gore_Range_Albers_2500m_kernel_x2.mat', 'Kernels/results/Gore_Range_Albers_250m_kernel_x2.mat', 'Kernels/results/Gore_Range_Albers_1000m_kernel_x2.mat', 'Kernels/results/Kocevje_Rog_kernel_x4.mat', 'Kernels/results/Sand_Hills_kernel_x2.mat', 'Kernels/results/Valdez_3_kernel_x2.mat', 'Kernels/results/Valdez_7_kernel_x4.mat', 'Kernels/results/Massanutten_kernel_x4.mat', 'Kernels/results/Churfirsten_2000m_kernel_x2.mat', 'Kernels/results/Valdez_30m_kernel_x2.mat', 'Kernels/results/Gore_Range_Albers_5000m_kernel_x2.mat', 'Kernels/results/Kilauea_kernel_x2.mat', 'Kernels/results/Churfirsten_250m_kernel_x4.mat', 'Kernels/results/Churfirsten_500m_kernel_x2.mat', 'Kernels/results/Kocevje_Rog_kernel_x2.mat', 'Kernels/results/Valdez_90m_kernel_x2.mat', 'Kernels/results/Valdez_7_kernel_x2.mat', 'Kernels/results/Valdez_15m_kernel_x4.mat', 'Kernels/results/Valdez_250m_kernel_x2.mat', 'Kernels/results/Gore_Range_Albers_500m_kernel_x4.mat', 'Kernels/results/Valdez_3_kernel_x4.mat', 'Kernels/results/Valdez_500m_kernel_x2.mat', 'Kernels/results/Jackson_Hole_kernel_x2.mat', 'Kernels/results/Valdez_30m_kernel_x4.mat', 'Kernels/results/Gore_Range_Albers_90m_kernel_x4.mat', 'Kernels/results/Churfirsten_60m_kernel_x4.mat', 'Kernels/results/Valdez_500m_kernel_x4.mat', 'Kernels/results/Churfirsten_60m_kernel_x2.mat', 'Kernels/results/Gore_Range_Albers_15m_kernel_x2.mat', 'Kernels/results/Sand_Hills_kernel_x4.mat', 'Kernels/results/Gore_Range_Albers_2500m_kernel_x4.mat', 'Kernels/results/Bryce_Canyon_kernel_x2.mat', 'Kernels/results/Great_Sand_Dunes_kernel_x2.mat', 'Kernels/results/Churfirsten_250m_kernel_x2.mat', 'Kernels/results/Gore_Range_Albers_5m_kernel_x2.mat', 'Kernels/results/Bryce_Canyon_kernel_x4.mat', 'Kernels/results/Churfirsten_30m_kernel_x2.mat', 'Kernels/results/Churfirsten_30m_kernel_x4.mat', 'Kernels/results/Gore_Range_Albers_2000m_kernel_x2.mat', 'Kernels/results/Crater_Lake_kernel_x4.mat', 'Kernels/results/Churfirsten_2000m_kernel_x4.mat', 'Kernels/results/Churfirsten_120m_kernel_x2.mat', 'Kernels/results/Gore_Range_Albers_1m_kernel_x2.mat', 'Kernels/results/Gore_Range_Albers_30m_kernel_x4.mat', 'Kernels/results/Valdez_90m_kernel_x4.mat', 'Kernels/results/Valdez_15m_kernel_x2.mat', 'Kernels/results/Crater_Lake_kernel_x2.mat', 'Kernels/results/Gore_Range_Albers_1m_kernel_x4.mat', 'Kernels/results/Valdez_2000m_kernel_x4.mat', 'Kernels/results/Gore_Range_Albers_90m_kernel_x2.mat', 'Kernels/results/Churfirsten_1000m_kernel_x2.mat', 'Kernels/results/Gore_Range_Albers_250m_kernel_x4.mat', 'Kernels/results/Valdez 1000m_kernel_x2.mat', 'Kernels/results/Gore_Range_Albers_15m_kernel_x4.mat', 'Kernels/results/Massanutten_kernel_x2.mat', 'Kernels/results/Valdez 1000m_kernel_x4.mat', 'Kernels/results/Churfirsten_500m_kernel_x4.mat', 'Kernels/results/Jackson_Hole_kernel_x4.mat', 'Kernels/results/Churfirsten_1000m_kernel_x4.mat', 'Kernels/results/Kilauea_kernel_x4.mat', 'Kernels/results/Valdez_2000m_kernel_x2.mat', 'Kernels/results/Churfirsten_120m_kernel_x4.mat', 'Kernels/results/Gore_Range_Albers_30m_kernel_x2.mat', 'Kernels/results/Valdez_250m_kernel_x4.mat', 'Kernels/results/Gore_Range_Albers_1000m_kernel_x4.mat', 'Kernels/results/Gore_Range_Albers_5000m_kernel_x4.mat', 'Kernels/results/Gore_Range_Albers_500m_kernel_x2.mat', 'Kernels/results/Gore_Range_Albers_2000m_kernel_x4.mat', 'Kernels/results/Great_Sand_Dunes_kernel_x4.mat']\n"
          ]
        }
      ],
      "source": [
        "data = DemDataset(\"SDEM\", \"Kernels/results\", transform = transforms.Compose([transforms.ToTensor()]))"
      ]
    },
    {
      "cell_type": "code",
      "execution_count": null,
      "metadata": {
        "colab": {
          "background_save": true
        },
        "id": "JdTikJ9qJmKc"
      },
      "outputs": [],
      "source": [
        "dl = DataLoader(dataset=data, batch_size=8, shuffle=True)"
      ]
    },
    {
      "cell_type": "code",
      "execution_count": null,
      "metadata": {
        "colab": {
          "background_save": true,
          "base_uri": "https://localhost:8080/"
        },
        "id": "c18cSlMsJoAT",
        "outputId": "61124172-6408-432e-b0cb-5024e1612e08"
      },
      "outputs": [
        {
          "data": {
            "text/plain": [
              "5"
            ]
          },
          "execution_count": 23,
          "metadata": {},
          "output_type": "execute_result"
        }
      ],
      "source": [
        "len(dl)"
      ]
    },
    {
      "cell_type": "code",
      "execution_count": null,
      "metadata": {
        "colab": {
          "background_save": true
        },
        "id": "DpAmXrIZJpzm"
      },
      "outputs": [],
      "source": [
        "val_lr = []\n",
        "val_hr = []\n",
        "for i, batch in enumerate(dl):\n",
        "  val_lr.append(batch['LR'])\n",
        "  val_hr.append(batch['HR'])\n",
        "  if i == 2:\n",
        "    break"
      ]
    },
    {
      "cell_type": "code",
      "execution_count": null,
      "metadata": {
        "colab": {
          "base_uri": "https://localhost:8080/"
        },
        "id": "sX9xhuHdbGyx",
        "outputId": "1de5608b-7f1a-44e8-ce55-5db7ed35c914"
      },
      "outputs": [
        {
          "name": "stdout",
          "output_type": "stream",
          "text": [
            "torch.Size([8, 1, 128, 128]) torch.Size([8, 1, 512, 512])\n",
            "torch.Size([8, 1, 128, 128]) torch.Size([8, 1, 512, 512])\n",
            "torch.Size([8, 1, 128, 128]) torch.Size([8, 1, 512, 512])\n"
          ]
        }
      ],
      "source": [
        "for lr, hr in zip(val_lr, val_hr):\n",
        "  print(lr.shape, hr.shape)"
      ]
    },
    {
      "cell_type": "code",
      "execution_count": null,
      "metadata": {
        "colab": {
          "base_uri": "https://localhost:8080/"
        },
        "id": "HopNFN-eT4_g",
        "outputId": "28c894ba-9759-4221-9039-d1022d16f489"
      },
      "outputs": [
        {
          "data": {
            "text/plain": [
              "3"
            ]
          },
          "execution_count": 53,
          "metadata": {},
          "output_type": "execute_result"
        }
      ],
      "source": [
        "\n",
        "len(val_lr)"
      ]
    },
    {
      "cell_type": "code",
      "execution_count": null,
      "metadata": {
        "colab": {
          "base_uri": "https://localhost:8080/",
          "height": 171
        },
        "id": "3gczN4tdVakU",
        "outputId": "def5c47c-214f-46ec-868a-1ee6d776a66b"
      },
      "outputs": [
        {
          "ename": "AttributeError",
          "evalue": "ignored",
          "output_type": "error",
          "traceback": [
            "\u001b[0;31m---------------------------------------------------------------------------\u001b[0m",
            "\u001b[0;31mAttributeError\u001b[0m                            Traceback (most recent call last)",
            "\u001b[0;32m<ipython-input-54-82c2156a64bd>\u001b[0m in \u001b[0;36m<module>\u001b[0;34m()\u001b[0m\n\u001b[0;32m----> 1\u001b[0;31m \u001b[0mval_lr\u001b[0m\u001b[0;34m.\u001b[0m\u001b[0mmin\u001b[0m\u001b[0;34m(\u001b[0m\u001b[0;34m)\u001b[0m\u001b[0;34m,\u001b[0m \u001b[0mval_lr\u001b[0m\u001b[0;34m.\u001b[0m\u001b[0mmax\u001b[0m\u001b[0;34m(\u001b[0m\u001b[0;34m)\u001b[0m\u001b[0;34m,\u001b[0m \u001b[0mval_hr\u001b[0m\u001b[0;34m.\u001b[0m\u001b[0mmin\u001b[0m\u001b[0;34m(\u001b[0m\u001b[0;34m)\u001b[0m\u001b[0;34m,\u001b[0m \u001b[0mval_hr\u001b[0m\u001b[0;34m.\u001b[0m\u001b[0mmax\u001b[0m\u001b[0;34m(\u001b[0m\u001b[0;34m)\u001b[0m\u001b[0;34m\u001b[0m\u001b[0;34m\u001b[0m\u001b[0m\n\u001b[0m",
            "\u001b[0;31mAttributeError\u001b[0m: 'list' object has no attribute 'min'"
          ]
        }
      ],
      "source": [
        "val_lr.min(), val_lr.max(), val_hr.min(), val_hr.max()"
      ]
    },
    {
      "cell_type": "code",
      "execution_count": null,
      "metadata": {
        "colab": {
          "base_uri": "https://localhost:8080/",
          "height": 377
        },
        "id": "V91OOj6fKZ2-",
        "outputId": "1d4ba80d-235f-4de9-cf90-0d7b4cdd4ff7"
      },
      "outputs": [
        {
          "data": {
            "image/png": "[encoded data removed]",
            "text/plain": [
              "<Figure size 432x432 with 1 Axes>"
            ]
          },
          "metadata": {},
          "output_type": "display_data"
        }
      ],
      "source": [
        "from rasterio.plot import show\n",
        "import matplotlib.pyplot as plt\n",
        "\n",
        "dem_array = val_lr[0][0].numpy().squeeze()\n",
        " \n",
        "fig, ax = plt.subplots(1, figsize=(6, 6))\n",
        "show(dem_array, cmap='Greys_r', ax=ax)\n",
        "plt.show()"
      ]
    },
    {
      "cell_type": "code",
      "execution_count": null,
      "metadata": {
        "id": "aJ191jQYUsEX"
      },
      "outputs": [],
      "source": [
        "from ignite.metrics import PSNR,SSIM\n",
        "from ignite.engine import Engine\n",
        "# from imresize import numeric_kernel\n",
        "\n",
        "def eval_step(engine, batch): \n",
        "    return batch \n",
        "def calculate_error(img1,img2):\n",
        "    \n",
        "    default_evaluator = Engine(eval_step)\n",
        "    # calculating PSNR \n",
        "    y1 = img1.to(\"cuda\")\n",
        "    y2 = img2.to(\"cuda\")\n",
        "    psnr = PSNR(data_range=1)\n",
        "    psnr.attach(default_evaluator,'psnr')\n",
        "    state1 = default_evaluator.run([[y1,y2]])\n",
        "    # print(f\"PSNR :{state1.metrics['psnr']}\")\n",
        "\n",
        "    # # calculating SSIM\n",
        "    y1,y2 = torch.tensor(y1,dtype=torch.float32),torch.tensor(y2,dtype=torch.float32)\n",
        "    metric = SSIM(data_range=1)\n",
        "    metric.attach(default_evaluator, 'ssim')\n",
        "    state2 = default_evaluator.run([[y1, y2]])\n",
        "\n",
        "\n",
        "    # print(f\"SSIM : {state2.metrics['ssim']}\")\n",
        "    return state1.metrics['psnr'],state2.metrics['ssim']"
      ]
    },
    {
      "cell_type": "markdown",
      "metadata": {
        "id": "OQsLOikvU_fz"
      },
      "source": [
        "## Model parameters "
      ]
    },
    {
      "cell_type": "code",
      "execution_count": null,
      "metadata": {
        "id": "Bmv7yGNqSb68"
      },
      "outputs": [],
      "source": [
        "generator = RRDBNet(1, 1, 64, 4)\n",
        "generator = generator.to(\"cuda\")\n",
        "discriminator = Discriminator_VGG_128(1,64)\n",
        "discriminator = discriminator.to(\"cuda\")\n",
        "\n",
        "optim_G = torch.optim.Adam(generator.parameters(), lr=0.0001)\n",
        "optim_D = torch.optim.Adam(discriminator.parameters(), lr=0.0001)\n",
        "# LR Scheduling"
      ]
    },
    {
      "cell_type": "code",
      "execution_count": null,
      "metadata": {
        "id": "RotnCLbJGQsy"
      },
      "outputs": [],
      "source": [
        "# del generator\n",
        "# del discriminator"
      ]
    },
    {
      "cell_type": "code",
      "execution_count": null,
      "metadata": {
        "id": "tGh66wuKGcft"
      },
      "outputs": [],
      "source": [
        "# from numba import cuda\n",
        "# # Clearing GPU RAM\n",
        "# cuda.select_device(0)\n",
        "# cuda.close()"
      ]
    },
    {
      "cell_type": "code",
      "execution_count": null,
      "metadata": {
        "colab": {
          "base_uri": "https://localhost:8080/"
        },
        "id": "5ZLIa-cWGxKk",
        "outputId": "58152a1e-6499-4607-9a26-fbdd7b60193f"
      },
      "outputs": [
        {
          "name": "stdout",
          "output_type": "stream",
          "text": [
            "Mon Aug  1 13:47:19 2022       \n",
            "+-----------------------------------------------------------------------------+\n",
            "| NVIDIA-SMI 460.32.03    Driver Version: 460.32.03    CUDA Version: 11.2     |\n",
            "|-------------------------------+----------------------+----------------------+\n",
            "| GPU  Name        Persistence-M| Bus-Id        Disp.A | Volatile Uncorr. ECC |\n",
            "| Fan  Temp  Perf  Pwr:Usage/Cap|         Memory-Usage | GPU-Util  Compute M. |\n",
            "|                               |                      |               MIG M. |\n",
            "|===============================+======================+======================|\n",
            "|   0  Tesla T4            Off  | 00000000:00:04.0 Off |                    0 |\n",
            "| N/A   73C    P0    33W /  70W |  15004MiB / 15109MiB |      0%      Default |\n",
            "|                               |                      |                  N/A |\n",
            "+-------------------------------+----------------------+----------------------+\n",
            "                                                                               \n",
            "+-----------------------------------------------------------------------------+\n",
            "| Processes:                                                                  |\n",
            "|  GPU   GI   CI        PID   Type   Process name                  GPU Memory |\n",
            "|        ID   ID                                                   Usage      |\n",
            "|=============================================================================|\n",
            "+-----------------------------------------------------------------------------+\n"
          ]
        }
      ],
      "source": [
        "! nvidia-smi"
      ]
    },
    {
      "cell_type": "markdown",
      "metadata": {
        "id": "vg1A2QMoDrGv"
      },
      "source": [
        "##Gradient Penalty"
      ]
    },
    {
      "cell_type": "code",
      "execution_count": null,
      "metadata": {
        "id": "IDb3aqTZDz9L"
      },
      "outputs": [],
      "source": [
        "def gradient_penalty(discriminator, real, fake, device):\n",
        "  batch_size, c, h, w = real.shape\n",
        "  alpha = torch.randn((batch_size, 1, 1, 1)).repeat(1, c, h, w).to(device)\n",
        "  interplorated_images = real * alpha + fake.detach() * (1 - alpha)\n",
        "  interplorated_images.requires_grad_(True)\n",
        "\n",
        "  mixed_scores = discriminator(interplorated_images)\n",
        "\n",
        "  gradient = torch.autograd.grad(\n",
        "      inputs = interplorated_images,\n",
        "      outputs = mixed_scores,\n",
        "      grad_outputs = torch.ones_like(mixed_scores),\n",
        "      create_graph = True,\n",
        "      retain_graph = True,\n",
        "  )[0]\n",
        "\n",
        "  gradient = gradient.view(gradient.shape[0], -1)\n",
        "  gradient_norm = gradient.norm(2, dim=1)\n",
        "  gradient_penalty = torch.mean((gradient_norm - 1) ** 2)\n",
        "  return gradient_penalty\n",
        "\n",
        "\n"
      ]
    },
    {
      "cell_type": "markdown",
      "metadata": {
        "id": "LHJeKk57VKNx"
      },
      "source": [
        "## Training Loop"
      ]
    },
    {
      "cell_type": "code",
      "execution_count": null,
      "metadata": {
        "colab": {
          "background_save": true,
          "base_uri": "https://localhost:8080/",
          "height": 590
        },
        "id": "UtouHUtNlpUI",
        "outputId": "4a083551-653d-4059-d55d-8d3e2317dbd5"
      },
      "outputs": [
        {
          "data": {
            "application/javascript": [
              "\n",
              "        window._wandbApiKey = new Promise((resolve, reject) => {\n",
              "            function loadScript(url) {\n",
              "            return new Promise(function(resolve, reject) {\n",
              "                let newScript = document.createElement(\"script\");\n",
              "                newScript.onerror = reject;\n",
              "                newScript.onload = resolve;\n",
              "                document.body.appendChild(newScript);\n",
              "                newScript.src = url;\n",
              "            });\n",
              "            }\n",
              "            loadScript(\"https://cdn.jsdelivr.net/npm/postmate/build/postmate.min.js\").then(() => {\n",
              "            const iframe = document.createElement('iframe')\n",
              "            iframe.style.cssText = \"width:0;height:0;border:none\"\n",
              "            document.body.appendChild(iframe)\n",
              "            const handshake = new Postmate({\n",
              "                container: iframe,\n",
              "                url: 'https://wandb.ai/authorize'\n",
              "            });\n",
              "            const timeout = setTimeout(() => reject(\"Couldn't auto authenticate\"), 5000)\n",
              "            handshake.then(function(child) {\n",
              "                child.on('authorize', data => {\n",
              "                    clearTimeout(timeout)\n",
              "                    resolve(data)\n",
              "                });\n",
              "            });\n",
              "            })\n",
              "        });\n",
              "    "
            ],
            "text/plain": [
              "<IPython.core.display.Javascript object>"
            ]
          },
          "metadata": {},
          "output_type": "display_data"
        },
        {
          "name": "stderr",
          "output_type": "stream",
          "text": [
            "\u001b[34m\u001b[1mwandb\u001b[0m: Logging into wandb.ai. (Learn how to deploy a W&B server locally: https://wandb.me/wandb-server)\n",
            "\u001b[34m\u001b[1mwandb\u001b[0m: You can find your API key in your browser here: https://wandb.ai/authorize\n",
            "wandb: Paste an API key from your profile and hit enter, or press ctrl+c to quit: \u001b[34m\u001b[1mwandb\u001b[0m: Appending key for api.wandb.ai to your netrc file: /root/.netrc\n"
          ]
        },
        {
          "data": {
            "text/html": [
              "Tracking run with wandb version 0.12.21"
            ],
            "text/plain": [
              "<IPython.core.display.HTML object>"
            ]
          },
          "metadata": {},
          "output_type": "display_data"
        },
        {
          "data": {
            "text/html": [
              "Run data is saved locally in <code>/content/wandb/run-20220801_171410-1bh8sxn8</code>"
            ],
            "text/plain": [
              "<IPython.core.display.HTML object>"
            ]
          },
          "metadata": {},
          "output_type": "display_data"
        },
        {
          "data": {
            "text/html": [
              "Syncing run <strong><a href=\"https://wandb.ai/saquibali7/sr-gan/runs/1bh8sxn8\" target=\"_blank\">toasty-darkness-10</a></strong> to <a href=\"https://wandb.ai/saquibali7/sr-gan\" target=\"_blank\">Weights & Biases</a> (<a href=\"https://wandb.me/run\" target=\"_blank\">docs</a>)<br/>"
            ],
            "text/plain": [
              "<IPython.core.display.HTML object>"
            ]
          },
          "metadata": {},
          "output_type": "display_data"
        },
        {
          "name": "stdout",
          "output_type": "stream",
          "text": [
            "Epoch 0: "
          ]
        },
        {
          "name": "stderr",
          "output_type": "stream",
          "text": [
            "100%|██████████| 5/5 [01:34<00:00, 18.95s/it]\n",
            "/usr/local/lib/python3.7/dist-packages/ipykernel_launcher.py:19: UserWarning: To copy construct from a tensor, it is recommended to use sourceTensor.clone().detach() or sourceTensor.clone().detach().requires_grad_(True), rather than torch.tensor(sourceTensor).\n"
          ]
        },
        {
          "name": "stdout",
          "output_type": "stream",
          "text": [
            "PSNR: 14.358 SSIM: 0.623\n",
            "\n",
            "Epoch 1: "
          ]
        },
        {
          "name": "stderr",
          "output_type": "stream",
          "text": [
            "100%|██████████| 5/5 [01:26<00:00, 17.33s/it]\n"
          ]
        },
        {
          "name": "stdout",
          "output_type": "stream",
          "text": [
            "PSNR: 18.002 SSIM: 0.707\n",
            "\n",
            "Epoch 2: "
          ]
        },
        {
          "name": "stderr",
          "output_type": "stream",
          "text": [
            "100%|██████████| 5/5 [01:29<00:00, 17.87s/it]\n"
          ]
        },
        {
          "name": "stdout",
          "output_type": "stream",
          "text": [
            "PSNR: 19.737 SSIM: 0.689\n",
            "\n",
            "Epoch 3: "
          ]
        },
        {
          "name": "stderr",
          "output_type": "stream",
          "text": [
            "100%|██████████| 5/5 [01:28<00:00, 17.78s/it]\n"
          ]
        },
        {
          "name": "stdout",
          "output_type": "stream",
          "text": [
            "PSNR: 19.362 SSIM: 0.621\n",
            "\n",
            "Epoch 4: "
          ]
        },
        {
          "name": "stderr",
          "output_type": "stream",
          "text": [
            "100%|██████████| 5/5 [01:31<00:00, 18.25s/it]\n"
          ]
        },
        {
          "name": "stdout",
          "output_type": "stream",
          "text": [
            "PSNR: 20.476 SSIM: 0.752\n",
            "\n",
            "Epoch 5: "
          ]
        },
        {
          "name": "stderr",
          "output_type": "stream",
          "text": [
            "100%|██████████| 5/5 [01:29<00:00, 17.86s/it]\n"
          ]
        },
        {
          "name": "stdout",
          "output_type": "stream",
          "text": [
            "PSNR: 20.312 SSIM: 0.775\n",
            "\n",
            "Epoch 6: "
          ]
        },
        {
          "name": "stderr",
          "output_type": "stream",
          "text": [
            "100%|██████████| 5/5 [01:26<00:00, 17.37s/it]\n"
          ]
        },
        {
          "name": "stdout",
          "output_type": "stream",
          "text": [
            "PSNR: 21.458 SSIM: 0.803\n",
            "\n",
            "Epoch 7: "
          ]
        },
        {
          "name": "stderr",
          "output_type": "stream",
          "text": [
            "100%|██████████| 5/5 [01:28<00:00, 17.66s/it]\n"
          ]
        },
        {
          "name": "stdout",
          "output_type": "stream",
          "text": [
            "PSNR: 23.096 SSIM: 0.843\n",
            "\n",
            "Epoch 8: "
          ]
        },
        {
          "name": "stderr",
          "output_type": "stream",
          "text": [
            "100%|██████████| 5/5 [01:30<00:00, 18.13s/it]\n"
          ]
        },
        {
          "name": "stdout",
          "output_type": "stream",
          "text": [
            "PSNR: 26.559 SSIM: 0.872\n",
            "\n",
            "Epoch 9: "
          ]
        },
        {
          "name": "stderr",
          "output_type": "stream",
          "text": [
            "100%|██████████| 5/5 [01:26<00:00, 17.26s/it]\n"
          ]
        },
        {
          "name": "stdout",
          "output_type": "stream",
          "text": [
            "PSNR: 31.367 SSIM: 0.928\n",
            "\n",
            "Epoch 10: "
          ]
        },
        {
          "name": "stderr",
          "output_type": "stream",
          "text": [
            "100%|██████████| 5/5 [01:31<00:00, 18.30s/it]\n"
          ]
        },
        {
          "name": "stdout",
          "output_type": "stream",
          "text": [
            "PSNR: 29.131 SSIM: 0.922\n",
            "\n",
            "Epoch 11: "
          ]
        },
        {
          "name": "stderr",
          "output_type": "stream",
          "text": [
            "100%|██████████| 5/5 [01:27<00:00, 17.41s/it]\n"
          ]
        },
        {
          "name": "stdout",
          "output_type": "stream",
          "text": [
            "PSNR: 30.013 SSIM: 0.938\n",
            "\n",
            "Epoch 12: "
          ]
        },
        {
          "name": "stderr",
          "output_type": "stream",
          "text": [
            "100%|██████████| 5/5 [01:25<00:00, 17.04s/it]\n"
          ]
        },
        {
          "name": "stdout",
          "output_type": "stream",
          "text": [
            "PSNR: 31.865 SSIM: 0.935\n",
            "\n",
            "Epoch 13: "
          ]
        },
        {
          "name": "stderr",
          "output_type": "stream",
          "text": [
            "100%|██████████| 5/5 [01:23<00:00, 16.78s/it]\n"
          ]
        },
        {
          "name": "stdout",
          "output_type": "stream",
          "text": [
            "PSNR: 32.671 SSIM: 0.932\n",
            "\n",
            "Epoch 14: "
          ]
        },
        {
          "name": "stderr",
          "output_type": "stream",
          "text": [
            "100%|██████████| 5/5 [01:26<00:00, 17.35s/it]\n"
          ]
        },
        {
          "name": "stdout",
          "output_type": "stream",
          "text": [
            "PSNR: 32.947 SSIM: 0.936\n",
            "\n",
            "Epoch 15: "
          ]
        },
        {
          "name": "stderr",
          "output_type": "stream",
          "text": [
            "100%|██████████| 5/5 [01:29<00:00, 17.98s/it]\n"
          ]
        },
        {
          "name": "stdout",
          "output_type": "stream",
          "text": [
            "PSNR: 31.693 SSIM: 0.930\n",
            "\n",
            "Epoch 16: "
          ]
        },
        {
          "name": "stderr",
          "output_type": "stream",
          "text": [
            "100%|██████████| 5/5 [01:24<00:00, 16.90s/it]\n"
          ]
        },
        {
          "name": "stdout",
          "output_type": "stream",
          "text": [
            "PSNR: 31.854 SSIM: 0.939\n",
            "\n",
            "Epoch 17: "
          ]
        },
        {
          "name": "stderr",
          "output_type": "stream",
          "text": [
            "100%|██████████| 5/5 [01:30<00:00, 18.14s/it]\n"
          ]
        },
        {
          "name": "stdout",
          "output_type": "stream",
          "text": [
            "PSNR: 30.260 SSIM: 0.935\n",
            "\n",
            "Epoch 18: "
          ]
        },
        {
          "name": "stderr",
          "output_type": "stream",
          "text": [
            "100%|██████████| 5/5 [01:26<00:00, 17.21s/it]\n"
          ]
        },
        {
          "name": "stdout",
          "output_type": "stream",
          "text": [
            "PSNR: 32.753 SSIM: 0.941\n",
            "\n",
            "Epoch 19: "
          ]
        },
        {
          "name": "stderr",
          "output_type": "stream",
          "text": [
            "100%|██████████| 5/5 [01:27<00:00, 17.60s/it]\n"
          ]
        },
        {
          "name": "stdout",
          "output_type": "stream",
          "text": [
            "PSNR: 33.743 SSIM: 0.942\n",
            "\n",
            "Epoch 20: "
          ]
        },
        {
          "name": "stderr",
          "output_type": "stream",
          "text": [
            "100%|██████████| 5/5 [01:26<00:00, 17.31s/it]\n"
          ]
        },
        {
          "name": "stdout",
          "output_type": "stream",
          "text": [
            "PSNR: 33.864 SSIM: 0.944\n",
            "\n",
            "Epoch 21: "
          ]
        },
        {
          "name": "stderr",
          "output_type": "stream",
          "text": [
            "100%|██████████| 5/5 [01:29<00:00, 17.92s/it]\n"
          ]
        },
        {
          "name": "stdout",
          "output_type": "stream",
          "text": [
            "PSNR: 34.191 SSIM: 0.944\n",
            "\n",
            "Epoch 22: "
          ]
        },
        {
          "name": "stderr",
          "output_type": "stream",
          "text": [
            "100%|██████████| 5/5 [01:28<00:00, 17.63s/it]\n"
          ]
        },
        {
          "name": "stdout",
          "output_type": "stream",
          "text": [
            "PSNR: 34.187 SSIM: 0.944\n",
            "\n",
            "Epoch 23: "
          ]
        },
        {
          "name": "stderr",
          "output_type": "stream",
          "text": [
            "100%|██████████| 5/5 [01:28<00:00, 17.74s/it]\n"
          ]
        },
        {
          "name": "stdout",
          "output_type": "stream",
          "text": [
            "PSNR: 34.211 SSIM: 0.944\n",
            "\n",
            "Epoch 24: "
          ]
        },
        {
          "name": "stderr",
          "output_type": "stream",
          "text": [
            "100%|██████████| 5/5 [01:24<00:00, 16.90s/it]\n"
          ]
        },
        {
          "name": "stdout",
          "output_type": "stream",
          "text": [
            "PSNR: 34.220 SSIM: 0.944\n",
            "\n",
            "Epoch 25: "
          ]
        },
        {
          "name": "stderr",
          "output_type": "stream",
          "text": [
            "100%|██████████| 5/5 [01:27<00:00, 17.58s/it]\n"
          ]
        },
        {
          "name": "stdout",
          "output_type": "stream",
          "text": [
            "PSNR: 34.040 SSIM: 0.944\n",
            "\n",
            "Epoch 26: "
          ]
        },
        {
          "name": "stderr",
          "output_type": "stream",
          "text": [
            "100%|██████████| 5/5 [01:30<00:00, 18.13s/it]\n"
          ]
        },
        {
          "name": "stdout",
          "output_type": "stream",
          "text": [
            "PSNR: 33.547 SSIM: 0.945\n",
            "\n",
            "Epoch 27: "
          ]
        },
        {
          "name": "stderr",
          "output_type": "stream",
          "text": [
            "100%|██████████| 5/5 [01:31<00:00, 18.34s/it]\n"
          ]
        },
        {
          "name": "stdout",
          "output_type": "stream",
          "text": [
            "PSNR: 32.953 SSIM: 0.945\n",
            "\n",
            "Epoch 28: "
          ]
        },
        {
          "name": "stderr",
          "output_type": "stream",
          "text": [
            "100%|██████████| 5/5 [01:26<00:00, 17.39s/it]\n"
          ]
        },
        {
          "name": "stdout",
          "output_type": "stream",
          "text": [
            "PSNR: 33.959 SSIM: 0.944\n",
            "\n",
            "Epoch 29: "
          ]
        },
        {
          "name": "stderr",
          "output_type": "stream",
          "text": [
            "100%|██████████| 5/5 [01:30<00:00, 18.13s/it]\n"
          ]
        },
        {
          "name": "stdout",
          "output_type": "stream",
          "text": [
            "PSNR: 34.359 SSIM: 0.945\n",
            "\n",
            "Epoch 30: "
          ]
        },
        {
          "name": "stderr",
          "output_type": "stream",
          "text": [
            "100%|██████████| 5/5 [01:25<00:00, 17.16s/it]\n"
          ]
        },
        {
          "name": "stdout",
          "output_type": "stream",
          "text": [
            "PSNR: 33.842 SSIM: 0.941\n",
            "\n",
            "Epoch 31: "
          ]
        },
        {
          "name": "stderr",
          "output_type": "stream",
          "text": [
            "100%|██████████| 5/5 [01:28<00:00, 17.70s/it]\n"
          ]
        },
        {
          "name": "stdout",
          "output_type": "stream",
          "text": [
            "PSNR: 33.879 SSIM: 0.945\n",
            "\n",
            "Epoch 32: "
          ]
        },
        {
          "name": "stderr",
          "output_type": "stream",
          "text": [
            "100%|██████████| 5/5 [01:28<00:00, 17.63s/it]\n"
          ]
        },
        {
          "name": "stdout",
          "output_type": "stream",
          "text": [
            "PSNR: 34.516 SSIM: 0.945\n",
            "\n",
            "Epoch 33: "
          ]
        },
        {
          "name": "stderr",
          "output_type": "stream",
          "text": [
            "100%|██████████| 5/5 [01:29<00:00, 17.86s/it]\n"
          ]
        },
        {
          "name": "stdout",
          "output_type": "stream",
          "text": [
            "PSNR: 34.452 SSIM: 0.946\n",
            "\n",
            "Epoch 34: "
          ]
        },
        {
          "name": "stderr",
          "output_type": "stream",
          "text": [
            "100%|██████████| 5/5 [01:29<00:00, 17.97s/it]\n"
          ]
        },
        {
          "name": "stdout",
          "output_type": "stream",
          "text": [
            "PSNR: 34.003 SSIM: 0.946\n",
            "\n",
            "Epoch 35: "
          ]
        },
        {
          "name": "stderr",
          "output_type": "stream",
          "text": [
            "100%|██████████| 5/5 [01:26<00:00, 17.35s/it]\n"
          ]
        },
        {
          "name": "stdout",
          "output_type": "stream",
          "text": [
            "PSNR: 34.163 SSIM: 0.945\n",
            "\n",
            "Epoch 36: "
          ]
        },
        {
          "name": "stderr",
          "output_type": "stream",
          "text": [
            "100%|██████████| 5/5 [01:30<00:00, 18.17s/it]\n"
          ]
        },
        {
          "name": "stdout",
          "output_type": "stream",
          "text": [
            "PSNR: 34.253 SSIM: 0.945\n",
            "\n",
            "Epoch 37: "
          ]
        },
        {
          "name": "stderr",
          "output_type": "stream",
          "text": [
            "100%|██████████| 5/5 [01:28<00:00, 17.66s/it]\n"
          ]
        },
        {
          "name": "stdout",
          "output_type": "stream",
          "text": [
            "PSNR: 33.287 SSIM: 0.946\n",
            "\n",
            "Epoch 38: "
          ]
        },
        {
          "name": "stderr",
          "output_type": "stream",
          "text": [
            "100%|██████████| 5/5 [01:28<00:00, 17.62s/it]\n"
          ]
        },
        {
          "name": "stdout",
          "output_type": "stream",
          "text": [
            "PSNR: 34.415 SSIM: 0.944\n",
            "\n",
            "Epoch 39: "
          ]
        },
        {
          "name": "stderr",
          "output_type": "stream",
          "text": [
            "100%|██████████| 5/5 [01:31<00:00, 18.29s/it]\n"
          ]
        },
        {
          "name": "stdout",
          "output_type": "stream",
          "text": [
            "PSNR: 34.361 SSIM: 0.945\n",
            "\n",
            "Epoch 40: "
          ]
        },
        {
          "name": "stderr",
          "output_type": "stream",
          "text": [
            "100%|██████████| 5/5 [01:33<00:00, 18.67s/it]\n"
          ]
        },
        {
          "name": "stdout",
          "output_type": "stream",
          "text": [
            "PSNR: 33.759 SSIM: 0.945\n",
            "\n",
            "Epoch 41: "
          ]
        },
        {
          "name": "stderr",
          "output_type": "stream",
          "text": [
            "100%|██████████| 5/5 [01:29<00:00, 17.89s/it]\n"
          ]
        },
        {
          "name": "stdout",
          "output_type": "stream",
          "text": [
            "PSNR: 34.113 SSIM: 0.945\n",
            "\n",
            "Epoch 42: "
          ]
        },
        {
          "name": "stderr",
          "output_type": "stream",
          "text": [
            "100%|██████████| 5/5 [01:27<00:00, 17.41s/it]\n"
          ]
        },
        {
          "name": "stdout",
          "output_type": "stream",
          "text": [
            "PSNR: 34.421 SSIM: 0.945\n",
            "\n",
            "Epoch 43: "
          ]
        },
        {
          "name": "stderr",
          "output_type": "stream",
          "text": [
            "100%|██████████| 5/5 [01:31<00:00, 18.30s/it]\n"
          ]
        },
        {
          "name": "stdout",
          "output_type": "stream",
          "text": [
            "PSNR: 34.595 SSIM: 0.945\n",
            "\n",
            "Epoch 44: "
          ]
        },
        {
          "name": "stderr",
          "output_type": "stream",
          "text": [
            "100%|██████████| 5/5 [01:31<00:00, 18.28s/it]\n"
          ]
        },
        {
          "name": "stdout",
          "output_type": "stream",
          "text": [
            "PSNR: 34.712 SSIM: 0.946\n",
            "\n",
            "Epoch 45: "
          ]
        },
        {
          "name": "stderr",
          "output_type": "stream",
          "text": [
            "100%|██████████| 5/5 [01:26<00:00, 17.39s/it]\n"
          ]
        },
        {
          "name": "stdout",
          "output_type": "stream",
          "text": [
            "PSNR: 33.758 SSIM: 0.946\n",
            "\n",
            "Epoch 46: "
          ]
        },
        {
          "name": "stderr",
          "output_type": "stream",
          "text": [
            "100%|██████████| 5/5 [01:30<00:00, 18.01s/it]\n"
          ]
        },
        {
          "name": "stdout",
          "output_type": "stream",
          "text": [
            "PSNR: 34.704 SSIM: 0.946\n",
            "\n",
            "Epoch 47: "
          ]
        },
        {
          "name": "stderr",
          "output_type": "stream",
          "text": [
            "100%|██████████| 5/5 [01:31<00:00, 18.30s/it]\n"
          ]
        },
        {
          "name": "stdout",
          "output_type": "stream",
          "text": [
            "PSNR: 34.273 SSIM: 0.947\n",
            "\n",
            "Epoch 48: "
          ]
        },
        {
          "name": "stderr",
          "output_type": "stream",
          "text": [
            "100%|██████████| 5/5 [01:30<00:00, 18.01s/it]\n"
          ]
        },
        {
          "name": "stdout",
          "output_type": "stream",
          "text": [
            "PSNR: 34.267 SSIM: 0.946\n",
            "\n",
            "Epoch 49: "
          ]
        },
        {
          "name": "stderr",
          "output_type": "stream",
          "text": [
            "100%|██████████| 5/5 [01:28<00:00, 17.76s/it]\n"
          ]
        },
        {
          "name": "stdout",
          "output_type": "stream",
          "text": [
            "PSNR: 34.687 SSIM: 0.945\n",
            "\n",
            "Epoch 50: "
          ]
        },
        {
          "name": "stderr",
          "output_type": "stream",
          "text": [
            "100%|██████████| 5/5 [01:28<00:00, 17.64s/it]\n"
          ]
        },
        {
          "name": "stdout",
          "output_type": "stream",
          "text": [
            "PSNR: 34.214 SSIM: 0.946\n",
            "\n",
            "Epoch 51: "
          ]
        },
        {
          "name": "stderr",
          "output_type": "stream",
          "text": [
            "100%|██████████| 5/5 [01:28<00:00, 17.80s/it]\n"
          ]
        },
        {
          "name": "stdout",
          "output_type": "stream",
          "text": [
            "PSNR: 34.906 SSIM: 0.946\n",
            "\n",
            "Epoch 52: "
          ]
        },
        {
          "name": "stderr",
          "output_type": "stream",
          "text": [
            "100%|██████████| 5/5 [01:28<00:00, 17.62s/it]\n"
          ]
        },
        {
          "name": "stdout",
          "output_type": "stream",
          "text": [
            "PSNR: 34.576 SSIM: 0.947\n",
            "\n",
            "Epoch 53: "
          ]
        },
        {
          "name": "stderr",
          "output_type": "stream",
          "text": [
            "100%|██████████| 5/5 [01:29<00:00, 17.98s/it]\n"
          ]
        },
        {
          "name": "stdout",
          "output_type": "stream",
          "text": [
            "PSNR: 34.953 SSIM: 0.947\n",
            "\n",
            "Epoch 54: "
          ]
        },
        {
          "name": "stderr",
          "output_type": "stream",
          "text": [
            "100%|██████████| 5/5 [01:28<00:00, 17.67s/it]\n"
          ]
        },
        {
          "name": "stdout",
          "output_type": "stream",
          "text": [
            "PSNR: 34.759 SSIM: 0.946\n",
            "\n",
            "Epoch 55: "
          ]
        },
        {
          "name": "stderr",
          "output_type": "stream",
          "text": [
            "100%|██████████| 5/5 [01:28<00:00, 17.76s/it]\n"
          ]
        },
        {
          "name": "stdout",
          "output_type": "stream",
          "text": [
            "PSNR: 35.010 SSIM: 0.947\n",
            "\n",
            "Epoch 56: "
          ]
        },
        {
          "name": "stderr",
          "output_type": "stream",
          "text": [
            "100%|██████████| 5/5 [01:30<00:00, 18.04s/it]\n"
          ]
        },
        {
          "name": "stdout",
          "output_type": "stream",
          "text": [
            "PSNR: 34.611 SSIM: 0.946\n",
            "\n",
            "Epoch 57: "
          ]
        },
        {
          "name": "stderr",
          "output_type": "stream",
          "text": [
            " 80%|████████  | 4/5 [01:20<00:20, 20.15s/it]"
          ]
        }
      ],
      "source": [
        "CRITIC_ITERATION  = 5\n",
        "LAMBDA_GP = 10\n",
        "device = \"cuda\" if torch.cuda.is_available() else \"cpu\"\n",
        "\n",
        "from tqdm import tqdm\n",
        "import wandb\n",
        "\n",
        "wandb.init(project=\"sr-gan\")\n",
        "num_epochs = 250\n",
        "num_train_batches = float(len(dl))\n",
        "num_val_batches = float(len(val_lr))\n",
        "\n",
        "for epoch in range(num_epochs):\n",
        "    print(f\"Epoch {epoch}: \", end =\"\")\n",
        "    \n",
        "    G_adv_loss = 0\n",
        "    G_rec_loss = 0\n",
        "    G_tot_loss = 0\n",
        "    D_adv_loss = 0\n",
        "    \n",
        "    generator.train()\n",
        "    for batch in tqdm(dl):\n",
        "\n",
        "\n",
        "      batch_lr = batch['LR']\n",
        "      batch_hr = batch['HR'] \n",
        "      lr_images = batch_lr.to(\"cuda\")\n",
        "      hr_images = batch_hr.to(\"cuda\")\n",
        "\n",
        "      ## Disciminator training\n",
        "      \n",
        "      for _ in range(CRITIC_ITERATION):\n",
        "        predicted_hr_images = generator(lr_images).detach() # avoid back propogation to generator\n",
        "        adv_hr_real = discriminator(hr_images).reshape(-1)\n",
        "        adv_hr_fake = discriminator(predicted_hr_images).reshape(-1)\n",
        "        gp = gradient_penalty(discriminator, hr_images, predicted_hr_images, device)\n",
        "        df_loss = (-(torch.mean(adv_hr_real) - torch.mean(predicted_hr_images)) + LAMBDA_GP * gp)\n",
        "\n",
        "        optim_D.zero_grad()\n",
        "        D_adv_loss += df_loss.item()\n",
        "        df_loss.backward()\n",
        "        optim_D.step()\n",
        "\n",
        "\n",
        "      ## genrator training\n",
        "\n",
        "\n",
        "      predicted_hr_images = generator(lr_images)\n",
        "      predicted_hr_labels = discriminator(predicted_hr_images).reshape(-1)\n",
        "      gf_loss = -torch.mean(predicted_hr_labels) #adverserial loss\n",
        "      # reconstruction loss\n",
        "      \n",
        "      gr_loss = 100*F.l1_loss(predicted_hr_images, hr_images) # L1 loss\n",
        "      # gr_loss = 100*F.mse_loss(predicted_hr_images, hr_images) # L2 loss\n",
        "      g_loss = gf_loss + gr_loss\n",
        "\n",
        "      G_adv_loss += gf_loss.item()\n",
        "      G_rec_loss += gr_loss.item()\n",
        "      G_tot_loss += g_loss.item()\n",
        "      \n",
        "      optim_G.zero_grad()\n",
        "      g_loss.backward()\n",
        "      optim_G.step()\n",
        "     \n",
        "    \n",
        "    wandb.log({\"G Adversarial Loss\": G_adv_loss/num_train_batches, 'epoch':epoch })\n",
        "    wandb.log({\"G Reconstruction Loss\": G_rec_loss/num_train_batches, 'epoch':epoch })\n",
        "    wandb.log({\"G Loss Total\": G_tot_loss/num_train_batches, 'epoch':epoch })\n",
        "    wandb.log({\"D Adversarial Loss\": D_adv_loss/num_train_batches, 'epoch':epoch })\n",
        "\n",
        "\n",
        "    #After each epoch, we perform validation\n",
        "    with torch.inference_mode():\n",
        "      val_psnr = 0\n",
        "      val_ssim = 0\n",
        "      for batch_idx, (lr, hr) in enumerate(zip(val_lr, val_hr)):\n",
        "        lr = lr.to(\"cuda\")\n",
        "        hr = hr.to(\"cuda\")\n",
        "        predicted_hr = generator(lr)\n",
        "\n",
        "        psnr, ssim = calculate_error(hr, predicted_hr)\n",
        "        val_psnr += psnr\n",
        "        val_ssim += ssim\n",
        "\n",
        "        grid1 = make_grid(lr)\n",
        "        grid2 = make_grid(hr)\n",
        "        grid3 = make_grid(predicted_hr)\n",
        "        grid1 = wandb.Image(grid1, caption=\"Low Resolution Image\")\n",
        "        grid2 = wandb.Image(grid2, caption=\"High Resolution Image\")\n",
        "        grid3 = wandb.Image(grid3, caption=\"Reconstructed High Resolution Image\")\n",
        "        wandb.log({\"Original LR\": grid1})\n",
        "        wandb.log({\"Original HR\": grid2})\n",
        "        wandb.log({\"Reconstruced\": grid3})\n",
        "    \n",
        "    val_psnr /= num_val_batches\n",
        "    val_ssim /= num_val_batches\n",
        "    wandb.log({\"PSNR\" : val_psnr, 'epoch':epoch })\n",
        "    wandb.log({\"SSIM\" : val_ssim, 'epoch':epoch })\n",
        "    print(f\"PSNR: {val_psnr:.3f} SSIM: {val_ssim:.3f}\\n\")"
      ]
    },
    {
      "cell_type": "code",
      "execution_count": null,
      "metadata": {
        "id": "OxJKyx9QTZOi"
      },
      "outputs": [],
      "source": [
        "!ps -aux|grep python"
      ]
    },
    {
      "cell_type": "code",
      "execution_count": null,
      "metadata": {
        "id": "o09sRnAaKoCT"
      },
      "outputs": [],
      "source": [
        "!kill -9 1063"
      ]
    },
    {
      "cell_type": "code",
      "execution_count": null,
      "metadata": {
        "id": "VL5hv2Eadkzh"
      },
      "outputs": [],
      "source": [
        "with torch.no_grad():\n",
        "    torch.cuda.empty_cache()"
      ]
    },
    {
      "cell_type": "code",
      "execution_count": null,
      "metadata": {
        "id": "HBxK0187dmHx"
      },
      "outputs": [],
      "source": [
        "!nvidia-smi"
      ]
    },
    {
      "cell_type": "markdown",
      "metadata": {
        "id": "0gtREWaHhnfG"
      },
      "source": [
        "## VAE"
      ]
    },
    {
      "cell_type": "code",
      "execution_count": null,
      "metadata": {
        "id": "tT_fggMveAnt"
      },
      "outputs": [],
      "source": [
        "generator = RRDBNet(1, 1, 64, 4)\n",
        "generator = generator.to(\"cuda\")\n",
        "optim_G = torch.optim.Adam(generator.parameters(), lr=0.0001)"
      ]
    },
    {
      "cell_type": "code",
      "execution_count": null,
      "metadata": {
        "id": "sMvhTFPwhvNq"
      },
      "outputs": [],
      "source": [
        "wandb.init(project=\"vae\")\n",
        "for epoch in range(1, 10):\n",
        "    print(\"Training for epoch\",epoch)\n",
        "    generator.train()\n",
        "    start_index = 0\n",
        "    for batchIndex in range(0,num_iterations):\n",
        "      print(\"iteration\", batchIndex)\n",
        "      end_index = min(start_index+10,len(train_lr_dataset))\n",
        "      #training generator\n",
        "      optim_G.zero_grad()\n",
        "      batch_lr = train_preprocess_function(train_lr_dataset[start_index:end_index])\n",
        "      batch_hr = train_preprocess_function(train_hr_dataset[start_index:end_index])\n",
        "      start_index = end_index\n",
        "      #batch_lr = \n",
        "      lr_images = batch_lr.to(\"cuda\")\n",
        "      hr_images = batch_hr.to(\"cuda\")\n",
        "      predicted_hr_images = generator(lr_images)\n",
        "      g_loss = 100.0* F.l1_loss(predicted_hr_images, hr_images)\n",
        "      wandb.log({\"G Loss Total\":g_loss.item()})\n",
        "      g_loss.backward()\n",
        "      optim_G.step()\n",
        "      if batchIndex%5==0:\n",
        "        grid1 = make_grid(lr_images[0:3])\n",
        "        grid2 = make_grid(hr_images[0:3])\n",
        "        grid3 = make_grid(predicted_hr_images[0:3])\n",
        "        grid1 = wandb.Image(grid1, caption=\"Low Resolution Image\")\n",
        "        grid2 = wandb.Image(grid2, caption=\"High Resolution Image\")\n",
        "        grid3 = wandb.Image(grid3, caption=\"Reconstructed High Resolution Image\")\n",
        "        wandb.log({\"Original LR\": grid1})\n",
        "        wandb.log({\"Original HR\": grid2})\n",
        "        wandb.log({\"Reconstruced\": grid3})"
      ]
    },
    {
      "cell_type": "code",
      "execution_count": null,
      "metadata": {
        "id": "EJzElKZskfj4"
      },
      "outputs": [],
      "source": [
        "\n",
        "\n"
      ]
    }
  ],
  "metadata": {
    "accelerator": "GPU",
    "colab": {
      "collapsed_sections": [],
      "name": "WGAN_for_SuperResolution.ipynb",
      "provenance": [],
      "include_colab_link": true
    },
    "gpuClass": "standard",
    "kernelspec": {
      "display_name": "Python 3",
      "name": "python3"
    },
    "language_info": {
      "name": "python"
    }
  },
  "nbformat": 4,
  "nbformat_minor": 0
}