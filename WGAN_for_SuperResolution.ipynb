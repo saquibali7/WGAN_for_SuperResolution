{
  "nbformat": 4,
  "nbformat_minor": 0,
  "metadata": {
    "colab": {
      "name": "WGAN_for_SuperResolution.ipynb",
      "provenance": [],
      "collapsed_sections": [],
      "include_colab_link": true
    },
    "kernelspec": {
      "name": "python3",
      "display_name": "Python 3"
    },
    "language_info": {
      "name": "python"
    },
    "accelerator": "GPU",
    "gpuClass": "standard"
  },
  "cells": [
    {
      "cell_type": "markdown",
      "metadata": {
        "id": "view-in-github",
        "colab_type": "text"
      },
      "source": [
        "<a href=\"https://colab.research.google.com/github/saquibali7/WGAN_for_SuperResolution/blob/main/WGAN_for_SuperResolution.ipynb\" target=\"_parent\"><img src=\"https://colab.research.google.com/assets/colab-badge.svg\" alt=\"Open In Colab\"/></a>"
      ]
    },
    {
      "cell_type": "markdown",
      "source": [
        "## Notebook Setup"
      ],
      "metadata": {
        "id": "Qbznc8HgUDjB"
      }
    },
    {
      "cell_type": "code",
      "execution_count": 2,
      "metadata": {
        "id": "1Stn8gJUMDmf",
        "colab": {
          "base_uri": "https://localhost:8080/"
        },
        "outputId": "fa0cb8de-07dd-4ba4-e0df-f329875a7606"
      },
      "outputs": [
        {
          "output_type": "stream",
          "name": "stdout",
          "text": [
            "Cloning into 'SuperResolution-DEMs'...\n",
            "remote: Enumerating objects: 13, done.\u001b[K\n",
            "remote: Counting objects: 100% (13/13), done.\u001b[K\n",
            "remote: Compressing objects: 100% (10/10), done.\u001b[K\n",
            "remote: Total 13 (delta 3), reused 12 (delta 2), pack-reused 0\u001b[K\n",
            "Unpacking objects: 100% (13/13), done.\n"
          ]
        }
      ],
      "source": [
        "!git clone https://github.com/m-abbas-ansari/SuperResolution-DEMs.git"
      ]
    },
    {
      "cell_type": "code",
      "source": [
        "!pip -q install wandb rasterio pytorch-ignite "
      ],
      "metadata": {
        "id": "q61qUg5QMFxL",
        "colab": {
          "base_uri": "https://localhost:8080/"
        },
        "outputId": "68d1985b-e0e2-4540-b75c-35105d411bab"
      },
      "execution_count": 3,
      "outputs": [
        {
          "output_type": "stream",
          "name": "stdout",
          "text": [
            "\u001b[K     |████████████████████████████████| 1.8 MB 35.2 MB/s \n",
            "\u001b[K     |████████████████████████████████| 19.3 MB 1.1 MB/s \n",
            "\u001b[K     |████████████████████████████████| 259 kB 72.8 MB/s \n",
            "\u001b[K     |████████████████████████████████| 156 kB 72.2 MB/s \n",
            "\u001b[K     |████████████████████████████████| 181 kB 71.6 MB/s \n",
            "\u001b[K     |████████████████████████████████| 63 kB 1.7 MB/s \n",
            "\u001b[?25h  Building wheel for pathtools (setup.py) ... \u001b[?25l\u001b[?25hdone\n"
          ]
        }
      ]
    },
    {
      "cell_type": "code",
      "source": [
        "from google.colab import drive\n",
        "drive.mount('./gdrive')"
      ],
      "metadata": {
        "id": "SX3VoptwJh-G"
      },
      "execution_count": null,
      "outputs": []
    },
    {
      "cell_type": "code",
      "source": [
        "!cp -r gdrive/Shareddrives/TeamDriveForJmi/SIH/Dataset/SDEM ."
      ],
      "metadata": {
        "id": "6BCwjDT1MVdn",
        "colab": {
          "base_uri": "https://localhost:8080/"
        },
        "outputId": "6f2ed436-a8ef-47f5-8e7f-be55cd2fed4a"
      },
      "execution_count": 5,
      "outputs": [
        {
          "output_type": "stream",
          "name": "stdout",
          "text": [
            "cp: cannot stat 'gdrive/Shareddrives/TeamDriveForJmi/SIH/Dataset/SDEM': No such file or directory\n"
          ]
        }
      ]
    },
    {
      "cell_type": "code",
      "source": [
        "!cp -r gdrive/Shareddrives/TeamDriveForJmi/SIH/Kernels ."
      ],
      "metadata": {
        "id": "Q_6iOn9jQILf",
        "colab": {
          "base_uri": "https://localhost:8080/"
        },
        "outputId": "1b75dc6f-ab28-4f32-ed3a-ba4cbafb04fb"
      },
      "execution_count": 6,
      "outputs": [
        {
          "output_type": "stream",
          "name": "stdout",
          "text": [
            "cp: cannot stat 'gdrive/Shareddrives/TeamDriveForJmi/SIH/Kernels': No such file or directory\n"
          ]
        }
      ]
    },
    {
      "cell_type": "markdown",
      "source": [
        "## Setting seed and Importing"
      ],
      "metadata": {
        "id": "NQbqCwuKUPS2"
      }
    },
    {
      "cell_type": "code",
      "source": [
        "import torch\n",
        "torch.manual_seed(0)\n",
        "\n",
        "import random\n",
        "random.seed(0)\n",
        "\n",
        "import numpy as np\n",
        "np.random.seed(0)"
      ],
      "metadata": {
        "id": "5qs-guuKg5W2"
      },
      "execution_count": 7,
      "outputs": []
    },
    {
      "cell_type": "code",
      "source": [
        "#%cd /content/SuperResolution-DEMs"
      ],
      "metadata": {
        "id": "gviiQE47MdFL"
      },
      "execution_count": 8,
      "outputs": []
    },
    {
      "cell_type": "code",
      "source": [
        "import numpy as np\n",
        "import os, pdb\n",
        "import argparse\n",
        "#from PIL import Image, ImageEnhance\n",
        "import matplotlib.pyplot as plt\n",
        "import torch\n",
        "import torchvision.transforms as transforms\n",
        "#from torch.utils.data.sampler import SubsetRandomSampler\n",
        "import torch.nn as nn\n",
        "import time\n",
        "import imp\n",
        "import os\n",
        "import cv2\n",
        "import random\n",
        "import numpy as np\n",
        "from functools import partial\n",
        "from matplotlib import pyplot\n",
        "import functools\n",
        "import torch\n",
        "import os\n",
        "import numpy as np\n",
        "import torch.nn as nn\n",
        "import torch.nn.functional as F\n",
        "import torch.nn.init as init\n",
        "from torch.utils.data import Dataset, DataLoader\n",
        "from torchvision import transforms\n",
        "import torchvision\n",
        "from torchvision.utils import make_grid\n",
        "import rasterio as rio\n",
        "import glob\n",
        "import wandb"
      ],
      "metadata": {
        "id": "MqbYScd4Ph47"
      },
      "execution_count": 9,
      "outputs": []
    },
    {
      "cell_type": "code",
      "source": [
        "def load_numpy_files(npy_files):\n",
        "    npy_files = npy_files\n",
        "    demaps = []\n",
        "    for image_path in npy_files:\n",
        "        try:\n",
        "            x = np.load(image_path)\n",
        "            demaps.append(x)\n",
        "        except:\n",
        "            print('FAILED TO READ {} IN GRAYSCALE'.format(image_path))\n",
        "            continue\n",
        "    demaps = np.array(demaps)\n",
        "    demaps = demaps.reshape(len(npy_files),1,demaps.shape[1],demaps.shape[2])\n",
        "    return demaps"
      ],
      "metadata": {
        "id": "iztRtFJBPlBK"
      },
      "execution_count": 10,
      "outputs": []
    },
    {
      "cell_type": "markdown",
      "source": [
        "## Model Definitons"
      ],
      "metadata": {
        "id": "KTRHleLsUnKs"
      }
    },
    {
      "cell_type": "code",
      "source": [
        "def initialize_weights(net_l, scale=1):\n",
        "    if not isinstance(net_l, list):\n",
        "        net_l = [net_l]\n",
        "    for net in net_l:\n",
        "        for m in net.modules():\n",
        "            if isinstance(m, nn.Conv2d):\n",
        "                init.kaiming_normal_(m.weight, a=0, mode='fan_in')\n",
        "                m.weight.data *= scale  # for residual block\n",
        "                if m.bias is not None:\n",
        "                    m.bias.data.zero_()\n",
        "            elif isinstance(m, nn.Linear):\n",
        "                init.kaiming_normal_(m.weight, a=0, mode='fan_in')\n",
        "                m.weight.data *= scale\n",
        "                if m.bias is not None:\n",
        "                    m.bias.data.zero_()\n",
        "            elif isinstance(m, nn.BatchNorm2d):\n",
        "                init.constant_(m.weight, 1)\n",
        "                init.constant_(m.bias.data, 0.0)\n",
        "\n",
        "\n",
        "def make_layer(block, n_layers):\n",
        "    layers = []\n",
        "    for _ in range(n_layers):\n",
        "        layers.append(block())\n",
        "    return nn.Sequential(*layers)\n",
        "\n",
        "class ResidualDenseBlock_5C(nn.Module):\n",
        "    def __init__(self, nf=64, gc=32, bias=True):\n",
        "        super(ResidualDenseBlock_5C, self).__init__()\n",
        "        # gc: growth channel, i.e. intermediate channels\n",
        "        self.conv1 = nn.Conv2d(nf, gc, 3, 1, 1, bias=bias)\n",
        "        self.conv2 = nn.Conv2d(nf + gc, gc, 3, 1, 1, bias=bias)\n",
        "        self.conv3 = nn.Conv2d(nf + 2 * gc, gc, 3, 1, 1, bias=bias)\n",
        "        self.conv4 = nn.Conv2d(nf + 3 * gc, gc, 3, 1, 1, bias=bias)\n",
        "        self.conv5 = nn.Conv2d(nf + 4 * gc, nf, 3, 1, 1, bias=bias)\n",
        "        self.lrelu = nn.LeakyReLU(negative_slope=0.2, inplace=True)\n",
        "\n",
        "        # initialization\n",
        "        initialize_weights([self.conv1, self.conv2, self.conv3, self.conv4, self.conv5], 0.1)\n",
        "\n",
        "    def forward(self, x):\n",
        "        x1 = self.lrelu(self.conv1(x))\n",
        "        x2 = self.lrelu(self.conv2(torch.cat((x, x1), 1)))\n",
        "        x3 = self.lrelu(self.conv3(torch.cat((x, x1, x2), 1)))\n",
        "        x4 = self.lrelu(self.conv4(torch.cat((x, x1, x2, x3), 1)))\n",
        "        x5 = self.conv5(torch.cat((x, x1, x2, x3, x4), 1))\n",
        "        return x5 * 0.2 + x\n",
        "\n",
        "class RRDB(nn.Module):\n",
        "    '''Residual in Residual Dense Block'''\n",
        "\n",
        "    def __init__(self, nf, gc=32):\n",
        "        super(RRDB, self).__init__()\n",
        "        self.RDB1 = ResidualDenseBlock_5C(nf, gc)\n",
        "        self.RDB2 = ResidualDenseBlock_5C(nf, gc)\n",
        "        self.RDB3 = ResidualDenseBlock_5C(nf, gc)\n",
        "\n",
        "    def forward(self, x):\n",
        "        out = self.RDB1(x)\n",
        "        out = self.RDB2(out)\n",
        "        out = self.RDB3(out)\n",
        "        return out * 0.2 + x\n",
        "\n",
        "class RRDBNet(nn.Module):\n",
        "    def __init__(self, in_nc, out_nc, nf, nb, gc=32): # nb is no of blocks\n",
        "        super(RRDBNet, self).__init__()\n",
        "        RRDB_block_f = functools.partial(RRDB, nf=nf, gc=gc)\n",
        "        self.conv_first = nn.Conv2d(in_nc, nf, 3, 1, 1, bias=True)\n",
        "        self.RRDB_trunk = make_layer(RRDB_block_f, nb)\n",
        "        self.trunk_conv = nn.Conv2d(nf, nf, 3, 1, 1, bias=True)\n",
        "        self.upconv1 = nn.Conv2d(nf, nf, 3, 1, 1, bias=True)\n",
        "        self.upconv2 = nn.Conv2d(nf, nf, 3, 1, 1, bias=True)\n",
        "        self.HRconv = nn.Conv2d(nf, nf, 3, 1, 1, bias=True)\n",
        "        self.conv_last = nn.Sequential(nn.Conv2d(nf, out_nc, 3, 1, 1, bias=True),\n",
        "                                    nn.Tanh())\n",
        "        self.lrelu = nn.LeakyReLU(negative_slope=0.2, inplace=True)\n",
        "\n",
        "    def forward(self, x):\n",
        "        fea = self.conv_first(x)\n",
        "        trunk = self.trunk_conv(self.RRDB_trunk(fea))\n",
        "        fea = fea + trunk\n",
        "        fea = self.lrelu(self.upconv1(F.interpolate(fea, scale_factor=2, mode='nearest')))\n",
        "        fea = self.lrelu(self.upconv2(F.interpolate(fea, scale_factor=2, mode='nearest')))\n",
        "        out = self.conv_last(self.lrelu(self.HRconv(fea)))\n",
        "        out = (out+1.0)/2.0\n",
        "        return out\n",
        "    \n",
        "class Discriminator_VGG_128(nn.Module):\n",
        "    def __init__(self, in_nc, nf):\n",
        "        super(Discriminator_VGG_128, self).__init__()\n",
        "        self.conv0_0 = nn.Conv2d(in_nc, nf, 3, 1, 1, bias=True)\n",
        "        self.conv0_1 = nn.Conv2d(nf, nf, 4, 2, 1, bias=False)\n",
        "        self.bn0_1 = nn.BatchNorm2d(nf, affine=True)\n",
        "        self.conv1_0 = nn.Conv2d(nf, nf * 2, 3, 1, 1, bias=False)\n",
        "        self.bn1_0 = nn.BatchNorm2d(nf * 2, affine=True)\n",
        "        self.conv1_1 = nn.Conv2d(nf * 2, nf * 2, 4, 2, 1, bias=False)\n",
        "        self.bn1_1 = nn.BatchNorm2d(nf * 2, affine=True)\n",
        "        self.conv2_0 = nn.Conv2d(nf * 2, nf * 4, 3, 1, 1, bias=False)\n",
        "        self.bn2_0 = nn.BatchNorm2d(nf * 4, affine=True)\n",
        "        self.conv2_1 = nn.Conv2d(nf * 4, nf * 4, 4, 2, 1, bias=False)\n",
        "        self.bn2_1 = nn.BatchNorm2d(nf * 4, affine=True)\n",
        "        self.conv3_0 = nn.Conv2d(nf * 4, nf * 8, 3, 1, 1, bias=False)\n",
        "        self.bn3_0 = nn.BatchNorm2d(nf * 8, affine=True)\n",
        "        self.conv3_1 = nn.Conv2d(nf * 8, nf * 8, 4, 2, 1, bias=False)\n",
        "        self.bn3_1 = nn.BatchNorm2d(nf * 8, affine=True)\n",
        "        self.conv4_0 = nn.Conv2d(nf * 8, nf * 8, 3, 1, 1, bias=False)\n",
        "        self.bn4_0 = nn.BatchNorm2d(nf * 8, affine=True)\n",
        "        self.conv4_1 = nn.Conv2d(nf * 8, nf * 8, 4, 2, 1, bias=False)\n",
        "        self.bn4_1 = nn.BatchNorm2d(nf * 8, affine=True)\n",
        "        self.linear1 = nn.Linear(512 * 16 * 16, 100)\n",
        "        self.linear2 = nn.Linear(100, 1)\n",
        "        self.lrelu = nn.LeakyReLU(negative_slope=0.2, inplace=True)\n",
        "\n",
        "    def forward(self, x):\n",
        "        fea = self.lrelu(self.conv0_0(x))\n",
        "        fea = self.lrelu(self.bn0_1(self.conv0_1(fea)))\n",
        "        fea = self.lrelu(self.bn1_0(self.conv1_0(fea)))\n",
        "        fea = self.lrelu(self.bn1_1(self.conv1_1(fea)))\n",
        "        fea = self.lrelu(self.bn2_0(self.conv2_0(fea)))\n",
        "        fea = self.lrelu(self.bn2_1(self.conv2_1(fea)))\n",
        "        fea = self.lrelu(self.bn3_0(self.conv3_0(fea)))\n",
        "        fea = self.lrelu(self.bn3_1(self.conv3_1(fea)))\n",
        "        fea = self.lrelu(self.bn4_0(self.conv4_0(fea)))\n",
        "        fea = self.lrelu(self.bn4_1(self.conv4_1(fea)))\n",
        "        fea = fea.view(fea.size(0), -1)\n",
        "        fea = self.lrelu(self.linear1(fea))\n",
        "        out = self.linear2(fea)\n",
        "        return out"
      ],
      "metadata": {
        "id": "JIrWw3a4Q4ys"
      },
      "execution_count": 11,
      "outputs": []
    },
    {
      "cell_type": "markdown",
      "source": [
        "## Dataset and Loader"
      ],
      "metadata": {
        "id": "II1EtMcYDuOX"
      }
    },
    {
      "cell_type": "code",
      "source": [
        "from scipy.ndimage import correlate\n",
        "\n",
        "def numeric_kernel(im, kernel, scale_factor, output_shape):\n",
        "    # First run a correlation (convolution with flipped kernel)\n",
        "    out_im = np.zeros_like(im)\n",
        "    out_im = correlate(im, kernel)\n",
        "    # print(out_im.shape)\n",
        "    #print(np.round(np.linspace(0, im.shape[0] - 1 / scale_factor[0], output_shape[0])).astype(int)[:, None].shape)\n",
        "    # Then subsample and return\n",
        "    return out_im[np.round(np.linspace(0, im.shape[0] - 1 / scale_factor[0], output_shape[0])).astype(int)[:, None],\n",
        "           np.round(np.linspace(0, im.shape[1] - 1 / scale_factor[1], output_shape[1])).astype(int)]"
      ],
      "metadata": {
        "id": "ySRZ61a0ES_U"
      },
      "execution_count": 12,
      "outputs": []
    },
    {
      "cell_type": "code",
      "source": [
        "def normalize(im):\n",
        "    MIN_H = -500.0\n",
        "    MAX_H = 10000.0\n",
        "    return (im - MIN_H)/(MAX_H-MIN_H)"
      ],
      "metadata": {
        "id": "IsNorUHcEUo5"
      },
      "execution_count": 13,
      "outputs": []
    },
    {
      "cell_type": "code",
      "source": [
        "from scipy.io import loadmat\n",
        "\n",
        "class DemDataset(Dataset):\n",
        "    \"\"\"DEM dataset.\"\"\"\n",
        "\n",
        "    def __init__(self, root_dir, kernel_dir, transform=None):\n",
        "        \"\"\"\n",
        "        Args:\n",
        "            root_dir (string): Directory with all the DEMs.\n",
        "            kernel_dir (string): Directory with all the kernel DEMs.\n",
        "            transform (callable, optional): Optional transform to be applied\n",
        "                on a sample.\n",
        "        \"\"\"\n",
        "        self.root_dir = root_dir\n",
        "        self.transform = transform\n",
        "        dem_list = glob.glob(root_dir + '/*.asc')\n",
        "        print(dem_list)\n",
        "        self.dems = [normalize(rio.open(dem).read(1).astype('float')) for dem in dem_list] \n",
        "        \n",
        "        kernel_list = glob.glob(kernel_dir + '/*.mat')\n",
        "        print(kernel_list)\n",
        "        self.kernels = [loadmat(k)[\"Kernel\"] for k in kernel_list]\n",
        "\n",
        "    def __len__(self):\n",
        "        return len(self.dems)\n",
        "\n",
        "    def __getitem__(self, idx):\n",
        "        if torch.is_tensor(idx):\n",
        "            idx = idx.tolist()\n",
        "        k = self.kernels[np.random.randint(0, len(self.kernels))]\n",
        "        im = self.dems[idx]\n",
        "        HR = self.RandomCrop(im, 512).astype(np.float32)\n",
        "        LR = numeric_kernel(HR, k, [0.25,0.25], (128, 128)).astype(np.float32) \n",
        "\n",
        "        if self.transform:\n",
        "            HR = self.transform(HR)\n",
        "            LR = self.transform(LR)\n",
        "            \n",
        "        sample = {'HR': HR, 'LR': LR}        \n",
        "        return sample\n",
        "    \n",
        "    \n",
        "    def RandomCrop(self,image, output_size):\n",
        "        h, w = image.shape[:2]\n",
        "        new_h, new_w = (output_size, output_size)\n",
        "\n",
        "        top = np.random.randint(0, h - new_h)\n",
        "        left = np.random.randint(0, w - new_w)\n",
        "        image = image[top: top + new_h, left: left + new_w]\n",
        "\n",
        "        return image"
      ],
      "metadata": {
        "id": "bYph6yJPD0Ii"
      },
      "execution_count": 14,
      "outputs": []
    },
    {
      "cell_type": "code",
      "source": [
        "data = DemDataset(\"SDEM\", \"Kernels/results\", transform = transforms.Compose([transforms.ToTensor()]))"
      ],
      "metadata": {
        "id": "ilCpzg-UEy1o",
        "colab": {
          "base_uri": "https://localhost:8080/"
        },
        "outputId": "a2f9b335-738e-4556-a532-33fbd5e62fcd"
      },
      "execution_count": 15,
      "outputs": [
        {
          "output_type": "stream",
          "name": "stdout",
          "text": [
            "[]\n",
            "[]\n"
          ]
        }
      ]
    },
    {
      "cell_type": "code",
      "source": [
        "dl = DataLoader(dataset=data, batch_size=8, shuffle=True)"
      ],
      "metadata": {
        "id": "JdTikJ9qJmKc"
      },
      "execution_count": null,
      "outputs": []
    },
    {
      "cell_type": "code",
      "source": [
        "len(dl)"
      ],
      "metadata": {
        "id": "c18cSlMsJoAT"
      },
      "execution_count": null,
      "outputs": []
    },
    {
      "cell_type": "code",
      "source": [
        "val_lr = []\n",
        "val_hr = []\n",
        "for i, batch in enumerate(dl):\n",
        "  val_lr.append(batch['LR'])\n",
        "  val_hr.append(batch['HR'])\n",
        "  if i == 2:\n",
        "    break"
      ],
      "metadata": {
        "id": "DpAmXrIZJpzm"
      },
      "execution_count": null,
      "outputs": []
    },
    {
      "cell_type": "code",
      "source": [
        "for lr, hr in zip(val_lr, val_hr):\n",
        "  print(lr.shape, hr.shape)"
      ],
      "metadata": {
        "colab": {
          "base_uri": "https://localhost:8080/"
        },
        "id": "sX9xhuHdbGyx",
        "outputId": "20972e6c-7455-44eb-b440-a674864f4a71"
      },
      "execution_count": null,
      "outputs": [
        {
          "output_type": "stream",
          "name": "stdout",
          "text": [
            "torch.Size([8, 1, 128, 128]) torch.Size([8, 1, 512, 512])\n",
            "torch.Size([8, 1, 128, 128]) torch.Size([8, 1, 512, 512])\n",
            "torch.Size([8, 1, 128, 128]) torch.Size([8, 1, 512, 512])\n"
          ]
        }
      ]
    },
    {
      "cell_type": "code",
      "source": [
        "len(val_lr)"
      ],
      "metadata": {
        "colab": {
          "base_uri": "https://localhost:8080/"
        },
        "id": "HopNFN-eT4_g",
        "outputId": "fb53236a-8e39-48d2-97ad-169b08cbb18e"
      },
      "execution_count": null,
      "outputs": [
        {
          "output_type": "execute_result",
          "data": {
            "text/plain": [
              "24"
            ]
          },
          "metadata": {},
          "execution_count": 15
        }
      ]
    },
    {
      "cell_type": "code",
      "source": [
        "val_lr.min(), val_lr.max(), val_hr.min(), val_hr.max()"
      ],
      "metadata": {
        "colab": {
          "base_uri": "https://localhost:8080/"
        },
        "id": "3gczN4tdVakU",
        "outputId": "45325a25-2be8-4886-e6f7-41f6fcc3008c"
      },
      "execution_count": null,
      "outputs": [
        {
          "output_type": "execute_result",
          "data": {
            "text/plain": [
              "(tensor(0.0471), tensor(0.4539), tensor(0.0330), tensor(0.6259))"
            ]
          },
          "metadata": {},
          "execution_count": 16
        }
      ]
    },
    {
      "cell_type": "code",
      "source": [
        "from rasterio.plot import show\n",
        "import matplotlib.pyplot as plt\n",
        "\n",
        "dem_array = val_lr[0][0].numpy().squeeze()\n",
        " \n",
        "fig, ax = plt.subplots(1, figsize=(6, 6))\n",
        "show(dem_array, cmap='Greys_r', ax=ax)\n",
        "plt.show()"
      ],
      "metadata": {
        "colab": {
          "base_uri": "https://localhost:8080/",
          "height": 377
        },
        "id": "V91OOj6fKZ2-",
        "outputId": "b88938ca-2c42-4083-9804-5b65174af9b6"
      },
      "execution_count": null,
      "outputs": [
        {
          "output_type": "display_data",
          "data": {
            "text/plain": [
              "<Figure size 432x432 with 1 Axes>"
            ],
            "image/png": "[encoded data removed]"
          },
          "metadata": {
            "needs_background": "light"
          }
        }
      ]
    },
    {
      "cell_type": "code",
      "source": [
        "from ignite.metrics import PSNR,SSIM\n",
        "from ignite.engine import Engine\n",
        "# from imresize import numeric_kernel\n",
        "\n",
        "def eval_step(engine, batch): \n",
        "    return batch \n",
        "def calculate_error(img1,img2):\n",
        "    \n",
        "    default_evaluator = Engine(eval_step)\n",
        "    # calculating PSNR \n",
        "    y1 = img1.to(\"cuda\")\n",
        "    y2 = img2.to(\"cuda\")\n",
        "    psnr = PSNR(data_range=1)\n",
        "    psnr.attach(default_evaluator,'psnr')\n",
        "    state1 = default_evaluator.run([[y1,y2]])\n",
        "    # print(f\"PSNR :{state1.metrics['psnr']}\")\n",
        "\n",
        "    # # calculating SSIM\n",
        "    y1,y2 = torch.tensor(y1,dtype=torch.float32),torch.tensor(y2,dtype=torch.float32)\n",
        "    metric = SSIM(data_range=1)\n",
        "    metric.attach(default_evaluator, 'ssim')\n",
        "    state2 = default_evaluator.run([[y1, y2]])\n",
        "\n",
        "\n",
        "    # print(f\"SSIM : {state2.metrics['ssim']}\")\n",
        "    return state1.metrics['psnr'],state2.metrics['ssim']"
      ],
      "metadata": {
        "id": "aJ191jQYUsEX"
      },
      "execution_count": null,
      "outputs": []
    },
    {
      "cell_type": "markdown",
      "source": [
        "## Model parameters "
      ],
      "metadata": {
        "id": "OQsLOikvU_fz"
      }
    },
    {
      "cell_type": "code",
      "source": [
        "generator = RRDBNet(1, 1, 64, 4)\n",
        "generator = generator.to(\"cuda\")\n",
        "discriminator = Discriminator_VGG_128(1,64)\n",
        "discriminator = discriminator.to(\"cuda\")\n",
        "\n",
        "optim_G = torch.optim.Adam(generator.parameters(), lr=0.0001)\n",
        "optim_D = torch.optim.Adam(discriminator.parameters(), lr=0.0001)\n",
        "# LR Scheduling"
      ],
      "metadata": {
        "id": "Bmv7yGNqSb68"
      },
      "execution_count": null,
      "outputs": []
    },
    {
      "cell_type": "code",
      "source": [
        "# del generator\n",
        "# del discriminator"
      ],
      "metadata": {
        "id": "RotnCLbJGQsy"
      },
      "execution_count": null,
      "outputs": []
    },
    {
      "cell_type": "code",
      "source": [
        "# from numba import cuda\n",
        "# # Clearing GPU RAM\n",
        "# cuda.select_device(0)\n",
        "# cuda.close()"
      ],
      "metadata": {
        "id": "tGh66wuKGcft"
      },
      "execution_count": null,
      "outputs": []
    },
    {
      "cell_type": "code",
      "source": [
        "! nvidia-smi"
      ],
      "metadata": {
        "id": "5ZLIa-cWGxKk",
        "colab": {
          "base_uri": "https://localhost:8080/"
        },
        "outputId": "93637bf0-b397-486c-de58-ca39173284fa"
      },
      "execution_count": null,
      "outputs": [
        {
          "output_type": "stream",
          "name": "stdout",
          "text": [
            "Sat Jul  2 11:59:23 2022       \n",
            "+-----------------------------------------------------------------------------+\n",
            "| NVIDIA-SMI 460.32.03    Driver Version: 460.32.03    CUDA Version: 11.2     |\n",
            "|-------------------------------+----------------------+----------------------+\n",
            "| GPU  Name        Persistence-M| Bus-Id        Disp.A | Volatile Uncorr. ECC |\n",
            "| Fan  Temp  Perf  Pwr:Usage/Cap|         Memory-Usage | GPU-Util  Compute M. |\n",
            "|                               |                      |               MIG M. |\n",
            "|===============================+======================+======================|\n",
            "|   0  Tesla P100-PCIE...  Off  | 00000000:00:04.0 Off |                    0 |\n",
            "| N/A   34C    P0    33W / 250W |   1043MiB / 16280MiB |      5%      Default |\n",
            "|                               |                      |                  N/A |\n",
            "+-------------------------------+----------------------+----------------------+\n",
            "                                                                               \n",
            "+-----------------------------------------------------------------------------+\n",
            "| Processes:                                                                  |\n",
            "|  GPU   GI   CI        PID   Type   Process name                  GPU Memory |\n",
            "|        ID   ID                                                   Usage      |\n",
            "|=============================================================================|\n",
            "+-----------------------------------------------------------------------------+\n"
          ]
        }
      ]
    },
    {
      "cell_type": "markdown",
      "source": [
        "##Gradient Penalty"
      ],
      "metadata": {
        "id": "vg1A2QMoDrGv"
      }
    },
    {
      "cell_type": "code",
      "source": [
        "\n",
        "\n",
        "def gradient_penalty(critic, real, fake, device):\n",
        "  batch_size, c, h, w = real.shape\n",
        "  alpha = torch.randn((batch_size, 1, 1, 1)).repeat(1, c, h, w).to(device)\n",
        "  interplorated_images = real * real + fake.detach() * (1 - alpha)\n",
        "  interplorated_images.requires_grad_(True)\n",
        "\n",
        "  mixed_scores = discriminator(interplorated_images)\n",
        "\n",
        "  gradient = torch.autograd(\n",
        "      inputs = interplorated_images,\n",
        "      outputs = mixed_scores,\n",
        "      grad_outputs = torch.ones_like(mixed_scores),\n",
        "      create_graph = True,\n",
        "      retain_graph = True,\n",
        "  )[0]\n",
        "\n",
        "  gradient = gradient.view(gradient.shape[0], -1)\n",
        "  gradient_norm = gradient.norm(2, dim=1)\n",
        "  gradient_penalty = torch.mean((gradient_norm - 1) ** 2)\n",
        "  return gradient_penalty\n",
        "\n",
        "\n"
      ],
      "metadata": {
        "id": "IDb3aqTZDz9L"
      },
      "execution_count": 21,
      "outputs": []
    },
    {
      "cell_type": "markdown",
      "source": [
        "## Training Loop"
      ],
      "metadata": {
        "id": "LHJeKk57VKNx"
      }
    },
    {
      "cell_type": "code",
      "source": [
        "from tqdm import tqdm\n",
        "import wandb\n",
        "\n",
        "wandb.init(project=\"sr-gan\")\n",
        "num_epochs = 250\n",
        "num_train_batches = float(len(dl))\n",
        "num_val_batches = float(len(val_lr))\n",
        "\n",
        "for epoch in range(num_epochs):\n",
        "    print(f\"Epoch {epoch}: \", end =\"\")\n",
        "    \n",
        "    G_adv_loss = 0\n",
        "    G_rec_loss = 0\n",
        "    G_tot_loss = 0\n",
        "    D_adv_loss = 0\n",
        "    \n",
        "    generator.train()\n",
        "    for batch in tqdm(dl):\n",
        "\n",
        "      for p in discriminator.parameters():\n",
        "        p.requires_grad = False\n",
        "        #training generator\n",
        "      optim_G.zero_grad()\n",
        "\n",
        "      batch_lr = batch['LR']\n",
        "      batch_hr = batch['HR'] \n",
        "      lr_images = batch_lr.to(\"cuda\")\n",
        "      hr_images = batch_hr.to(\"cuda\")\n",
        "      predicted_hr_images = generator(lr_images)\n",
        "      predicted_hr_labels = discriminator(predicted_hr_images)\n",
        "      gf_loss = F.binary_cross_entropy_with_logits(predicted_hr_labels, torch.ones_like(predicted_hr_labels)) #adverserial loss\n",
        "      # reconstruction loss\n",
        "      # gr_loss = 100*F.l1_loss(predicted_hr_images, hr_images) # L1 loss\n",
        "      gr_loss = 100*F.mse_loss(predicted_hr_images, hr_images) # L2 loss\n",
        "      g_loss = gf_loss + gr_loss\n",
        "\n",
        "      G_adv_loss += gf_loss.item()\n",
        "      G_rec_loss += gr_loss.item()\n",
        "      G_tot_loss += g_loss.item()\n",
        "      \n",
        "      g_loss.backward()\n",
        "      optim_G.step()\n",
        "      #training discriminator\n",
        "      for p in discriminator.parameters():\n",
        "        p.requires_grad = True\n",
        "      optim_D.zero_grad()\n",
        "      predicted_hr_images = generator(lr_images).detach() # avoid back propogation to generator\n",
        "      adv_hr_real = discriminator(hr_images)\n",
        "      adv_hr_fake = discriminator(predicted_hr_images)\n",
        "      df_loss = F.binary_cross_entropy_with_logits(adv_hr_real, torch.ones_like(adv_hr_real)) + F.binary_cross_entropy_with_logits(adv_hr_fake, torch.zeros_like(adv_hr_fake))\n",
        "      D_adv_loss += df_loss.item()\n",
        "      df_loss.backward()\n",
        "      optim_D.step()\n",
        "    \n",
        "    wandb.log({\"G Adversarial Loss\": G_adv_loss/num_train_batches, 'epoch':epoch })\n",
        "    wandb.log({\"G Reconstruction Loss\": G_rec_loss/num_train_batches, 'epoch':epoch })\n",
        "    wandb.log({\"G Loss Total\": G_tot_loss/num_train_batches, 'epoch':epoch })\n",
        "    wandb.log({\"D Adversarial Loss\": D_adv_loss/num_train_batches, 'epoch':epoch })\n",
        "\n",
        "\n",
        "    #After each epoch, we perform validation\n",
        "    with torch.inference_mode():\n",
        "      val_psnr = 0\n",
        "      val_ssim = 0\n",
        "      for batch_idx, (lr, hr) in enumerate(zip(val_lr, val_hr)):\n",
        "        lr = lr.to(\"cuda\")\n",
        "        hr = hr.to(\"cuda\")\n",
        "        predicted_hr = generator(lr)\n",
        "\n",
        "        psnr, ssim = calculate_error(hr, predicted_hr)\n",
        "        val_psnr += psnr\n",
        "        val_ssim += ssim\n",
        "\n",
        "        grid1 = make_grid(lr)\n",
        "        grid2 = make_grid(hr)\n",
        "        grid3 = make_grid(predicted_hr)\n",
        "        grid1 = wandb.Image(grid1, caption=\"Low Resolution Image\")\n",
        "        grid2 = wandb.Image(grid2, caption=\"High Resolution Image\")\n",
        "        grid3 = wandb.Image(grid3, caption=\"Reconstructed High Resolution Image\")\n",
        "        wandb.log({\"Original LR\": grid1})\n",
        "        wandb.log({\"Original HR\": grid2})\n",
        "        wandb.log({\"Reconstruced\": grid3})\n",
        "    \n",
        "    val_psnr /= num_val_batches\n",
        "    val_ssim /= num_val_batches\n",
        "    wandb.log({\"PSNR\" : val_psnr, 'epoch':epoch })\n",
        "    wandb.log({\"SSIM\" : val_ssim, 'epoch':epoch })\n",
        "    print(f\"PSNR: {val_psnr:.3f} SSIM: {val_ssim:.3f}\\n\")"
      ],
      "metadata": {
        "id": "QorjeamsSmzX",
        "colab": {
          "base_uri": "https://localhost:8080/",
          "height": 1000
        },
        "outputId": "c75c625e-5d8d-4848-c3d2-e9879b491763"
      },
      "execution_count": null,
      "outputs": [
        {
          "output_type": "stream",
          "name": "stderr",
          "text": [
            "\u001b[34m\u001b[1mwandb\u001b[0m: Currently logged in as: \u001b[33mm-abbas-ansari\u001b[0m. Use \u001b[1m`wandb login --relogin`\u001b[0m to force relogin\n"
          ]
        },
        {
          "output_type": "display_data",
          "data": {
            "text/plain": [
              "<IPython.core.display.HTML object>"
            ],
            "text/html": [
              "Tracking run with wandb version 0.12.20"
            ]
          },
          "metadata": {}
        },
        {
          "output_type": "display_data",
          "data": {
            "text/plain": [
              "<IPython.core.display.HTML object>"
            ],
            "text/html": [
              "Run data is saved locally in <code>/content/wandb/run-20220702_115927-1treiavx</code>"
            ]
          },
          "metadata": {}
        },
        {
          "output_type": "display_data",
          "data": {
            "text/plain": [
              "<IPython.core.display.HTML object>"
            ],
            "text/html": [
              "Syncing run <strong><a href=\"https://wandb.ai/m-abbas-ansari/sr-gan/runs/1treiavx\" target=\"_blank\">brisk-pine-39</a></strong> to <a href=\"https://wandb.ai/m-abbas-ansari/sr-gan\" target=\"_blank\">Weights & Biases</a> (<a href=\"https://wandb.me/run\" target=\"_blank\">docs</a>)<br/>"
            ]
          },
          "metadata": {}
        },
        {
          "output_type": "stream",
          "name": "stdout",
          "text": [
            "Epoch 0: "
          ]
        },
        {
          "output_type": "stream",
          "name": "stderr",
          "text": [
            "100%|██████████| 5/5 [00:21<00:00,  4.31s/it]\n",
            "/usr/local/lib/python3.7/dist-packages/ipykernel_launcher.py:19: UserWarning: To copy construct from a tensor, it is recommended to use sourceTensor.clone().detach() or sourceTensor.clone().detach().requires_grad_(True), rather than torch.tensor(sourceTensor).\n"
          ]
        },
        {
          "output_type": "stream",
          "name": "stdout",
          "text": [
            "PSNR: 13.260 SSIM: 0.557\n",
            "\n",
            "Epoch 1: "
          ]
        },
        {
          "output_type": "stream",
          "name": "stderr",
          "text": [
            "100%|██████████| 5/5 [00:20<00:00,  4.02s/it]\n"
          ]
        },
        {
          "output_type": "stream",
          "name": "stdout",
          "text": [
            "PSNR: 14.894 SSIM: 0.615\n",
            "\n",
            "Epoch 2: "
          ]
        },
        {
          "output_type": "stream",
          "name": "stderr",
          "text": [
            "100%|██████████| 5/5 [00:20<00:00,  4.04s/it]\n"
          ]
        },
        {
          "output_type": "stream",
          "name": "stdout",
          "text": [
            "PSNR: 18.817 SSIM: 0.650\n",
            "\n",
            "Epoch 3: "
          ]
        },
        {
          "output_type": "stream",
          "name": "stderr",
          "text": [
            "100%|██████████| 5/5 [00:21<00:00,  4.20s/it]\n"
          ]
        },
        {
          "output_type": "stream",
          "name": "stdout",
          "text": [
            "PSNR: 19.221 SSIM: 0.567\n",
            "\n",
            "Epoch 4: "
          ]
        },
        {
          "output_type": "stream",
          "name": "stderr",
          "text": [
            "100%|██████████| 5/5 [00:21<00:00,  4.27s/it]\n"
          ]
        },
        {
          "output_type": "stream",
          "name": "stdout",
          "text": [
            "PSNR: 17.936 SSIM: 0.556\n",
            "\n",
            "Epoch 5: "
          ]
        },
        {
          "output_type": "stream",
          "name": "stderr",
          "text": [
            "100%|██████████| 5/5 [00:20<00:00,  4.01s/it]\n"
          ]
        },
        {
          "output_type": "stream",
          "name": "stdout",
          "text": [
            "PSNR: 13.595 SSIM: 0.537\n",
            "\n",
            "Epoch 6: "
          ]
        },
        {
          "output_type": "stream",
          "name": "stderr",
          "text": [
            "100%|██████████| 5/5 [00:21<00:00,  4.33s/it]\n"
          ]
        },
        {
          "output_type": "stream",
          "name": "stdout",
          "text": [
            "PSNR: 10.165 SSIM: 0.483\n",
            "\n",
            "Epoch 7: "
          ]
        },
        {
          "output_type": "stream",
          "name": "stderr",
          "text": [
            "100%|██████████| 5/5 [00:20<00:00,  4.05s/it]\n"
          ]
        },
        {
          "output_type": "stream",
          "name": "stdout",
          "text": [
            "PSNR: 9.514 SSIM: 0.435\n",
            "\n",
            "Epoch 8: "
          ]
        },
        {
          "output_type": "stream",
          "name": "stderr",
          "text": [
            "100%|██████████| 5/5 [00:20<00:00,  4.00s/it]\n"
          ]
        },
        {
          "output_type": "stream",
          "name": "stdout",
          "text": [
            "PSNR: 10.514 SSIM: 0.419\n",
            "\n",
            "Epoch 9: "
          ]
        },
        {
          "output_type": "stream",
          "name": "stderr",
          "text": [
            "100%|██████████| 5/5 [00:17<00:00,  3.54s/it]\n"
          ]
        },
        {
          "output_type": "stream",
          "name": "stdout",
          "text": [
            "PSNR: 12.571 SSIM: 0.444\n",
            "\n",
            "Epoch 10: "
          ]
        },
        {
          "output_type": "stream",
          "name": "stderr",
          "text": [
            "100%|██████████| 5/5 [00:22<00:00,  4.46s/it]\n"
          ]
        },
        {
          "output_type": "stream",
          "name": "stdout",
          "text": [
            "PSNR: 15.610 SSIM: 0.481\n",
            "\n",
            "Epoch 11: "
          ]
        },
        {
          "output_type": "stream",
          "name": "stderr",
          "text": [
            "100%|██████████| 5/5 [00:21<00:00,  4.39s/it]\n"
          ]
        },
        {
          "output_type": "stream",
          "name": "stdout",
          "text": [
            "PSNR: 16.403 SSIM: 0.477\n",
            "\n",
            "Epoch 12: "
          ]
        },
        {
          "output_type": "stream",
          "name": "stderr",
          "text": [
            "100%|██████████| 5/5 [00:17<00:00,  3.58s/it]\n"
          ]
        },
        {
          "output_type": "stream",
          "name": "stdout",
          "text": [
            "PSNR: 16.157 SSIM: 0.451\n",
            "\n",
            "Epoch 13: "
          ]
        },
        {
          "output_type": "stream",
          "name": "stderr",
          "text": [
            "100%|██████████| 5/5 [00:21<00:00,  4.31s/it]\n"
          ]
        },
        {
          "output_type": "stream",
          "name": "stdout",
          "text": [
            "PSNR: 14.606 SSIM: 0.411\n",
            "\n",
            "Epoch 14: "
          ]
        },
        {
          "output_type": "stream",
          "name": "stderr",
          "text": [
            "100%|██████████| 5/5 [00:19<00:00,  3.98s/it]\n"
          ]
        },
        {
          "output_type": "stream",
          "name": "stdout",
          "text": [
            "PSNR: 12.189 SSIM: 0.369\n",
            "\n",
            "Epoch 15: "
          ]
        },
        {
          "output_type": "stream",
          "name": "stderr",
          "text": [
            "100%|██████████| 5/5 [00:16<00:00,  3.40s/it]\n"
          ]
        },
        {
          "output_type": "stream",
          "name": "stdout",
          "text": [
            "PSNR: 11.432 SSIM: 0.346\n",
            "\n",
            "Epoch 16: "
          ]
        },
        {
          "output_type": "stream",
          "name": "stderr",
          "text": [
            "100%|██████████| 5/5 [00:15<00:00,  3.11s/it]\n"
          ]
        },
        {
          "output_type": "stream",
          "name": "stdout",
          "text": [
            "PSNR: 11.118 SSIM: 0.334\n",
            "\n",
            "Epoch 17: "
          ]
        },
        {
          "output_type": "stream",
          "name": "stderr",
          "text": [
            "100%|██████████| 5/5 [00:16<00:00,  3.35s/it]\n"
          ]
        },
        {
          "output_type": "stream",
          "name": "stdout",
          "text": [
            "PSNR: 11.308 SSIM: 0.315\n",
            "\n",
            "Epoch 18: "
          ]
        },
        {
          "output_type": "stream",
          "name": "stderr",
          "text": [
            "100%|██████████| 5/5 [00:16<00:00,  3.26s/it]\n"
          ]
        },
        {
          "output_type": "stream",
          "name": "stdout",
          "text": [
            "PSNR: 12.008 SSIM: 0.279\n",
            "\n",
            "Epoch 19: "
          ]
        },
        {
          "output_type": "stream",
          "name": "stderr",
          "text": [
            "100%|██████████| 5/5 [00:18<00:00,  3.73s/it]\n"
          ]
        },
        {
          "output_type": "stream",
          "name": "stdout",
          "text": [
            "PSNR: 11.456 SSIM: 0.237\n",
            "\n",
            "Epoch 20: "
          ]
        },
        {
          "output_type": "stream",
          "name": "stderr",
          "text": [
            "100%|██████████| 5/5 [00:16<00:00,  3.37s/it]\n"
          ]
        },
        {
          "output_type": "stream",
          "name": "stdout",
          "text": [
            "PSNR: 14.048 SSIM: 0.204\n",
            "\n",
            "Epoch 21: "
          ]
        },
        {
          "output_type": "stream",
          "name": "stderr",
          "text": [
            "100%|██████████| 5/5 [00:14<00:00,  2.87s/it]\n"
          ]
        },
        {
          "output_type": "stream",
          "name": "stdout",
          "text": [
            "PSNR: 10.858 SSIM: 0.168\n",
            "\n",
            "Epoch 22: "
          ]
        },
        {
          "output_type": "stream",
          "name": "stderr",
          "text": [
            "100%|██████████| 5/5 [00:21<00:00,  4.21s/it]\n"
          ]
        },
        {
          "output_type": "stream",
          "name": "stdout",
          "text": [
            "PSNR: 10.403 SSIM: 0.167\n",
            "\n",
            "Epoch 23: "
          ]
        },
        {
          "output_type": "stream",
          "name": "stderr",
          "text": [
            "100%|██████████| 5/5 [00:15<00:00,  3.16s/it]\n"
          ]
        },
        {
          "output_type": "stream",
          "name": "stdout",
          "text": [
            "PSNR: 13.203 SSIM: 0.188\n",
            "\n",
            "Epoch 24: "
          ]
        },
        {
          "output_type": "stream",
          "name": "stderr",
          "text": [
            "100%|██████████| 5/5 [00:18<00:00,  3.65s/it]\n"
          ]
        },
        {
          "output_type": "stream",
          "name": "stdout",
          "text": [
            "PSNR: 13.417 SSIM: 0.211\n",
            "\n",
            "Epoch 25: "
          ]
        },
        {
          "output_type": "stream",
          "name": "stderr",
          "text": [
            "100%|██████████| 5/5 [00:17<00:00,  3.52s/it]\n"
          ]
        },
        {
          "output_type": "stream",
          "name": "stdout",
          "text": [
            "PSNR: 12.051 SSIM: 0.223\n",
            "\n",
            "Epoch 26: "
          ]
        },
        {
          "output_type": "stream",
          "name": "stderr",
          "text": [
            "100%|██████████| 5/5 [00:15<00:00,  3.12s/it]\n"
          ]
        },
        {
          "output_type": "stream",
          "name": "stdout",
          "text": [
            "PSNR: 11.674 SSIM: 0.245\n",
            "\n",
            "Epoch 27: "
          ]
        },
        {
          "output_type": "stream",
          "name": "stderr",
          "text": [
            "100%|██████████| 5/5 [00:15<00:00,  3.15s/it]\n"
          ]
        },
        {
          "output_type": "stream",
          "name": "stdout",
          "text": [
            "PSNR: 11.675 SSIM: 0.304\n",
            "\n",
            "Epoch 28: "
          ]
        },
        {
          "output_type": "stream",
          "name": "stderr",
          "text": [
            "100%|██████████| 5/5 [00:16<00:00,  3.33s/it]\n"
          ]
        },
        {
          "output_type": "stream",
          "name": "stdout",
          "text": [
            "PSNR: 12.608 SSIM: 0.379\n",
            "\n",
            "Epoch 29: "
          ]
        },
        {
          "output_type": "stream",
          "name": "stderr",
          "text": [
            "100%|██████████| 5/5 [00:14<00:00,  2.89s/it]\n"
          ]
        },
        {
          "output_type": "stream",
          "name": "stdout",
          "text": [
            "PSNR: 15.278 SSIM: 0.519\n",
            "\n",
            "Epoch 30: "
          ]
        },
        {
          "output_type": "stream",
          "name": "stderr",
          "text": [
            "100%|██████████| 5/5 [00:15<00:00,  3.06s/it]\n"
          ]
        },
        {
          "output_type": "stream",
          "name": "stdout",
          "text": [
            "PSNR: 22.294 SSIM: 0.804\n",
            "\n",
            "Epoch 31: "
          ]
        },
        {
          "output_type": "stream",
          "name": "stderr",
          "text": [
            "100%|██████████| 5/5 [00:15<00:00,  3.05s/it]\n"
          ]
        },
        {
          "output_type": "stream",
          "name": "stdout",
          "text": [
            "PSNR: 20.586 SSIM: 0.664\n",
            "\n",
            "Epoch 32: "
          ]
        },
        {
          "output_type": "stream",
          "name": "stderr",
          "text": [
            "100%|██████████| 5/5 [00:18<00:00,  3.64s/it]\n"
          ]
        },
        {
          "output_type": "stream",
          "name": "stdout",
          "text": [
            "PSNR: 26.960 SSIM: 0.894\n",
            "\n",
            "Epoch 33: "
          ]
        },
        {
          "output_type": "stream",
          "name": "stderr",
          "text": [
            "100%|██████████| 5/5 [00:15<00:00,  3.00s/it]\n"
          ]
        },
        {
          "output_type": "stream",
          "name": "stdout",
          "text": [
            "PSNR: 14.856 SSIM: 0.638\n",
            "\n",
            "Epoch 34: "
          ]
        },
        {
          "output_type": "stream",
          "name": "stderr",
          "text": [
            "100%|██████████| 5/5 [00:16<00:00,  3.24s/it]\n"
          ]
        },
        {
          "output_type": "stream",
          "name": "stdout",
          "text": [
            "PSNR: 13.131 SSIM: 0.589\n",
            "\n",
            "Epoch 35: "
          ]
        },
        {
          "output_type": "stream",
          "name": "stderr",
          "text": [
            "100%|██████████| 5/5 [00:18<00:00,  3.74s/it]\n"
          ]
        },
        {
          "output_type": "stream",
          "name": "stdout",
          "text": [
            "PSNR: 14.525 SSIM: 0.631\n",
            "\n",
            "Epoch 36: "
          ]
        },
        {
          "output_type": "stream",
          "name": "stderr",
          "text": [
            "100%|██████████| 5/5 [00:15<00:00,  3.00s/it]\n"
          ]
        },
        {
          "output_type": "stream",
          "name": "stdout",
          "text": [
            "PSNR: 22.278 SSIM: 0.834\n",
            "\n",
            "Epoch 37: "
          ]
        },
        {
          "output_type": "stream",
          "name": "stderr",
          "text": [
            "100%|██████████| 5/5 [00:16<00:00,  3.29s/it]\n"
          ]
        },
        {
          "output_type": "stream",
          "name": "stdout",
          "text": [
            "PSNR: 28.552 SSIM: 0.919\n",
            "\n",
            "Epoch 38: "
          ]
        },
        {
          "output_type": "stream",
          "name": "stderr",
          "text": [
            "100%|██████████| 5/5 [00:15<00:00,  3.17s/it]\n"
          ]
        },
        {
          "output_type": "stream",
          "name": "stdout",
          "text": [
            "PSNR: 26.892 SSIM: 0.915\n",
            "\n",
            "Epoch 39: "
          ]
        },
        {
          "output_type": "stream",
          "name": "stderr",
          "text": [
            "100%|██████████| 5/5 [00:14<00:00,  2.83s/it]\n"
          ]
        },
        {
          "output_type": "stream",
          "name": "stdout",
          "text": [
            "PSNR: 24.748 SSIM: 0.896\n",
            "\n",
            "Epoch 40: "
          ]
        },
        {
          "output_type": "stream",
          "name": "stderr",
          "text": [
            "100%|██████████| 5/5 [00:14<00:00,  2.84s/it]\n"
          ]
        },
        {
          "output_type": "stream",
          "name": "stdout",
          "text": [
            "PSNR: 16.478 SSIM: 0.569\n",
            "\n",
            "Epoch 41: "
          ]
        },
        {
          "output_type": "stream",
          "name": "stderr",
          "text": [
            "100%|██████████| 5/5 [00:16<00:00,  3.36s/it]\n"
          ]
        },
        {
          "output_type": "stream",
          "name": "stdout",
          "text": [
            "PSNR: 12.343 SSIM: 0.265\n",
            "\n",
            "Epoch 42: "
          ]
        },
        {
          "output_type": "stream",
          "name": "stderr",
          "text": [
            "100%|██████████| 5/5 [00:15<00:00,  3.13s/it]\n"
          ]
        },
        {
          "output_type": "stream",
          "name": "stdout",
          "text": [
            "PSNR: 13.056 SSIM: 0.104\n",
            "\n",
            "Epoch 43: "
          ]
        },
        {
          "output_type": "stream",
          "name": "stderr",
          "text": [
            "100%|██████████| 5/5 [00:13<00:00,  2.79s/it]\n"
          ]
        },
        {
          "output_type": "stream",
          "name": "stdout",
          "text": [
            "PSNR: 12.756 SSIM: 0.263\n",
            "\n",
            "Epoch 44: "
          ]
        },
        {
          "output_type": "stream",
          "name": "stderr",
          "text": [
            "100%|██████████| 5/5 [00:18<00:00,  3.62s/it]\n"
          ]
        },
        {
          "output_type": "stream",
          "name": "stdout",
          "text": [
            "PSNR: 12.955 SSIM: 0.342\n",
            "\n",
            "Epoch 45: "
          ]
        },
        {
          "output_type": "stream",
          "name": "stderr",
          "text": [
            "100%|██████████| 5/5 [00:14<00:00,  2.99s/it]\n"
          ]
        },
        {
          "output_type": "stream",
          "name": "stdout",
          "text": [
            "PSNR: 13.530 SSIM: 0.374\n",
            "\n",
            "Epoch 46: "
          ]
        },
        {
          "output_type": "stream",
          "name": "stderr",
          "text": [
            "100%|██████████| 5/5 [00:15<00:00,  3.07s/it]\n"
          ]
        },
        {
          "output_type": "stream",
          "name": "stdout",
          "text": [
            "PSNR: 14.582 SSIM: 0.424\n",
            "\n",
            "Epoch 47: "
          ]
        },
        {
          "output_type": "stream",
          "name": "stderr",
          "text": [
            "100%|██████████| 5/5 [00:18<00:00,  3.63s/it]\n"
          ]
        },
        {
          "output_type": "stream",
          "name": "stdout",
          "text": [
            "PSNR: 14.969 SSIM: 0.449\n",
            "\n",
            "Epoch 48: "
          ]
        },
        {
          "output_type": "stream",
          "name": "stderr",
          "text": [
            "100%|██████████| 5/5 [00:17<00:00,  3.50s/it]\n"
          ]
        },
        {
          "output_type": "stream",
          "name": "stdout",
          "text": [
            "PSNR: 12.819 SSIM: 0.349\n",
            "\n",
            "Epoch 49: "
          ]
        },
        {
          "output_type": "stream",
          "name": "stderr",
          "text": [
            "100%|██████████| 5/5 [00:16<00:00,  3.30s/it]\n"
          ]
        },
        {
          "output_type": "stream",
          "name": "stdout",
          "text": [
            "PSNR: 12.828 SSIM: 0.318\n",
            "\n",
            "Epoch 50: "
          ]
        },
        {
          "output_type": "stream",
          "name": "stderr",
          "text": [
            "100%|██████████| 5/5 [00:17<00:00,  3.54s/it]\n"
          ]
        },
        {
          "output_type": "stream",
          "name": "stdout",
          "text": [
            "PSNR: 15.749 SSIM: 0.494\n",
            "\n",
            "Epoch 51: "
          ]
        },
        {
          "output_type": "stream",
          "name": "stderr",
          "text": [
            "100%|██████████| 5/5 [00:16<00:00,  3.33s/it]\n"
          ]
        },
        {
          "output_type": "stream",
          "name": "stdout",
          "text": [
            "PSNR: 15.464 SSIM: 0.494\n",
            "\n",
            "Epoch 52: "
          ]
        },
        {
          "output_type": "stream",
          "name": "stderr",
          "text": [
            "100%|██████████| 5/5 [00:17<00:00,  3.45s/it]\n"
          ]
        },
        {
          "output_type": "stream",
          "name": "stdout",
          "text": [
            "PSNR: 15.858 SSIM: 0.497\n",
            "\n",
            "Epoch 53: "
          ]
        },
        {
          "output_type": "stream",
          "name": "stderr",
          "text": [
            "100%|██████████| 5/5 [00:17<00:00,  3.55s/it]\n"
          ]
        },
        {
          "output_type": "stream",
          "name": "stdout",
          "text": [
            "PSNR: 14.433 SSIM: 0.323\n",
            "\n",
            "Epoch 54: "
          ]
        },
        {
          "output_type": "stream",
          "name": "stderr",
          "text": [
            "100%|██████████| 5/5 [00:17<00:00,  3.44s/it]\n"
          ]
        },
        {
          "output_type": "stream",
          "name": "stdout",
          "text": [
            "PSNR: 15.326 SSIM: 0.234\n",
            "\n",
            "Epoch 55: "
          ]
        },
        {
          "output_type": "stream",
          "name": "stderr",
          "text": [
            "100%|██████████| 5/5 [00:15<00:00,  3.16s/it]\n"
          ]
        },
        {
          "output_type": "stream",
          "name": "stdout",
          "text": [
            "PSNR: 14.254 SSIM: 0.130\n",
            "\n",
            "Epoch 56: "
          ]
        },
        {
          "output_type": "stream",
          "name": "stderr",
          "text": [
            "100%|██████████| 5/5 [00:15<00:00,  3.03s/it]\n"
          ]
        },
        {
          "output_type": "stream",
          "name": "stdout",
          "text": [
            "PSNR: 14.713 SSIM: 0.063\n",
            "\n",
            "Epoch 57: "
          ]
        },
        {
          "output_type": "stream",
          "name": "stderr",
          "text": [
            "100%|██████████| 5/5 [00:15<00:00,  3.02s/it]\n"
          ]
        },
        {
          "output_type": "stream",
          "name": "stdout",
          "text": [
            "PSNR: 14.497 SSIM: 0.119\n",
            "\n",
            "Epoch 58: "
          ]
        },
        {
          "output_type": "stream",
          "name": "stderr",
          "text": [
            "100%|██████████| 5/5 [00:16<00:00,  3.26s/it]\n"
          ]
        },
        {
          "output_type": "stream",
          "name": "stdout",
          "text": [
            "PSNR: 14.816 SSIM: 0.193\n",
            "\n",
            "Epoch 59: "
          ]
        },
        {
          "output_type": "stream",
          "name": "stderr",
          "text": [
            "100%|██████████| 5/5 [00:17<00:00,  3.48s/it]\n"
          ]
        },
        {
          "output_type": "stream",
          "name": "stdout",
          "text": [
            "PSNR: 16.033 SSIM: 0.236\n",
            "\n",
            "Epoch 60: "
          ]
        },
        {
          "output_type": "stream",
          "name": "stderr",
          "text": [
            "100%|██████████| 5/5 [00:16<00:00,  3.32s/it]\n"
          ]
        },
        {
          "output_type": "stream",
          "name": "stdout",
          "text": [
            "PSNR: 16.494 SSIM: 0.215\n",
            "\n",
            "Epoch 61: "
          ]
        },
        {
          "output_type": "stream",
          "name": "stderr",
          "text": [
            "100%|██████████| 5/5 [00:18<00:00,  3.76s/it]\n"
          ]
        },
        {
          "output_type": "stream",
          "name": "stdout",
          "text": [
            "PSNR: 16.155 SSIM: 0.143\n",
            "\n",
            "Epoch 62: "
          ]
        },
        {
          "output_type": "stream",
          "name": "stderr",
          "text": [
            "100%|██████████| 5/5 [00:19<00:00,  3.86s/it]\n"
          ]
        },
        {
          "output_type": "stream",
          "name": "stdout",
          "text": [
            "PSNR: 15.590 SSIM: 0.114\n",
            "\n",
            "Epoch 63: "
          ]
        },
        {
          "output_type": "stream",
          "name": "stderr",
          "text": [
            "100%|██████████| 5/5 [00:14<00:00,  2.99s/it]\n"
          ]
        },
        {
          "output_type": "stream",
          "name": "stdout",
          "text": [
            "PSNR: 15.843 SSIM: 0.099\n",
            "\n",
            "Epoch 64: "
          ]
        },
        {
          "output_type": "stream",
          "name": "stderr",
          "text": [
            "100%|██████████| 5/5 [00:14<00:00,  2.90s/it]\n"
          ]
        },
        {
          "output_type": "stream",
          "name": "stdout",
          "text": [
            "PSNR: 16.445 SSIM: 0.079\n",
            "\n",
            "Epoch 65: "
          ]
        },
        {
          "output_type": "stream",
          "name": "stderr",
          "text": [
            "100%|██████████| 5/5 [00:20<00:00,  4.13s/it]\n"
          ]
        },
        {
          "output_type": "stream",
          "name": "stdout",
          "text": [
            "PSNR: 16.548 SSIM: 0.090\n",
            "\n",
            "Epoch 66: "
          ]
        },
        {
          "output_type": "stream",
          "name": "stderr",
          "text": [
            "100%|██████████| 5/5 [00:22<00:00,  4.57s/it]\n"
          ]
        },
        {
          "output_type": "stream",
          "name": "stdout",
          "text": [
            "PSNR: 16.373 SSIM: 0.084\n",
            "\n",
            "Epoch 67: "
          ]
        },
        {
          "output_type": "stream",
          "name": "stderr",
          "text": [
            "100%|██████████| 5/5 [00:20<00:00,  4.08s/it]\n"
          ]
        },
        {
          "output_type": "stream",
          "name": "stdout",
          "text": [
            "PSNR: 16.672 SSIM: 0.087\n",
            "\n",
            "Epoch 68: "
          ]
        },
        {
          "output_type": "stream",
          "name": "stderr",
          "text": [
            "100%|██████████| 5/5 [00:18<00:00,  3.68s/it]\n"
          ]
        },
        {
          "output_type": "stream",
          "name": "stdout",
          "text": [
            "PSNR: 17.103 SSIM: 0.128\n",
            "\n",
            "Epoch 69: "
          ]
        },
        {
          "output_type": "stream",
          "name": "stderr",
          "text": [
            "100%|██████████| 5/5 [00:19<00:00,  3.96s/it]\n"
          ]
        },
        {
          "output_type": "stream",
          "name": "stdout",
          "text": [
            "PSNR: 21.888 SSIM: 0.645\n",
            "\n",
            "Epoch 70: "
          ]
        },
        {
          "output_type": "stream",
          "name": "stderr",
          "text": [
            "100%|██████████| 5/5 [00:16<00:00,  3.24s/it]\n"
          ]
        },
        {
          "output_type": "stream",
          "name": "stdout",
          "text": [
            "PSNR: 18.560 SSIM: 0.591\n",
            "\n",
            "Epoch 71: "
          ]
        },
        {
          "output_type": "stream",
          "name": "stderr",
          "text": [
            "100%|██████████| 5/5 [00:22<00:00,  4.40s/it]\n"
          ]
        },
        {
          "output_type": "stream",
          "name": "stdout",
          "text": [
            "PSNR: 24.976 SSIM: 0.659\n",
            "\n",
            "Epoch 72: "
          ]
        },
        {
          "output_type": "stream",
          "name": "stderr",
          "text": [
            "100%|██████████| 5/5 [00:20<00:00,  4.20s/it]\n"
          ]
        },
        {
          "output_type": "stream",
          "name": "stdout",
          "text": [
            "PSNR: 20.667 SSIM: 0.508\n",
            "\n",
            "Epoch 73: "
          ]
        },
        {
          "output_type": "stream",
          "name": "stderr",
          "text": [
            "100%|██████████| 5/5 [00:23<00:00,  4.67s/it]\n"
          ]
        },
        {
          "output_type": "stream",
          "name": "stdout",
          "text": [
            "PSNR: 19.519 SSIM: 0.407\n",
            "\n",
            "Epoch 74: "
          ]
        },
        {
          "output_type": "stream",
          "name": "stderr",
          "text": [
            "100%|██████████| 5/5 [00:17<00:00,  3.55s/it]\n"
          ]
        },
        {
          "output_type": "stream",
          "name": "stdout",
          "text": [
            "PSNR: 16.372 SSIM: 0.274\n",
            "\n",
            "Epoch 75: "
          ]
        },
        {
          "output_type": "stream",
          "name": "stderr",
          "text": [
            "100%|██████████| 5/5 [00:21<00:00,  4.25s/it]\n"
          ]
        },
        {
          "output_type": "stream",
          "name": "stdout",
          "text": [
            "PSNR: 12.780 SSIM: 0.128\n",
            "\n",
            "Epoch 76: "
          ]
        },
        {
          "output_type": "stream",
          "name": "stderr",
          "text": [
            "100%|██████████| 5/5 [00:20<00:00,  4.05s/it]\n"
          ]
        },
        {
          "output_type": "stream",
          "name": "stdout",
          "text": [
            "PSNR: 12.804 SSIM: 0.108\n",
            "\n",
            "Epoch 77: "
          ]
        },
        {
          "output_type": "stream",
          "name": "stderr",
          "text": [
            "100%|██████████| 5/5 [00:17<00:00,  3.60s/it]\n"
          ]
        },
        {
          "output_type": "stream",
          "name": "stdout",
          "text": [
            "PSNR: 13.315 SSIM: 0.128\n",
            "\n",
            "Epoch 78: "
          ]
        },
        {
          "output_type": "stream",
          "name": "stderr",
          "text": [
            "100%|██████████| 5/5 [00:19<00:00,  3.89s/it]\n"
          ]
        },
        {
          "output_type": "stream",
          "name": "stdout",
          "text": [
            "PSNR: 13.969 SSIM: 0.188\n",
            "\n",
            "Epoch 79: "
          ]
        },
        {
          "output_type": "stream",
          "name": "stderr",
          "text": [
            "100%|██████████| 5/5 [00:21<00:00,  4.32s/it]\n"
          ]
        },
        {
          "output_type": "stream",
          "name": "stdout",
          "text": [
            "PSNR: 14.526 SSIM: 0.185\n",
            "\n",
            "Epoch 80: "
          ]
        },
        {
          "output_type": "stream",
          "name": "stderr",
          "text": [
            "100%|██████████| 5/5 [00:21<00:00,  4.26s/it]\n"
          ]
        },
        {
          "output_type": "stream",
          "name": "stdout",
          "text": [
            "PSNR: 15.204 SSIM: 0.245\n",
            "\n",
            "Epoch 81: "
          ]
        },
        {
          "output_type": "stream",
          "name": "stderr",
          "text": [
            "100%|██████████| 5/5 [00:20<00:00,  4.04s/it]\n"
          ]
        },
        {
          "output_type": "stream",
          "name": "stdout",
          "text": [
            "PSNR: 15.721 SSIM: 0.263\n",
            "\n",
            "Epoch 82: "
          ]
        },
        {
          "output_type": "stream",
          "name": "stderr",
          "text": [
            "100%|██████████| 5/5 [00:18<00:00,  3.79s/it]\n"
          ]
        },
        {
          "output_type": "stream",
          "name": "stdout",
          "text": [
            "PSNR: 16.035 SSIM: 0.273\n",
            "\n",
            "Epoch 83: "
          ]
        },
        {
          "output_type": "stream",
          "name": "stderr",
          "text": [
            "100%|██████████| 5/5 [00:20<00:00,  4.19s/it]\n"
          ]
        },
        {
          "output_type": "stream",
          "name": "stdout",
          "text": [
            "PSNR: 16.168 SSIM: 0.276\n",
            "\n",
            "Epoch 84: "
          ]
        },
        {
          "output_type": "stream",
          "name": "stderr",
          "text": [
            "100%|██████████| 5/5 [00:19<00:00,  3.85s/it]\n"
          ]
        },
        {
          "output_type": "stream",
          "name": "stdout",
          "text": [
            "PSNR: 16.023 SSIM: 0.269\n",
            "\n",
            "Epoch 85: "
          ]
        },
        {
          "output_type": "stream",
          "name": "stderr",
          "text": [
            "100%|██████████| 5/5 [00:18<00:00,  3.64s/it]\n"
          ]
        },
        {
          "output_type": "stream",
          "name": "stdout",
          "text": [
            "PSNR: 15.520 SSIM: 0.239\n",
            "\n",
            "Epoch 86: "
          ]
        },
        {
          "output_type": "stream",
          "name": "stderr",
          "text": [
            "100%|██████████| 5/5 [00:19<00:00,  3.95s/it]\n"
          ]
        },
        {
          "output_type": "stream",
          "name": "stdout",
          "text": [
            "PSNR: 15.090 SSIM: 0.226\n",
            "\n",
            "Epoch 87: "
          ]
        },
        {
          "output_type": "stream",
          "name": "stderr",
          "text": [
            "100%|██████████| 5/5 [00:18<00:00,  3.62s/it]\n"
          ]
        },
        {
          "output_type": "stream",
          "name": "stdout",
          "text": [
            "PSNR: 14.826 SSIM: 0.206\n",
            "\n",
            "Epoch 88: "
          ]
        },
        {
          "output_type": "stream",
          "name": "stderr",
          "text": [
            "100%|██████████| 5/5 [00:14<00:00,  3.00s/it]\n"
          ]
        },
        {
          "output_type": "stream",
          "name": "stdout",
          "text": [
            "PSNR: 14.926 SSIM: 0.196\n",
            "\n",
            "Epoch 89: "
          ]
        },
        {
          "output_type": "stream",
          "name": "stderr",
          "text": [
            "100%|██████████| 5/5 [00:16<00:00,  3.27s/it]\n"
          ]
        },
        {
          "output_type": "stream",
          "name": "stdout",
          "text": [
            "PSNR: 15.201 SSIM: 0.198\n",
            "\n",
            "Epoch 90: "
          ]
        },
        {
          "output_type": "stream",
          "name": "stderr",
          "text": [
            "100%|██████████| 5/5 [00:17<00:00,  3.45s/it]\n"
          ]
        },
        {
          "output_type": "stream",
          "name": "stdout",
          "text": [
            "PSNR: 14.736 SSIM: 0.146\n",
            "\n",
            "Epoch 91: "
          ]
        },
        {
          "output_type": "stream",
          "name": "stderr",
          "text": [
            "100%|██████████| 5/5 [00:19<00:00,  3.94s/it]\n"
          ]
        },
        {
          "output_type": "stream",
          "name": "stdout",
          "text": [
            "PSNR: 14.596 SSIM: 0.040\n",
            "\n",
            "Epoch 92: "
          ]
        },
        {
          "output_type": "stream",
          "name": "stderr",
          "text": [
            "100%|██████████| 5/5 [00:16<00:00,  3.40s/it]\n"
          ]
        },
        {
          "output_type": "stream",
          "name": "stdout",
          "text": [
            "PSNR: 16.900 SSIM: 0.012\n",
            "\n",
            "Epoch 93: "
          ]
        },
        {
          "output_type": "stream",
          "name": "stderr",
          "text": [
            "100%|██████████| 5/5 [00:18<00:00,  3.77s/it]\n"
          ]
        },
        {
          "output_type": "stream",
          "name": "stdout",
          "text": [
            "PSNR: 16.900 SSIM: 0.012\n",
            "\n",
            "Epoch 94: "
          ]
        },
        {
          "output_type": "stream",
          "name": "stderr",
          "text": [
            "100%|██████████| 5/5 [00:20<00:00,  4.12s/it]\n"
          ]
        },
        {
          "output_type": "stream",
          "name": "stdout",
          "text": [
            "PSNR: 16.900 SSIM: 0.012\n",
            "\n",
            "Epoch 95: "
          ]
        },
        {
          "output_type": "stream",
          "name": "stderr",
          "text": [
            "100%|██████████| 5/5 [00:20<00:00,  4.14s/it]\n"
          ]
        },
        {
          "output_type": "stream",
          "name": "stdout",
          "text": [
            "PSNR: 16.900 SSIM: 0.012\n",
            "\n",
            "Epoch 96: "
          ]
        },
        {
          "output_type": "stream",
          "name": "stderr",
          "text": [
            "100%|██████████| 5/5 [00:18<00:00,  3.78s/it]\n"
          ]
        },
        {
          "output_type": "stream",
          "name": "stdout",
          "text": [
            "PSNR: 16.900 SSIM: 0.012\n",
            "\n",
            "Epoch 97: "
          ]
        },
        {
          "output_type": "stream",
          "name": "stderr",
          "text": [
            "100%|██████████| 5/5 [00:19<00:00,  3.84s/it]\n"
          ]
        },
        {
          "output_type": "stream",
          "name": "stdout",
          "text": [
            "PSNR: 16.900 SSIM: 0.012\n",
            "\n",
            "Epoch 98: "
          ]
        },
        {
          "output_type": "stream",
          "name": "stderr",
          "text": [
            "100%|██████████| 5/5 [00:18<00:00,  3.76s/it]\n"
          ]
        },
        {
          "output_type": "stream",
          "name": "stdout",
          "text": [
            "PSNR: 16.900 SSIM: 0.012\n",
            "\n",
            "Epoch 99: "
          ]
        },
        {
          "output_type": "stream",
          "name": "stderr",
          "text": [
            "100%|██████████| 5/5 [00:23<00:00,  4.66s/it]\n"
          ]
        },
        {
          "output_type": "stream",
          "name": "stdout",
          "text": [
            "PSNR: 16.900 SSIM: 0.012\n",
            "\n",
            "Epoch 100: "
          ]
        },
        {
          "output_type": "stream",
          "name": "stderr",
          "text": [
            "100%|██████████| 5/5 [00:17<00:00,  3.46s/it]\n"
          ]
        },
        {
          "output_type": "stream",
          "name": "stdout",
          "text": [
            "PSNR: 16.900 SSIM: 0.012\n",
            "\n",
            "Epoch 101: "
          ]
        },
        {
          "output_type": "stream",
          "name": "stderr",
          "text": [
            "100%|██████████| 5/5 [00:18<00:00,  3.78s/it]\n"
          ]
        },
        {
          "output_type": "stream",
          "name": "stdout",
          "text": [
            "PSNR: 16.900 SSIM: 0.012\n",
            "\n",
            "Epoch 102: "
          ]
        },
        {
          "output_type": "stream",
          "name": "stderr",
          "text": [
            "100%|██████████| 5/5 [00:18<00:00,  3.69s/it]\n"
          ]
        },
        {
          "output_type": "stream",
          "name": "stdout",
          "text": [
            "PSNR: 16.900 SSIM: 0.012\n",
            "\n",
            "Epoch 103: "
          ]
        },
        {
          "output_type": "stream",
          "name": "stderr",
          "text": [
            " 60%|██████    | 3/5 [00:15<00:10,  5.16s/it]"
          ]
        }
      ]
    },
    {
      "cell_type": "code",
      "source": [
        "!ps -aux|grep python"
      ],
      "metadata": {
        "id": "OxJKyx9QTZOi"
      },
      "execution_count": null,
      "outputs": []
    },
    {
      "cell_type": "code",
      "source": [
        "!kill -9 1063"
      ],
      "metadata": {
        "id": "o09sRnAaKoCT"
      },
      "execution_count": null,
      "outputs": []
    },
    {
      "cell_type": "code",
      "source": [
        "with torch.no_grad():\n",
        "    torch.cuda.empty_cache()"
      ],
      "metadata": {
        "id": "VL5hv2Eadkzh"
      },
      "execution_count": null,
      "outputs": []
    },
    {
      "cell_type": "code",
      "source": [
        "!nvidia-smi"
      ],
      "metadata": {
        "id": "HBxK0187dmHx"
      },
      "execution_count": null,
      "outputs": []
    },
    {
      "cell_type": "markdown",
      "source": [
        "## VAE"
      ],
      "metadata": {
        "id": "0gtREWaHhnfG"
      }
    },
    {
      "cell_type": "code",
      "source": [
        "generator = RRDBNet(1, 1, 64, 4)\n",
        "generator = generator.to(\"cuda\")\n",
        "optim_G = torch.optim.Adam(generator.parameters(), lr=0.0001)"
      ],
      "metadata": {
        "id": "tT_fggMveAnt"
      },
      "execution_count": null,
      "outputs": []
    },
    {
      "cell_type": "code",
      "source": [
        "wandb.init(project=\"vae\")\n",
        "for epoch in range(1, 10):\n",
        "    print(\"Training for epoch\",epoch)\n",
        "    generator.train()\n",
        "    start_index = 0\n",
        "    for batchIndex in range(0,num_iterations):\n",
        "      print(\"iteration\", batchIndex)\n",
        "      end_index = min(start_index+10,len(train_lr_dataset))\n",
        "      #training generator\n",
        "      optim_G.zero_grad()\n",
        "      batch_lr = train_preprocess_function(train_lr_dataset[start_index:end_index])\n",
        "      batch_hr = train_preprocess_function(train_hr_dataset[start_index:end_index])\n",
        "      start_index = end_index\n",
        "      #batch_lr = \n",
        "      lr_images = batch_lr.to(\"cuda\")\n",
        "      hr_images = batch_hr.to(\"cuda\")\n",
        "      predicted_hr_images = generator(lr_images)\n",
        "      g_loss = 100.0* F.l1_loss(predicted_hr_images, hr_images)\n",
        "      wandb.log({\"G Loss Total\":g_loss.item()})\n",
        "      g_loss.backward()\n",
        "      optim_G.step()\n",
        "      if batchIndex%5==0:\n",
        "        grid1 = make_grid(lr_images[0:3])\n",
        "        grid2 = make_grid(hr_images[0:3])\n",
        "        grid3 = make_grid(predicted_hr_images[0:3])\n",
        "        grid1 = wandb.Image(grid1, caption=\"Low Resolution Image\")\n",
        "        grid2 = wandb.Image(grid2, caption=\"High Resolution Image\")\n",
        "        grid3 = wandb.Image(grid3, caption=\"Reconstructed High Resolution Image\")\n",
        "        wandb.log({\"Original LR\": grid1})\n",
        "        wandb.log({\"Original HR\": grid2})\n",
        "        wandb.log({\"Reconstruced\": grid3})"
      ],
      "metadata": {
        "id": "sMvhTFPwhvNq"
      },
      "execution_count": null,
      "outputs": []
    },
    {
      "cell_type": "code",
      "source": [
        "\n",
        "\n"
      ],
      "metadata": {
        "id": "EJzElKZskfj4"
      },
      "execution_count": null,
      "outputs": []
    }
  ]
}